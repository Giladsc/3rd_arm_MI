{
 "cells": [
  {
   "cell_type": "markdown",
   "metadata": {},
   "source": [
    "Imports and General Setup"
   ]
  },
  {
   "cell_type": "code",
   "execution_count": 1,
   "metadata": {},
   "outputs": [
    {
     "name": "stdout",
     "output_type": "stream",
     "text": [
      "all available recording files ['Fudge_MI3_1.xdf', 'Fudge_MI3_2.xdf', 'Fudge_MI3_3.xdf', 'Fudge_MI3_4.xdf', 'g_mi_1.xdf', 'g_mi_3.xdf', 'g_mi_4.xdf']\n",
      "only subjects IDS: ['Fudge', 'Fudge', 'Fudge', 'Fudge', 'g', 'g', 'g']\n",
      "filenames:\n",
      " ['Fudge_MI3_1.xdf', 'Fudge_MI3_2.xdf', 'Fudge_MI3_3.xdf', 'Fudge_MI3_4.xdf', 'g_mi_1.xdf', 'g_mi_3.xdf', 'g_mi_4.xdf']\n",
      "names:\n",
      " ['Fudge', 'Fudge', 'Fudge', 'Fudge', 'g', 'g', 'g']\n"
     ]
    }
   ],
   "source": [
    "\n",
    "\n",
    "# Some standard pythonic imports\n",
    "import warnings\n",
    "warnings.filterwarnings('ignore')\n",
    "import logging\n",
    "import os,numpy as np,pandas as pd\n",
    "from collections import OrderedDict\n",
    "import seaborn as sns\n",
    "from matplotlib import pyplot as plt\n",
    "import itertools\n",
    "from tqdm import tqdm\n",
    "import json\n",
    "\n",
    "# MNE library for EEG data analysis\n",
    "import mne\n",
    "from mne import Epochs,find_events\n",
    "from mne.decoding import Vectorizer\n",
    "from mne.io import concatenate_raws, read_raw_edf\n",
    "from mne.datasets import eegbci\n",
    "from mne.decoding import CSP\n",
    "from mne.preprocessing import ICA\n",
    "\n",
    "from autoreject import AutoReject\n",
    "\n",
    "# XDF file format support in MNE\n",
    "import pyxdf\n",
    "from mne_import_xdf import *\n",
    "\n",
    "# Scikit-learn and Pyriemann for feature extraction and machine learning functionalities\n",
    "from sklearn.metrics import f1_score\n",
    "from sklearn.pipeline import make_pipeline, Pipeline\n",
    "from sklearn.linear_model import LogisticRegression\n",
    "from sklearn.preprocessing import StandardScaler\n",
    "from sklearn.discriminant_analysis import LinearDiscriminantAnalysis \n",
    "from sklearn.svm import SVC  # Support Vector Classifier\n",
    "from sklearn.multiclass import OneVsOneClassifier\n",
    "from sklearn.model_selection import ShuffleSplit, cross_val_score,train_test_split\n",
    "from sklearn.metrics import confusion_matrix,ConfusionMatrixDisplay\n",
    "from sklearn.model_selection import cross_val_score, StratifiedShuffleSplit, train_test_split\n",
    "from pyriemann.estimation import ERPCovariances, XdawnCovariances, Xdawn, Covariances\n",
    "from pyriemann.tangentspace import TangentSpace\n",
    "from pyriemann.classification import MDM\n",
    "\n",
    "#import moab to get the filterbank implementation: \n",
    "from moabb.pipelines.utils import FilterBank\n",
    "\n",
    "# For  GUI elements\n",
    "from easygui import *\n",
    "\n",
    "# For path manipulation\n",
    "import pathlib\n",
    "from os import listdir\n",
    "from os.path import isfile, join\n",
    "\n",
    "# For interactive plots\n",
    "import PyQt5\n",
    "from IPython import get_ipython\n",
    "get_ipython().run_line_magic('matplotlib', 'qt')\n",
    "\n",
    "#imports for precision_recall_curve related plot: \n",
    "from sklearn.preprocessing import label_binarize\n",
    "from sklearn.metrics import average_precision_score, precision_recall_curve,PrecisionRecallDisplay\n",
    "from itertools import cycle\n",
    "import matplotlib.pyplot as plt\n",
    "import pickle\n",
    "\n",
    "import copy\n",
    "\n",
    "\n",
    "from braindecode.models import ShallowFBCSPNet\n",
    "from braindecode.datautil import create_from_mne_epochs\n",
    "from braindecode.training import CroppedLoss\n",
    "from braindecode.training.scoring import trial_preds_from_window_preds\n",
    "from torch.optim import Adam\n",
    "from torch.utils.data import DataLoader\n",
    "import torch\n",
    "\n",
    "\n",
    "from preprocessing import *\n",
    "from training import *\n",
    "from evaluation import *\n",
    "\n",
    "# Define paths for data storage and processing\n",
    "current_path = pathlib.Path().absolute()  \n",
    "recording_path = current_path / 'Recordings'\n",
    "figure_outputs_path=current_path / 'Figures'\n",
    "\n",
    "#extract all recorded files and subject names\n",
    "recording_files = [f for f in listdir(recording_path) if isfile(join(recording_path, f)) and ('.xdf' in f)]\n",
    "if not(figure_outputs_path.exists()):\n",
    "    print('the output folder does not exists:  ',figure_outputs_path)\n",
    "\n",
    "\n",
    "print('all available recording files',recording_files)\n",
    "subject_names=[r.split('_')[0] for r in recording_files]\n",
    "print('only subjects IDS:',subject_names)\n",
    "\n",
    "# Initial definitions: \n",
    "\n",
    "print('filenames:\\n',recording_files)\n",
    "print('names:\\n',subject_names)\n",
    "\n",
    "\n",
    "#define the electrode groups: the key can be anything, the values should be a list of electrodes\n",
    "Electorde_Groups = {'FP': ['Fp1', 'Fp2'],\n",
    "                   'AF': ['AF7', 'AF3', 'AFz', 'AF4', 'AF8'],\n",
    "                   'F' : ['F7', 'F5', 'F3', 'F1', 'Fz', 'F2', 'F4', 'F6', 'F8'],\n",
    "                   'FC': ['FC5', 'FC3', 'FC1', 'FC2', 'FC4', 'FC6'],\n",
    "                   'C' : ['C5', 'C3', 'C1', 'Cz', 'C2', 'C4' ,'C6'],\n",
    "                   'CP': ['CP5', 'CP3','CP1', 'CPz', 'CP2', 'CP4', 'CP6'],\n",
    "                   'P' : ['P7','P5','P3', 'P1', 'Pz', 'P2', 'P4', 'P6', 'P8'],\n",
    "                   'PO': ['PO7','PO3', 'POz', 'PO4', 'PO8'],\n",
    "                   'O' : ['Oz', 'O2', 'O1', 'Iz']\n",
    "                  } "
   ]
  },
  {
   "cell_type": "markdown",
   "metadata": {},
   "source": [
    "Create a parameter dictionary "
   ]
  },
  {
   "cell_type": "code",
   "execution_count": 26,
   "metadata": {},
   "outputs": [],
   "source": [
    "params_dict={}\n",
    "params_dict['PerformCsd']=True\n",
    "Electorde_Group_Names='F+FC+C+CP+P'\n",
    "params_dict['Electorde_Group']=[] \n",
    "for cur_elec_group_name in Electorde_Group_Names.split('+'):\n",
    "    params_dict['Electorde_Group']=params_dict['Electorde_Group']+Electorde_Groups[cur_elec_group_name]\n",
    "params_dict['bad_electrodes'] = get_subject_bad_electrodes ('g') # Manually define subject name\n",
    "params_dict['filter_method']='fir'\n",
    "params_dict['epoch_tmins_and_maxes_grid'] = [-4,6]\n",
    "params_dict['epoch_tmin'] = -4\n",
    "params_dict['epoch_tmax'] = 6\n",
    "params_dict['n_components']= 10\n",
    "params_dict['LowPass']=5\n",
    "params_dict['HighPass']=35\n",
    "params_dict['filters_bands']=[[7, 12], [12, 20], [20, 28], [28, 35]]\n",
    "params_dict['augmentation_params']={'win_len': 1, 'win_step': 0.1}\n",
    "params_dict['classifier_window_s']=1\n",
    "params_dict['classifier_window_e']=3\n",
    "params_dict['windowed_prediction_params']={'win_len': 2, 'win_step': 0.1}\n",
    "params_dict['pipeline_name']='csp+lda'\n",
    "params_dict['n_components_fbcsp']=10\n",
    "params_dict['desired_events'] = ['ActiveRest','OpenPalm'] \n"
   ]
  },
  {
   "cell_type": "markdown",
   "metadata": {},
   "source": [
    "Load XDF files and convert to combined mne Raw instance"
   ]
  },
  {
   "cell_type": "code",
   "execution_count": 27,
   "metadata": {},
   "outputs": [],
   "source": [
    "xdf_files = [f for f in recording_path.glob('*.xdf') if 'g_mi' in  f.name] # fill in name to select subject files\n",
    "#OriginalRaw = Load_and_concatenate_xdf(xdf_files)"
   ]
  },
  {
   "cell_type": "code",
   "execution_count": 28,
   "metadata": {},
   "outputs": [
    {
     "name": "stdout",
     "output_type": "stream",
     "text": [
      "Creating RawArray with float64 data, n_channels=67, n_times=329760\n",
      "    Range : 0 ... 329759 =      0.000 ...   659.518 secs\n",
      "Ready.\n",
      "\n",
      "###########################################################\n",
      "removing subject specific bad electrodes from the raw data\n",
      "\n",
      "###########################################################\n",
      "removing bad channels from epochs:\n",
      "EEG channel type selected for re-referencing\n",
      "Applying average reference.\n",
      "Applying a custom ('EEG',) reference.\n",
      "\n",
      "###########################################################\n",
      "not using csd\n",
      "EEG channel type selected for re-referencing\n",
      "Applying average reference.\n",
      "Applying a custom ('EEG',) reference.\n",
      "\n",
      "###########################################################\n",
      "filtering the data\n",
      "Filtering raw data in 1 contiguous segment\n",
      "Setting up band-pass filter from 5 - 35 Hz\n",
      "\n",
      "FIR filter parameters\n",
      "---------------------\n",
      "Designing a one-pass, zero-phase, non-causal bandpass filter:\n",
      "- Windowed time-domain design (firwin) method\n",
      "- Hamming window with 0.0194 passband ripple and 53 dB stopband attenuation\n",
      "- Lower passband edge: 5.00\n",
      "- Lower transition bandwidth: 2.00 Hz (-6 dB cutoff frequency: 4.00 Hz)\n",
      "- Upper passband edge: 35.00 Hz\n",
      "- Upper transition bandwidth: 8.75 Hz (-6 dB cutoff frequency: 39.38 Hz)\n",
      "- Filter length: 825 samples (1.650 s)\n",
      "\n"
     ]
    },
    {
     "name": "stderr",
     "output_type": "stream",
     "text": [
      "[Parallel(n_jobs=1)]: Using backend SequentialBackend with 1 concurrent workers.\n",
      "[Parallel(n_jobs=1)]: Done   1 out of   1 | elapsed:    0.0s remaining:    0.0s\n",
      "[Parallel(n_jobs=1)]: Done   2 out of   2 | elapsed:    0.0s remaining:    0.0s\n",
      "[Parallel(n_jobs=1)]: Done   3 out of   3 | elapsed:    0.0s remaining:    0.0s\n",
      "[Parallel(n_jobs=1)]: Done   4 out of   4 | elapsed:    0.0s remaining:    0.0s\n"
     ]
    },
    {
     "name": "stdout",
     "output_type": "stream",
     "text": [
      "Used Annotations descriptions: ['ActiveRest', 'Beep', 'ClosePalm', 'Long Break', 'OpenPalm', 'Rest']\n",
      "\n",
      "###########################################################\n",
      "extracting event info: {'ActiveRest': 1, 'Beep': 2, 'ClosePalm': 3, 'Long Break': 4, 'OpenPalm': 5, 'Rest': 6}\n",
      "\n",
      "###########################################################\n",
      "epoching + selecting current electodes set for analysis:\n",
      "['F7', 'F5', 'F3', 'F1', 'Fz', 'F2', 'F4', 'F6', 'F8', 'FC5', 'FC3', 'FC1', 'FC2', 'FC4', 'FC6', 'C5', 'C3', 'C1', 'Cz', 'C2', 'C4', 'C6', 'CP5', 'CP3', 'CPz', 'CP2', 'CP4', 'CP6', 'P5', 'P3', 'P1', 'Pz', 'P2', 'P4', 'P6', 'P8']\n",
      "Not setting metadata\n",
      "33 matching events found\n",
      "No baseline correction applied\n",
      "0 projection items activated\n",
      "Using data from preloaded Raw for 33 events and 5001 original time points ...\n",
      "1 bad epochs dropped\n",
      "Fitted sphere radius:         95.0 mm\n",
      "Origin head coordinates:      0.0 -0.0 0.0 mm\n",
      "Origin device coordinates:    0.0 -0.0 0.0 mm\n"
     ]
    },
    {
     "name": "stderr",
     "output_type": "stream",
     "text": [
      "[Parallel(n_jobs=1)]: Done  58 out of  58 | elapsed:    0.4s finished\n"
     ]
    },
    {
     "name": "stdout",
     "output_type": "stream",
     "text": [
      "ActiveRest\n",
      "OpenPalm\n",
      "Not setting metadata\n",
      "32 matching events found\n",
      "No baseline correction applied\n",
      "0 projection items activated\n",
      "\n",
      "###########################################################\n",
      "removing bad channels from epochs:\n",
      "Creating RawArray with float64 data, n_channels=67, n_times=303269\n",
      "    Range : 0 ... 303268 =      0.000 ...   606.536 secs\n",
      "Ready.\n",
      "\n",
      "###########################################################\n",
      "removing subject specific bad electrodes from the raw data\n",
      "\n",
      "###########################################################\n",
      "removing bad channels from epochs:\n",
      "EEG channel type selected for re-referencing\n",
      "Applying average reference.\n",
      "Applying a custom ('EEG',) reference.\n",
      "\n",
      "###########################################################\n",
      "not using csd\n",
      "EEG channel type selected for re-referencing\n",
      "Applying average reference.\n",
      "Applying a custom ('EEG',) reference.\n",
      "\n",
      "###########################################################\n",
      "filtering the data\n",
      "Filtering raw data in 1 contiguous segment\n",
      "Setting up band-pass filter from 5 - 35 Hz\n",
      "\n",
      "FIR filter parameters\n",
      "---------------------\n",
      "Designing a one-pass, zero-phase, non-causal bandpass filter:\n",
      "- Windowed time-domain design (firwin) method\n",
      "- Hamming window with 0.0194 passband ripple and 53 dB stopband attenuation\n",
      "- Lower passband edge: 5.00\n",
      "- Lower transition bandwidth: 2.00 Hz (-6 dB cutoff frequency: 4.00 Hz)\n",
      "- Upper passband edge: 35.00 Hz\n",
      "- Upper transition bandwidth: 8.75 Hz (-6 dB cutoff frequency: 39.38 Hz)\n",
      "- Filter length: 825 samples (1.650 s)\n",
      "\n"
     ]
    },
    {
     "name": "stderr",
     "output_type": "stream",
     "text": [
      "[Parallel(n_jobs=1)]: Using backend SequentialBackend with 1 concurrent workers.\n",
      "[Parallel(n_jobs=1)]: Done   1 out of   1 | elapsed:    0.0s remaining:    0.0s\n",
      "[Parallel(n_jobs=1)]: Done   2 out of   2 | elapsed:    0.0s remaining:    0.0s\n",
      "[Parallel(n_jobs=1)]: Done   3 out of   3 | elapsed:    0.0s remaining:    0.0s\n",
      "[Parallel(n_jobs=1)]: Done   4 out of   4 | elapsed:    0.0s remaining:    0.0s\n"
     ]
    },
    {
     "name": "stdout",
     "output_type": "stream",
     "text": [
      "Used Annotations descriptions: ['ActiveRest', 'Beep', 'ClosePalm', 'Long Break', 'OpenPalm', 'Rest']\n",
      "\n",
      "###########################################################\n",
      "extracting event info: {'ActiveRest': 1, 'Beep': 2, 'ClosePalm': 3, 'Long Break': 4, 'OpenPalm': 5, 'Rest': 6}\n",
      "\n",
      "###########################################################\n",
      "epoching + selecting current electodes set for analysis:\n",
      "['F7', 'F5', 'F3', 'F1', 'Fz', 'F2', 'F4', 'F6', 'F8', 'FC5', 'FC3', 'FC1', 'FC2', 'FC4', 'FC6', 'C5', 'C3', 'C1', 'Cz', 'C2', 'C4', 'C6', 'CP5', 'CP3', 'CPz', 'CP2', 'CP4', 'CP6', 'P5', 'P3', 'P1', 'Pz', 'P2', 'P4', 'P6', 'P8']\n",
      "Not setting metadata\n",
      "32 matching events found\n",
      "No baseline correction applied\n",
      "0 projection items activated\n",
      "Using data from preloaded Raw for 32 events and 5001 original time points ...\n",
      "0 bad epochs dropped\n",
      "Fitted sphere radius:         95.0 mm\n",
      "Origin head coordinates:      0.0 -0.0 0.0 mm\n",
      "Origin device coordinates:    0.0 -0.0 0.0 mm\n"
     ]
    },
    {
     "name": "stderr",
     "output_type": "stream",
     "text": [
      "[Parallel(n_jobs=1)]: Done  58 out of  58 | elapsed:    0.3s finished\n"
     ]
    },
    {
     "name": "stdout",
     "output_type": "stream",
     "text": [
      "ActiveRest\n",
      "OpenPalm\n",
      "Not setting metadata\n",
      "32 matching events found\n",
      "No baseline correction applied\n",
      "0 projection items activated\n",
      "\n",
      "###########################################################\n",
      "removing bad channels from epochs:\n",
      "Creating RawArray with float64 data, n_channels=67, n_times=359073\n",
      "    Range : 0 ... 359072 =      0.000 ...   718.144 secs\n",
      "Ready.\n",
      "\n",
      "###########################################################\n",
      "removing subject specific bad electrodes from the raw data\n",
      "\n",
      "###########################################################\n",
      "removing bad channels from epochs:\n",
      "EEG channel type selected for re-referencing\n",
      "Applying average reference.\n",
      "Applying a custom ('EEG',) reference.\n",
      "\n",
      "###########################################################\n",
      "not using csd\n",
      "EEG channel type selected for re-referencing\n",
      "Applying average reference.\n",
      "Applying a custom ('EEG',) reference.\n",
      "\n",
      "###########################################################\n",
      "filtering the data\n",
      "Filtering raw data in 1 contiguous segment\n",
      "Setting up band-pass filter from 5 - 35 Hz\n",
      "\n",
      "FIR filter parameters\n",
      "---------------------\n",
      "Designing a one-pass, zero-phase, non-causal bandpass filter:\n",
      "- Windowed time-domain design (firwin) method\n",
      "- Hamming window with 0.0194 passband ripple and 53 dB stopband attenuation\n",
      "- Lower passband edge: 5.00\n",
      "- Lower transition bandwidth: 2.00 Hz (-6 dB cutoff frequency: 4.00 Hz)\n",
      "- Upper passband edge: 35.00 Hz\n",
      "- Upper transition bandwidth: 8.75 Hz (-6 dB cutoff frequency: 39.38 Hz)\n",
      "- Filter length: 825 samples (1.650 s)\n",
      "\n"
     ]
    },
    {
     "name": "stderr",
     "output_type": "stream",
     "text": [
      "[Parallel(n_jobs=1)]: Using backend SequentialBackend with 1 concurrent workers.\n",
      "[Parallel(n_jobs=1)]: Done   1 out of   1 | elapsed:    0.0s remaining:    0.0s\n",
      "[Parallel(n_jobs=1)]: Done   2 out of   2 | elapsed:    0.0s remaining:    0.0s\n",
      "[Parallel(n_jobs=1)]: Done   3 out of   3 | elapsed:    0.0s remaining:    0.0s\n",
      "[Parallel(n_jobs=1)]: Done   4 out of   4 | elapsed:    0.0s remaining:    0.0s\n"
     ]
    },
    {
     "name": "stdout",
     "output_type": "stream",
     "text": [
      "Used Annotations descriptions: ['ActiveRest', 'Beep', 'ClosePalm', 'Long Break', 'OpenPalm', 'Rest']\n",
      "\n",
      "###########################################################\n",
      "extracting event info: {'ActiveRest': 1, 'Beep': 2, 'ClosePalm': 3, 'Long Break': 4, 'OpenPalm': 5, 'Rest': 6}\n",
      "\n",
      "###########################################################\n",
      "epoching + selecting current electodes set for analysis:\n",
      "['F7', 'F5', 'F3', 'F1', 'Fz', 'F2', 'F4', 'F6', 'F8', 'FC5', 'FC3', 'FC1', 'FC2', 'FC4', 'FC6', 'C5', 'C3', 'C1', 'Cz', 'C2', 'C4', 'C6', 'CP5', 'CP3', 'CPz', 'CP2', 'CP4', 'CP6', 'P5', 'P3', 'P1', 'Pz', 'P2', 'P4', 'P6', 'P8']\n",
      "Not setting metadata\n",
      "39 matching events found\n",
      "No baseline correction applied\n",
      "0 projection items activated\n",
      "Using data from preloaded Raw for 39 events and 5001 original time points ...\n",
      "0 bad epochs dropped\n",
      "Fitted sphere radius:         95.0 mm\n"
     ]
    },
    {
     "name": "stderr",
     "output_type": "stream",
     "text": [
      "[Parallel(n_jobs=1)]: Done  58 out of  58 | elapsed:    0.4s finished\n"
     ]
    },
    {
     "name": "stdout",
     "output_type": "stream",
     "text": [
      "Origin head coordinates:      0.0 -0.0 0.0 mm\n",
      "Origin device coordinates:    0.0 -0.0 0.0 mm\n",
      "ActiveRest\n",
      "OpenPalm\n",
      "Not setting metadata\n",
      "39 matching events found\n",
      "No baseline correction applied\n",
      "0 projection items activated\n",
      "\n",
      "###########################################################\n",
      "removing bad channels from epochs:\n",
      "Concatenating all preprocessed epochs...\n",
      "Not setting metadata\n",
      "103 matching events found\n",
      "No baseline correction applied\n"
     ]
    }
   ],
   "source": [
    "epochs_list = []\n",
    "filter_bank_epochs_list = []\n",
    "for xdf_file in xdf_files:\n",
    "    raw=read_raw_xdf(xdf_file)\n",
    "    epoch,filter_bank_epochs,mean_across_epochs, events_trigger_dict = EEG_Preprocessing(current_path,raw,params_dict)\n",
    "    epochs_list.append(epoch)\n",
    "    filter_bank_epochs_list.append(filter_bank_epochs)\n",
    "\n",
    "print(\"Concatenating all preprocessed epochs...\")\n",
    "epochs = mne.concatenate_epochs(epochs_list, on_mismatch='warn')\n",
    "filter_bank_epochs = None"
   ]
  },
  {
   "cell_type": "markdown",
   "metadata": {},
   "source": [
    "Pre-processing"
   ]
  },
  {
   "cell_type": "code",
   "execution_count": 29,
   "metadata": {},
   "outputs": [
    {
     "name": "stdout",
     "output_type": "stream",
     "text": [
      "putting aside 20% of the data: trial numbers are:\n",
      " [ 46  89  75  95  68  11 101  58   8  72  26  30  18  48  17  45  50  81\n",
      "  32  36  14]\n",
      "\n",
      "remaining 80% of the trials go into training for cv:\n",
      " [102  19  47   5  94  52  76  51  71  56  91  65  22  64  35  61  87  42\n",
      "  69  21  28  23  29  93  97  43  63  31  84  66  78  62  79  13  16  86\n",
      "  40  41  49  85  88  34  98  27  57  24  67 100   6  96  77  99   1  92\n",
      "   4  20  70  37  38  54  10  83  90   7   9  44   2  12   3  25  33  59\n",
      "  82  73  15  74  55  39   0  80  53  60]\n",
      "\n"
     ]
    }
   ],
   "source": [
    "events = epochs.events\n",
    "event_dict = epochs.event_id\n",
    "params_dict['events_trigger_dict'] = {key: event_dict[key] for key in event_dict.keys() if key in params_dict['desired_events']}\n",
    "train_inds,validation_inds,return_dict = Split_training_validation (epochs,filter_bank_epochs, params_dict['events_trigger_dict'])\n",
    "epochs_copy = epochs.copy()\n",
    "returned_dict=crop_the_data(epochs_copy,train_inds,validation_inds,params_dict['classifier_window_s'],params_dict['classifier_window_e']) #two more paramters here are tmin and tmax which are not used apparently. \n",
    "train_set_data_uncropped=returned_dict['train_set_data_uncropped']\n",
    "epochs_cropped=returned_dict['epochs_cropped']\n",
    "train_set_data=returned_dict['train_set_data']\n",
    "train_set_labels=returned_dict['train_set_labels']\n",
    "\n",
    "validation_set_labels=returned_dict['validation_set_labels']\n",
    "validation_set_data_uncropped=returned_dict['validation_set_data_uncropped']\n",
    "#define cv on the data: \n",
    "cv = StratifiedShuffleSplit(10, test_size=0.2, random_state=42)\n",
    "cv_split = cv.split(train_set_data,train_set_labels)\n",
    "\n",
    "#filter bank related:\n",
    "if params_dict['pipeline_name']=='fbcsp+lda': \n",
    "    train_set_data_fb=[]\n",
    "    train_set_data_uncropped_fb=[]\n",
    "    validation_set_data_fb=[]\n",
    "    validation_set_data_uncropped_fb=[]\n",
    "    for filtered_data_band_epoch in preprocessing_dict['filter_bank_epochs']:\n",
    "        returned_dict_temp=crop_the_data(filtered_data_band_epoch,train_inds,validation_inds, params_dict['classifier_window_s'],params_dict['classifier_window_e'])\n",
    "        #extract the train set data: \n",
    "        train_set_data_uncropped_temp=returned_dict_temp['train_set_data_uncropped']\n",
    "        train_set_data_temp=returned_dict_temp['train_set_data']\n",
    "        train_set_data_fb.append(train_set_data_temp)\n",
    "        train_set_data_uncropped_fb.append(train_set_data_uncropped_temp)\n",
    "        #extract the validation set data: \n",
    "        validation_set_data_uncroped_temp=returned_dict_temp['validation_set_data_uncroped']\n",
    "        validation_set_data_temp=returned_dict_temp['validation_set_data']\n",
    "        validation_set_data_fb.append(validation_set_data_temp)\n",
    "        validation_set_data_uncropped_fb.append(validation_set_data_uncroped_temp)\n",
    "    #create a 4d matrix of train data:     \n",
    "    train_set_data_4d_array= np.transpose(np.array(train_set_data_fb),(1,2,3,0))\n",
    "    train_set_data_uncropped_4d_array=np.transpose(np.array(train_set_data_uncropped_fb),(1,2,3,0)) \n",
    "    train_set_data=train_set_data_4d_array\n",
    "    train_set_data_uncropped=train_set_data_uncropped_4d_array\n",
    "    #create a 4d matrix of validation data: \n",
    "    validation_set_data_4d_array= np.transpose(np.array(validation_set_data_fb),(1,2,3,0))\n",
    "    validation_set_data_uncropped_4d_array=np.transpose(np.array(validation_set_data_uncropped_fb),(1,2,3,0)) \n",
    "    validation_set_data_uncropped=validation_set_data_uncropped_4d_array\n",
    "\n",
    "\n",
    "augmented_x,augmented_y = augment_data(params_dict['augmentation_params'], train_set_data,train_set_labels,epochs.info['sfreq'])\n",
    "\n",
    "triggers_label_dict={val:key for key,val in params_dict['events_trigger_dict'].items()} \n",
    "test_data_y_labels=np.array([triggers_label_dict[cur_y] for cur_y in validation_set_labels])  \n",
    "augmented_y_labels=np.array([triggers_label_dict[cur_y] for cur_y in augmented_y])  \n"
   ]
  },
  {
   "cell_type": "markdown",
   "metadata": {},
   "source": [
    "Cross-Validation Evaluation "
   ]
  },
  {
   "cell_type": "code",
   "execution_count": 30,
   "metadata": {},
   "outputs": [
    {
     "name": "stdout",
     "output_type": "stream",
     "text": [
      "Computing rank from data with rank=None\n",
      "    Using tolerance 0.072 (2.2e-16 eps * 36 dim * 9e+12  max singular value)\n",
      "    Estimated rank (mag): 36\n",
      "    MAG: rank 36 computed from 36 data channels with 0 projectors\n",
      "Reducing data rank from 36 -> 36\n",
      "Estimating covariance using OAS\n",
      "Done.\n",
      "Computing rank from data with rank=None\n",
      "    Using tolerance 0.064 (2.2e-16 eps * 36 dim * 8e+12  max singular value)\n",
      "    Estimated rank (mag): 36\n",
      "    MAG: rank 36 computed from 36 data channels with 0 projectors\n",
      "Reducing data rank from 36 -> 36\n",
      "Estimating covariance using OAS\n",
      "Done.\n",
      "Class order in confusion matrix: ['ActiveRest' 'OpenPalm']\n",
      "Computing rank from data with rank=None\n",
      "    Using tolerance 0.072 (2.2e-16 eps * 36 dim * 9e+12  max singular value)\n",
      "    Estimated rank (mag): 36\n",
      "    MAG: rank 36 computed from 36 data channels with 0 projectors\n",
      "Reducing data rank from 36 -> 36\n",
      "Estimating covariance using OAS\n",
      "Done.\n",
      "Computing rank from data with rank=None\n",
      "    Using tolerance 0.063 (2.2e-16 eps * 36 dim * 7.9e+12  max singular value)\n",
      "    Estimated rank (mag): 36\n",
      "    MAG: rank 36 computed from 36 data channels with 0 projectors\n",
      "Reducing data rank from 36 -> 36\n",
      "Estimating covariance using OAS\n",
      "Done.\n",
      "Class order in confusion matrix: ['ActiveRest' 'OpenPalm']\n",
      "Computing rank from data with rank=None\n",
      "    Using tolerance 0.072 (2.2e-16 eps * 36 dim * 9e+12  max singular value)\n",
      "    Estimated rank (mag): 36\n",
      "    MAG: rank 36 computed from 36 data channels with 0 projectors\n",
      "Reducing data rank from 36 -> 36\n",
      "Estimating covariance using OAS\n",
      "Done.\n",
      "Computing rank from data with rank=None\n",
      "    Using tolerance 0.062 (2.2e-16 eps * 36 dim * 7.8e+12  max singular value)\n",
      "    Estimated rank (mag): 36\n",
      "    MAG: rank 36 computed from 36 data channels with 0 projectors\n",
      "Reducing data rank from 36 -> 36\n",
      "Estimating covariance using OAS\n",
      "Done.\n",
      "Class order in confusion matrix: ['ActiveRest' 'OpenPalm']\n",
      "Computing rank from data with rank=None\n",
      "    Using tolerance 0.075 (2.2e-16 eps * 36 dim * 9.3e+12  max singular value)\n",
      "    Estimated rank (mag): 36\n",
      "    MAG: rank 36 computed from 36 data channels with 0 projectors\n",
      "Reducing data rank from 36 -> 36\n",
      "Estimating covariance using OAS\n",
      "Done.\n",
      "Computing rank from data with rank=None\n",
      "    Using tolerance 0.064 (2.2e-16 eps * 36 dim * 8e+12  max singular value)\n",
      "    Estimated rank (mag): 36\n",
      "    MAG: rank 36 computed from 36 data channels with 0 projectors\n",
      "Reducing data rank from 36 -> 36\n",
      "Estimating covariance using OAS\n",
      "Done.\n",
      "Class order in confusion matrix: ['ActiveRest' 'OpenPalm']\n",
      "Computing rank from data with rank=None\n",
      "    Using tolerance 0.075 (2.2e-16 eps * 36 dim * 9.3e+12  max singular value)\n",
      "    Estimated rank (mag): 36\n",
      "    MAG: rank 36 computed from 36 data channels with 0 projectors\n",
      "Reducing data rank from 36 -> 36\n",
      "Estimating covariance using OAS\n",
      "Done.\n",
      "Computing rank from data with rank=None\n",
      "    Using tolerance 0.06 (2.2e-16 eps * 36 dim * 7.6e+12  max singular value)\n",
      "    Estimated rank (mag): 36\n",
      "    MAG: rank 36 computed from 36 data channels with 0 projectors\n",
      "Reducing data rank from 36 -> 36\n",
      "Estimating covariance using OAS\n",
      "Done.\n",
      "Class order in confusion matrix: ['ActiveRest' 'OpenPalm']\n",
      "Computing rank from data with rank=None\n",
      "    Using tolerance 0.071 (2.2e-16 eps * 36 dim * 8.9e+12  max singular value)\n",
      "    Estimated rank (mag): 36\n",
      "    MAG: rank 36 computed from 36 data channels with 0 projectors\n",
      "Reducing data rank from 36 -> 36\n",
      "Estimating covariance using OAS\n",
      "Done.\n",
      "Computing rank from data with rank=None\n",
      "    Using tolerance 0.066 (2.2e-16 eps * 36 dim * 8.2e+12  max singular value)\n",
      "    Estimated rank (mag): 36\n",
      "    MAG: rank 36 computed from 36 data channels with 0 projectors\n",
      "Reducing data rank from 36 -> 36\n",
      "Estimating covariance using OAS\n",
      "Done.\n",
      "Class order in confusion matrix: ['ActiveRest' 'OpenPalm']\n",
      "Computing rank from data with rank=None\n",
      "    Using tolerance 0.072 (2.2e-16 eps * 36 dim * 9e+12  max singular value)\n",
      "    Estimated rank (mag): 36\n",
      "    MAG: rank 36 computed from 36 data channels with 0 projectors\n",
      "Reducing data rank from 36 -> 36\n",
      "Estimating covariance using OAS\n",
      "Done.\n",
      "Computing rank from data with rank=None\n",
      "    Using tolerance 0.063 (2.2e-16 eps * 36 dim * 7.9e+12  max singular value)\n",
      "    Estimated rank (mag): 36\n",
      "    MAG: rank 36 computed from 36 data channels with 0 projectors\n",
      "Reducing data rank from 36 -> 36\n",
      "Estimating covariance using OAS\n",
      "Done.\n",
      "Class order in confusion matrix: ['ActiveRest' 'OpenPalm']\n",
      "Computing rank from data with rank=None\n",
      "    Using tolerance 0.076 (2.2e-16 eps * 36 dim * 9.5e+12  max singular value)\n",
      "    Estimated rank (mag): 36\n",
      "    MAG: rank 36 computed from 36 data channels with 0 projectors\n",
      "Reducing data rank from 36 -> 36\n",
      "Estimating covariance using OAS\n",
      "Done.\n",
      "Computing rank from data with rank=None\n",
      "    Using tolerance 0.061 (2.2e-16 eps * 36 dim * 7.6e+12  max singular value)\n",
      "    Estimated rank (mag): 36\n",
      "    MAG: rank 36 computed from 36 data channels with 0 projectors\n",
      "Reducing data rank from 36 -> 36\n",
      "Estimating covariance using OAS\n",
      "Done.\n",
      "Class order in confusion matrix: ['ActiveRest' 'OpenPalm']\n",
      "Computing rank from data with rank=None\n",
      "    Using tolerance 0.073 (2.2e-16 eps * 36 dim * 9.1e+12  max singular value)\n",
      "    Estimated rank (mag): 36\n",
      "    MAG: rank 36 computed from 36 data channels with 0 projectors\n",
      "Reducing data rank from 36 -> 36\n",
      "Estimating covariance using OAS\n",
      "Done.\n",
      "Computing rank from data with rank=None\n",
      "    Using tolerance 0.065 (2.2e-16 eps * 36 dim * 8.1e+12  max singular value)\n",
      "    Estimated rank (mag): 36\n",
      "    MAG: rank 36 computed from 36 data channels with 0 projectors\n",
      "Reducing data rank from 36 -> 36\n",
      "Estimating covariance using OAS\n",
      "Done.\n",
      "Class order in confusion matrix: ['ActiveRest' 'OpenPalm']\n",
      "Computing rank from data with rank=None\n",
      "    Using tolerance 0.072 (2.2e-16 eps * 36 dim * 9e+12  max singular value)\n",
      "    Estimated rank (mag): 36\n",
      "    MAG: rank 36 computed from 36 data channels with 0 projectors\n",
      "Reducing data rank from 36 -> 36\n",
      "Estimating covariance using OAS\n",
      "Done.\n",
      "Computing rank from data with rank=None\n",
      "    Using tolerance 0.063 (2.2e-16 eps * 36 dim * 7.8e+12  max singular value)\n",
      "    Estimated rank (mag): 36\n",
      "    MAG: rank 36 computed from 36 data channels with 0 projectors\n",
      "Reducing data rank from 36 -> 36\n",
      "Estimating covariance using OAS\n",
      "Done.\n",
      "Class order in confusion matrix: ['ActiveRest' 'OpenPalm']\n"
     ]
    }
   ],
   "source": [
    "scores_windows,folds_confusion_matrices_per_window,w_times= run_windowed_classification_aug_cv(epochs, returned_dict['epochs_cropped'], cv_split,params_dict)"
   ]
  },
  {
   "cell_type": "code",
   "execution_count": 31,
   "metadata": {},
   "outputs": [],
   "source": [
    "plot_accuracy_over_time(scores_windows, w_times, params_dict, axes_handle=None)"
   ]
  },
  {
   "cell_type": "code",
   "execution_count": 32,
   "metadata": {},
   "outputs": [],
   "source": [
    "w_step = int(500 * 0.1)   # running classifier: window length\n",
    "w_length = int(500 * 2)\n",
    "w_start = np.arange(0, epochs.get_data().shape[2] - w_length, w_step)"
   ]
  },
  {
   "cell_type": "code",
   "execution_count": 20,
   "metadata": {},
   "outputs": [],
   "source": [
    "    w_times = (w_start + w_length / 2.) / 500 + params_dict['epoch_tmin']\n"
   ]
  },
  {
   "cell_type": "code",
   "execution_count": 22,
   "metadata": {},
   "outputs": [
    {
     "data": {
      "text/plain": [
       "array([   0,   50,  100,  150,  200,  250,  300,  350,  400,  450,  500,\n",
       "        550,  600,  650,  700,  750,  800,  850,  900,  950, 1000, 1050,\n",
       "       1100, 1150, 1200, 1250, 1300, 1350, 1400, 1450, 1500, 1550, 1600,\n",
       "       1650, 1700, 1750, 1800, 1850, 1900, 1950, 2000, 2050, 2100, 2150,\n",
       "       2200, 2250, 2300, 2350, 2400, 2450, 2500, 2550, 2600, 2650, 2700,\n",
       "       2750, 2800, 2850, 2900, 2950, 3000])"
      ]
     },
     "execution_count": 22,
     "metadata": {},
     "output_type": "execute_result"
    }
   ],
   "source": [
    "w_start"
   ]
  },
  {
   "cell_type": "markdown",
   "metadata": {},
   "source": [
    "Training"
   ]
  },
  {
   "cell_type": "code",
   "execution_count": null,
   "metadata": {},
   "outputs": [
    {
     "name": "stdout",
     "output_type": "stream",
     "text": [
      "Computing rank from data with rank=None\n",
      "    Using tolerance 0.077 (2.2e-16 eps * 36 dim * 9.7e+12  max singular value)\n",
      "    Estimated rank (mag): 36\n",
      "    MAG: rank 36 computed from 36 data channels with 0 projectors\n",
      "Reducing data rank from 36 -> 36\n",
      "Estimating covariance using OAS\n",
      "Done.\n",
      "Computing rank from data with rank=None\n",
      "    Using tolerance 0.067 (2.2e-16 eps * 36 dim * 8.4e+12  max singular value)\n",
      "    Estimated rank (mag): 36\n",
      "    MAG: rank 36 computed from 36 data channels with 0 projectors\n",
      "Reducing data rank from 36 -> 36\n",
      "Estimating covariance using OAS\n",
      "Done.\n"
     ]
    }
   ],
   "source": [
    "clf,csp,lda = classifier_training(augmented_x,augmented_y,params_dict, BinaryClassification = False)"
   ]
  },
  {
   "cell_type": "code",
   "execution_count": 86,
   "metadata": {},
   "outputs": [
    {
     "data": {
      "image/png": "[encoded data removed]",
      "text/plain": [
       "<MNEFigure size 1500x220 with 11 Axes>"
      ]
     },
     "execution_count": 86,
     "metadata": {},
     "output_type": "execute_result"
    }
   ],
   "source": [
    "csp.plot_patterns(epochs.info)"
   ]
  },
  {
   "cell_type": "code",
   "execution_count": 87,
   "metadata": {},
   "outputs": [],
   "source": [
    "w_length = int(raw.info['sfreq'] * params_dict['windowed_prediction_params']['win_len'])   # running classifier: window length\n",
    "w_step = int(raw.info['sfreq'] * params_dict['windowed_prediction_params']['win_step'])  # running classifier: window step size\n",
    "w_start = np.arange(0, train_set_data_uncropped.shape[2] - w_length, w_step)\n",
    "w_times = (w_start + w_length / 2.) / raw.info['sfreq'] + params_dict['epoch_tmin']"
   ]
  },
  {
   "cell_type": "code",
   "execution_count": 88,
   "metadata": {},
   "outputs": [
    {
     "name": "stdout",
     "output_type": "stream",
     "text": [
      "Class order in confusion matrix: ['ActiveRest' 'ClosePalm']\n"
     ]
    }
   ],
   "source": [
    "scores_per_time_window,confusion_matrices_per_window = run_windowed_pretrained_classifier(clf,validation_set_data_uncropped,test_data_y_labels,w_start,w_length)\n"
   ]
  },
  {
   "cell_type": "code",
   "execution_count": null,
   "metadata": {},
   "outputs": [],
   "source": [
    "scores_per_time_window"
   ]
  },
  {
   "cell_type": "code",
   "execution_count": 89,
   "metadata": {},
   "outputs": [
    {
     "ename": "IndexError",
     "evalue": "tuple index out of range",
     "output_type": "error",
     "traceback": [
      "\u001b[1;31m---------------------------------------------------------------------------\u001b[0m",
      "\u001b[1;31mIndexError\u001b[0m                                Traceback (most recent call last)",
      "Cell \u001b[1;32mIn[89], line 1\u001b[0m\n\u001b[1;32m----> 1\u001b[0m \u001b[43mplot_accuracy_over_time\u001b[49m\u001b[43m(\u001b[49m\u001b[43mscores_per_time_window\u001b[49m\u001b[43m,\u001b[49m\u001b[43m \u001b[49m\u001b[43mw_times\u001b[49m\u001b[43m,\u001b[49m\u001b[43m \u001b[49m\u001b[43mparams_dict\u001b[49m\u001b[43m,\u001b[49m\u001b[43m \u001b[49m\u001b[43maxes_handle\u001b[49m\u001b[38;5;241;43m=\u001b[39;49m\u001b[38;5;28;43;01mNone\u001b[39;49;00m\u001b[43m)\u001b[49m\n",
      "File \u001b[1;32mc:\\Users\\gilad\\3_Class_MI_21_01_25\\evaluation.py:103\u001b[0m, in \u001b[0;36mplot_accuracy_over_time\u001b[1;34m(scores_windows, w_times, params_dict, axes_handle)\u001b[0m\n\u001b[0;32m    101\u001b[0m times_col_names \u001b[38;5;241m=\u001b[39m [np\u001b[38;5;241m.\u001b[39mround(w_times[s], \u001b[38;5;241m2\u001b[39m) \u001b[38;5;28;01mfor\u001b[39;00m s \u001b[38;5;129;01min\u001b[39;00m \u001b[38;5;28mrange\u001b[39m(\u001b[38;5;28mlen\u001b[39m(w_times))]\n\u001b[0;32m    102\u001b[0m scores_windows_array \u001b[38;5;241m=\u001b[39m np\u001b[38;5;241m.\u001b[39msqueeze(np\u001b[38;5;241m.\u001b[39marray(scores_windows))\n\u001b[1;32m--> 103\u001b[0m \u001b[38;5;28;01mif\u001b[39;00m \u001b[43mscores_windows_array\u001b[49m\u001b[38;5;241;43m.\u001b[39;49m\u001b[43mshape\u001b[49m\u001b[43m[\u001b[49m\u001b[38;5;241;43m1\u001b[39;49m\u001b[43m]\u001b[49m \u001b[38;5;241m!=\u001b[39m \u001b[38;5;28mlen\u001b[39m(w_times):\n\u001b[0;32m    104\u001b[0m     \u001b[38;5;28;01mraise\u001b[39;00m \u001b[38;5;167;01mValueError\u001b[39;00m(\u001b[38;5;124m\"\u001b[39m\u001b[38;5;124mMismatch between scores_windows columns and w_times length.\u001b[39m\u001b[38;5;124m\"\u001b[39m)\n\u001b[0;32m    106\u001b[0m scores_windows_df \u001b[38;5;241m=\u001b[39m pd\u001b[38;5;241m.\u001b[39mDataFrame(columns\u001b[38;5;241m=\u001b[39mtimes_col_names, data\u001b[38;5;241m=\u001b[39mscores_windows_array)\n",
      "\u001b[1;31mIndexError\u001b[0m: tuple index out of range"
     ]
    }
   ],
   "source": [
    "plot_accuracy_over_time(scores_per_time_window, w_times, params_dict, axes_handle=None)"
   ]
  },
  {
   "cell_type": "code",
   "execution_count": 38,
   "metadata": {},
   "outputs": [
    {
     "data": {
      "text/plain": [
       "3501"
      ]
     },
     "execution_count": 38,
     "metadata": {},
     "output_type": "execute_result"
    }
   ],
   "source": [
    "train_set_data_uncropped.shape[2] + 500- w_length"
   ]
  },
  {
   "cell_type": "code",
   "execution_count": 22,
   "metadata": {},
   "outputs": [],
   "source": [
    "scores_windows_array = np.squeeze(np.array(scores_per_time_window))"
   ]
  },
  {
   "cell_type": "code",
   "execution_count": 23,
   "metadata": {},
   "outputs": [
    {
     "data": {
      "text/plain": [
       "(71,)"
      ]
     },
     "execution_count": 23,
     "metadata": {},
     "output_type": "execute_result"
    }
   ],
   "source": [
    "scores_windows_array.shape"
   ]
  },
  {
   "cell_type": "code",
   "execution_count": null,
   "metadata": {},
   "outputs": [
    {
     "data": {
      "text/plain": [
       "[(array([[2, 9],\n",
       "         [1, 9]], dtype=int64),\n",
       "  array(['ActiveRest', 'ClosePalm'], dtype='<U10')),\n",
       " (array([[2, 9],\n",
       "         [2, 8]], dtype=int64),\n",
       "  array(['ActiveRest', 'ClosePalm'], dtype='<U10')),\n",
       " (array([[3, 8],\n",
       "         [2, 8]], dtype=int64),\n",
       "  array(['ActiveRest', 'ClosePalm'], dtype='<U10')),\n",
       " (array([[5, 6],\n",
       "         [4, 6]], dtype=int64),\n",
       "  array(['ActiveRest', 'ClosePalm'], dtype='<U10')),\n",
       " (array([[6, 5],\n",
       "         [4, 6]], dtype=int64),\n",
       "  array(['ActiveRest', 'ClosePalm'], dtype='<U10')),\n",
       " (array([[7, 4],\n",
       "         [5, 5]], dtype=int64),\n",
       "  array(['ActiveRest', 'ClosePalm'], dtype='<U10')),\n",
       " (array([[7, 4],\n",
       "         [4, 6]], dtype=int64),\n",
       "  array(['ActiveRest', 'ClosePalm'], dtype='<U10')),\n",
       " (array([[7, 4],\n",
       "         [7, 3]], dtype=int64),\n",
       "  array(['ActiveRest', 'ClosePalm'], dtype='<U10')),\n",
       " (array([[7, 4],\n",
       "         [6, 4]], dtype=int64),\n",
       "  array(['ActiveRest', 'ClosePalm'], dtype='<U10')),\n",
       " (array([[7, 4],\n",
       "         [5, 5]], dtype=int64),\n",
       "  array(['ActiveRest', 'ClosePalm'], dtype='<U10')),\n",
       " (array([[6, 5],\n",
       "         [5, 5]], dtype=int64),\n",
       "  array(['ActiveRest', 'ClosePalm'], dtype='<U10')),\n",
       " (array([[6, 5],\n",
       "         [6, 4]], dtype=int64),\n",
       "  array(['ActiveRest', 'ClosePalm'], dtype='<U10')),\n",
       " (array([[5, 6],\n",
       "         [7, 3]], dtype=int64),\n",
       "  array(['ActiveRest', 'ClosePalm'], dtype='<U10')),\n",
       " (array([[6, 5],\n",
       "         [7, 3]], dtype=int64),\n",
       "  array(['ActiveRest', 'ClosePalm'], dtype='<U10')),\n",
       " (array([[7, 4],\n",
       "         [7, 3]], dtype=int64),\n",
       "  array(['ActiveRest', 'ClosePalm'], dtype='<U10')),\n",
       " (array([[8, 3],\n",
       "         [7, 3]], dtype=int64),\n",
       "  array(['ActiveRest', 'ClosePalm'], dtype='<U10')),\n",
       " (array([[8, 3],\n",
       "         [6, 4]], dtype=int64),\n",
       "  array(['ActiveRest', 'ClosePalm'], dtype='<U10')),\n",
       " (array([[6, 5],\n",
       "         [5, 5]], dtype=int64),\n",
       "  array(['ActiveRest', 'ClosePalm'], dtype='<U10')),\n",
       " (array([[5, 6],\n",
       "         [5, 5]], dtype=int64),\n",
       "  array(['ActiveRest', 'ClosePalm'], dtype='<U10')),\n",
       " (array([[5, 6],\n",
       "         [5, 5]], dtype=int64),\n",
       "  array(['ActiveRest', 'ClosePalm'], dtype='<U10')),\n",
       " (array([[5, 6],\n",
       "         [4, 6]], dtype=int64),\n",
       "  array(['ActiveRest', 'ClosePalm'], dtype='<U10')),\n",
       " (array([[5, 6],\n",
       "         [2, 8]], dtype=int64),\n",
       "  array(['ActiveRest', 'ClosePalm'], dtype='<U10')),\n",
       " (array([[3, 8],\n",
       "         [2, 8]], dtype=int64),\n",
       "  array(['ActiveRest', 'ClosePalm'], dtype='<U10')),\n",
       " (array([[5, 6],\n",
       "         [2, 8]], dtype=int64),\n",
       "  array(['ActiveRest', 'ClosePalm'], dtype='<U10')),\n",
       " (array([[6, 5],\n",
       "         [2, 8]], dtype=int64),\n",
       "  array(['ActiveRest', 'ClosePalm'], dtype='<U10')),\n",
       " (array([[5, 6],\n",
       "         [2, 8]], dtype=int64),\n",
       "  array(['ActiveRest', 'ClosePalm'], dtype='<U10')),\n",
       " (array([[7, 4],\n",
       "         [2, 8]], dtype=int64),\n",
       "  array(['ActiveRest', 'ClosePalm'], dtype='<U10')),\n",
       " (array([[6, 5],\n",
       "         [2, 8]], dtype=int64),\n",
       "  array(['ActiveRest', 'ClosePalm'], dtype='<U10')),\n",
       " (array([[7, 4],\n",
       "         [3, 7]], dtype=int64),\n",
       "  array(['ActiveRest', 'ClosePalm'], dtype='<U10')),\n",
       " (array([[9, 2],\n",
       "         [2, 8]], dtype=int64),\n",
       "  array(['ActiveRest', 'ClosePalm'], dtype='<U10')),\n",
       " (array([[7, 4],\n",
       "         [1, 9]], dtype=int64),\n",
       "  array(['ActiveRest', 'ClosePalm'], dtype='<U10')),\n",
       " (array([[8, 3],\n",
       "         [2, 8]], dtype=int64),\n",
       "  array(['ActiveRest', 'ClosePalm'], dtype='<U10')),\n",
       " (array([[8, 3],\n",
       "         [2, 8]], dtype=int64),\n",
       "  array(['ActiveRest', 'ClosePalm'], dtype='<U10')),\n",
       " (array([[8, 3],\n",
       "         [2, 8]], dtype=int64),\n",
       "  array(['ActiveRest', 'ClosePalm'], dtype='<U10')),\n",
       " (array([[7, 4],\n",
       "         [2, 8]], dtype=int64),\n",
       "  array(['ActiveRest', 'ClosePalm'], dtype='<U10')),\n",
       " (array([[7, 4],\n",
       "         [1, 9]], dtype=int64),\n",
       "  array(['ActiveRest', 'ClosePalm'], dtype='<U10')),\n",
       " (array([[7, 4],\n",
       "         [1, 9]], dtype=int64),\n",
       "  array(['ActiveRest', 'ClosePalm'], dtype='<U10')),\n",
       " (array([[8, 3],\n",
       "         [1, 9]], dtype=int64),\n",
       "  array(['ActiveRest', 'ClosePalm'], dtype='<U10')),\n",
       " (array([[9, 2],\n",
       "         [1, 9]], dtype=int64),\n",
       "  array(['ActiveRest', 'ClosePalm'], dtype='<U10')),\n",
       " (array([[9, 2],\n",
       "         [1, 9]], dtype=int64),\n",
       "  array(['ActiveRest', 'ClosePalm'], dtype='<U10')),\n",
       " (array([[9, 2],\n",
       "         [1, 9]], dtype=int64),\n",
       "  array(['ActiveRest', 'ClosePalm'], dtype='<U10')),\n",
       " (array([[10,  1],\n",
       "         [ 1,  9]], dtype=int64),\n",
       "  array(['ActiveRest', 'ClosePalm'], dtype='<U10')),\n",
       " (array([[10,  1],\n",
       "         [ 2,  8]], dtype=int64),\n",
       "  array(['ActiveRest', 'ClosePalm'], dtype='<U10')),\n",
       " (array([[8, 3],\n",
       "         [2, 8]], dtype=int64),\n",
       "  array(['ActiveRest', 'ClosePalm'], dtype='<U10')),\n",
       " (array([[9, 2],\n",
       "         [1, 9]], dtype=int64),\n",
       "  array(['ActiveRest', 'ClosePalm'], dtype='<U10')),\n",
       " (array([[8, 3],\n",
       "         [2, 8]], dtype=int64),\n",
       "  array(['ActiveRest', 'ClosePalm'], dtype='<U10')),\n",
       " (array([[7, 4],\n",
       "         [2, 8]], dtype=int64),\n",
       "  array(['ActiveRest', 'ClosePalm'], dtype='<U10')),\n",
       " (array([[7, 4],\n",
       "         [3, 7]], dtype=int64),\n",
       "  array(['ActiveRest', 'ClosePalm'], dtype='<U10')),\n",
       " (array([[7, 4],\n",
       "         [3, 7]], dtype=int64),\n",
       "  array(['ActiveRest', 'ClosePalm'], dtype='<U10')),\n",
       " (array([[8, 3],\n",
       "         [3, 7]], dtype=int64),\n",
       "  array(['ActiveRest', 'ClosePalm'], dtype='<U10')),\n",
       " (array([[7, 4],\n",
       "         [3, 7]], dtype=int64),\n",
       "  array(['ActiveRest', 'ClosePalm'], dtype='<U10')),\n",
       " (array([[7, 4],\n",
       "         [3, 7]], dtype=int64),\n",
       "  array(['ActiveRest', 'ClosePalm'], dtype='<U10')),\n",
       " (array([[7, 4],\n",
       "         [3, 7]], dtype=int64),\n",
       "  array(['ActiveRest', 'ClosePalm'], dtype='<U10')),\n",
       " (array([[7, 4],\n",
       "         [2, 8]], dtype=int64),\n",
       "  array(['ActiveRest', 'ClosePalm'], dtype='<U10')),\n",
       " (array([[8, 3],\n",
       "         [2, 8]], dtype=int64),\n",
       "  array(['ActiveRest', 'ClosePalm'], dtype='<U10')),\n",
       " (array([[8, 3],\n",
       "         [3, 7]], dtype=int64),\n",
       "  array(['ActiveRest', 'ClosePalm'], dtype='<U10')),\n",
       " (array([[8, 3],\n",
       "         [2, 8]], dtype=int64),\n",
       "  array(['ActiveRest', 'ClosePalm'], dtype='<U10')),\n",
       " (array([[9, 2],\n",
       "         [4, 6]], dtype=int64),\n",
       "  array(['ActiveRest', 'ClosePalm'], dtype='<U10')),\n",
       " (array([[9, 2],\n",
       "         [4, 6]], dtype=int64),\n",
       "  array(['ActiveRest', 'ClosePalm'], dtype='<U10')),\n",
       " (array([[8, 3],\n",
       "         [4, 6]], dtype=int64),\n",
       "  array(['ActiveRest', 'ClosePalm'], dtype='<U10')),\n",
       " (array([[7, 4],\n",
       "         [4, 6]], dtype=int64),\n",
       "  array(['ActiveRest', 'ClosePalm'], dtype='<U10')),\n",
       " (array([[8, 3],\n",
       "         [5, 5]], dtype=int64),\n",
       "  array(['ActiveRest', 'ClosePalm'], dtype='<U10')),\n",
       " (array([[9, 2],\n",
       "         [4, 6]], dtype=int64),\n",
       "  array(['ActiveRest', 'ClosePalm'], dtype='<U10')),\n",
       " (array([[8, 3],\n",
       "         [3, 7]], dtype=int64),\n",
       "  array(['ActiveRest', 'ClosePalm'], dtype='<U10')),\n",
       " (array([[10,  1],\n",
       "         [ 3,  7]], dtype=int64),\n",
       "  array(['ActiveRest', 'ClosePalm'], dtype='<U10')),\n",
       " (array([[10,  1],\n",
       "         [ 4,  6]], dtype=int64),\n",
       "  array(['ActiveRest', 'ClosePalm'], dtype='<U10')),\n",
       " (array([[10,  1],\n",
       "         [ 3,  7]], dtype=int64),\n",
       "  array(['ActiveRest', 'ClosePalm'], dtype='<U10')),\n",
       " (array([[10,  1],\n",
       "         [ 3,  7]], dtype=int64),\n",
       "  array(['ActiveRest', 'ClosePalm'], dtype='<U10')),\n",
       " (array([[9, 2],\n",
       "         [4, 6]], dtype=int64),\n",
       "  array(['ActiveRest', 'ClosePalm'], dtype='<U10')),\n",
       " (array([[10,  1],\n",
       "         [ 4,  6]], dtype=int64),\n",
       "  array(['ActiveRest', 'ClosePalm'], dtype='<U10')),\n",
       " (array([[10,  1],\n",
       "         [ 3,  7]], dtype=int64),\n",
       "  array(['ActiveRest', 'ClosePalm'], dtype='<U10'))]"
      ]
     },
     "execution_count": 90,
     "metadata": {},
     "output_type": "execute_result"
    }
   ],
   "source": [
    "confusion_matrices_per_window"
   ]
  },
  {
   "cell_type": "code",
   "execution_count": 91,
   "metadata": {},
   "outputs": [],
   "source": [
    "\n",
    "# Example: Plot confusion matrix for the first time window\n",
    "conf_matrix, class_labels = confusion_matrices_per_window[50]\n",
    "plot_confusion_matrix(conf_matrix, class_labels)"
   ]
  },
  {
   "cell_type": "code",
   "execution_count": 92,
   "metadata": {},
   "outputs": [
    {
     "data": {
      "text/plain": [
       "[0.5238095238095238,\n",
       " 0.47619047619047616,\n",
       " 0.5238095238095238,\n",
       " 0.5238095238095238,\n",
       " 0.5714285714285714,\n",
       " 0.5714285714285714,\n",
       " 0.6190476190476191,\n",
       " 0.47619047619047616,\n",
       " 0.5238095238095238,\n",
       " 0.5714285714285714,\n",
       " 0.5238095238095238,\n",
       " 0.47619047619047616,\n",
       " 0.38095238095238093,\n",
       " 0.42857142857142855,\n",
       " 0.47619047619047616,\n",
       " 0.5238095238095238,\n",
       " 0.5714285714285714,\n",
       " 0.5238095238095238,\n",
       " 0.47619047619047616,\n",
       " 0.47619047619047616,\n",
       " 0.5238095238095238,\n",
       " 0.6190476190476191,\n",
       " 0.5238095238095238,\n",
       " 0.6190476190476191,\n",
       " 0.6666666666666666,\n",
       " 0.6190476190476191,\n",
       " 0.7142857142857143,\n",
       " 0.6666666666666666,\n",
       " 0.6666666666666666,\n",
       " 0.8095238095238095,\n",
       " 0.7619047619047619,\n",
       " 0.7619047619047619,\n",
       " 0.7619047619047619,\n",
       " 0.7619047619047619,\n",
       " 0.7142857142857143,\n",
       " 0.7619047619047619,\n",
       " 0.7619047619047619,\n",
       " 0.8095238095238095,\n",
       " 0.8571428571428571,\n",
       " 0.8571428571428571,\n",
       " 0.8571428571428571,\n",
       " 0.9047619047619048,\n",
       " 0.8571428571428571,\n",
       " 0.7619047619047619,\n",
       " 0.8571428571428571,\n",
       " 0.7619047619047619,\n",
       " 0.7142857142857143,\n",
       " 0.6666666666666666,\n",
       " 0.6666666666666666,\n",
       " 0.7142857142857143,\n",
       " 0.6666666666666666,\n",
       " 0.6666666666666666,\n",
       " 0.6666666666666666,\n",
       " 0.7142857142857143,\n",
       " 0.7619047619047619,\n",
       " 0.7142857142857143,\n",
       " 0.7619047619047619,\n",
       " 0.7142857142857143,\n",
       " 0.7142857142857143,\n",
       " 0.6666666666666666,\n",
       " 0.6190476190476191,\n",
       " 0.6190476190476191,\n",
       " 0.7142857142857143,\n",
       " 0.7142857142857143,\n",
       " 0.8095238095238095,\n",
       " 0.7619047619047619,\n",
       " 0.8095238095238095,\n",
       " 0.8095238095238095,\n",
       " 0.7142857142857143,\n",
       " 0.7619047619047619,\n",
       " 0.8095238095238095]"
      ]
     },
     "execution_count": 92,
     "metadata": {},
     "output_type": "execute_result"
    }
   ],
   "source": [
    "scores_per_time_window"
   ]
  },
  {
   "cell_type": "code",
   "execution_count": 52,
   "metadata": {},
   "outputs": [
    {
     "data": {
      "text/plain": [
       "[0.3142857142857143,\n",
       " 0.37142857142857144,\n",
       " 0.34285714285714286,\n",
       " 0.3142857142857143,\n",
       " 0.34285714285714286,\n",
       " 0.34285714285714286,\n",
       " 0.4,\n",
       " 0.4857142857142857,\n",
       " 0.4857142857142857,\n",
       " 0.4857142857142857,\n",
       " 0.42857142857142855,\n",
       " 0.4,\n",
       " 0.42857142857142855,\n",
       " 0.4,\n",
       " 0.45714285714285713,\n",
       " 0.42857142857142855,\n",
       " 0.45714285714285713,\n",
       " 0.42857142857142855,\n",
       " 0.42857142857142855,\n",
       " 0.4857142857142857,\n",
       " 0.4857142857142857,\n",
       " 0.4857142857142857,\n",
       " 0.4857142857142857,\n",
       " 0.4857142857142857,\n",
       " 0.45714285714285713,\n",
       " 0.4857142857142857,\n",
       " 0.4857142857142857,\n",
       " 0.45714285714285713,\n",
       " 0.42857142857142855,\n",
       " 0.45714285714285713,\n",
       " 0.5142857142857142,\n",
       " 0.6,\n",
       " 0.5714285714285714,\n",
       " 0.5142857142857142,\n",
       " 0.5428571428571428,\n",
       " 0.5142857142857142,\n",
       " 0.5714285714285714,\n",
       " 0.6,\n",
       " 0.5714285714285714,\n",
       " 0.5714285714285714,\n",
       " 0.5428571428571428,\n",
       " 0.5428571428571428,\n",
       " 0.5428571428571428,\n",
       " 0.5142857142857142,\n",
       " 0.5428571428571428,\n",
       " 0.5142857142857142,\n",
       " 0.45714285714285713,\n",
       " 0.45714285714285713,\n",
       " 0.45714285714285713,\n",
       " 0.42857142857142855,\n",
       " 0.4857142857142857,\n",
       " 0.5142857142857142,\n",
       " 0.5428571428571428,\n",
       " 0.6,\n",
       " 0.5428571428571428,\n",
       " 0.5142857142857142,\n",
       " 0.5142857142857142,\n",
       " 0.4857142857142857,\n",
       " 0.5428571428571428,\n",
       " 0.45714285714285713,\n",
       " 0.45714285714285713,\n",
       " 0.45714285714285713,\n",
       " 0.4,\n",
       " 0.45714285714285713,\n",
       " 0.4857142857142857,\n",
       " 0.42857142857142855,\n",
       " 0.45714285714285713,\n",
       " 0.4857142857142857,\n",
       " 0.4857142857142857,\n",
       " 0.4857142857142857,\n",
       " 0.45714285714285713]"
      ]
     },
     "execution_count": 52,
     "metadata": {},
     "output_type": "execute_result"
    }
   ],
   "source": [
    "scores_per_time_window\n"
   ]
  },
  {
   "cell_type": "code",
   "execution_count": 93,
   "metadata": {},
   "outputs": [
    {
     "name": "stdout",
     "output_type": "stream",
     "text": [
      "0.7292250233426708\n"
     ]
    }
   ],
   "source": [
    "def average_from_index_to_index(lst, start, end):\n",
    "    # Ensure the indices are within the bounds of the list\n",
    "    if start < 0 or end >= len(lst) or start > end:\n",
    "        raise ValueError(\"Invalid start or end index\")\n",
    "    \n",
    "    # Slice the list from start to end (inclusive)\n",
    "    sublist = lst[start:end+1]\n",
    "    \n",
    "    # Calculate the average\n",
    "    average = sum(sublist) / len(sublist)\n",
    "    \n",
    "    return average\n",
    "\n",
    "# Example usage\n",
    "start_index = 20\n",
    "end_index =70\n",
    "print(average_from_index_to_index(scores_per_time_window, start_index, end_index))  # Output: 35.0"
   ]
  },
  {
   "cell_type": "code",
   "execution_count": 79,
   "metadata": {},
   "outputs": [],
   "source": [
    "# Time points (assuming each point is 100 ms apart)\n",
    "time_points = np.arange(0, len(scores_per_time_window) * 0.1, 0.1)  # in seconds\n",
    "\n",
    "# Plotting\n",
    "plt.figure(figsize=(12, 6))\n",
    "plt.plot(time_points, scores_per_time_window, marker='o')\n",
    "plt.title('Sliding Window Scores Over Time')\n",
    "plt.xlabel('Time (s)')\n",
    "plt.ylabel('Score')\n",
    "plt.grid(True)\n",
    "plt.show()"
   ]
  },
  {
   "cell_type": "code",
   "execution_count": 246,
   "metadata": {},
   "outputs": [],
   "source": [
    "all_epoch_data = epochs.get_data()"
   ]
  },
  {
   "cell_type": "code",
   "execution_count": 247,
   "metadata": {},
   "outputs": [],
   "source": [
    "\n",
    "scaler = RobustScaler()\n",
    "all_epoch_data_flat = all_epoch_data.reshape(all_epoch_data.shape[0], -1)\n",
    "all_epoch_data_normalized = scaler.fit_transform(all_epoch_data_flat).reshape(all_epoch_data.shape)\n",
    "\n",
    "# Update combined epochs with normalized data\n",
    "epochs._data = all_epoch_data_normalized"
   ]
  },
  {
   "cell_type": "code",
   "execution_count": 22,
   "metadata": {},
   "outputs": [],
   "source": [
    "from sklearn.preprocessing import StandardScaler, RobustScaler\n"
   ]
  },
  {
   "cell_type": "code",
   "execution_count": 29,
   "metadata": {},
   "outputs": [
    {
     "name": "stdout",
     "output_type": "stream",
     "text": [
      "Reading c:\\Users\\gilad\\3_Class_MI_21_01_25\\epochs_combined-epo2.fif ...\n",
      "    Found the data of interest:\n",
      "        t =   -3000.00 ...    5000.00 ms\n",
      "        0 CTF compensation matrices available\n",
      "Not setting metadata\n",
      "40 matching events found\n",
      "No baseline correction applied\n",
      "0 projection items activated\n"
     ]
    }
   ],
   "source": [
    "loaded_epochs = mne.read_epochs('epochs_combined-epo2.fif', preload=True)"
   ]
  }
 ],
 "metadata": {
  "kernelspec": {
   "display_name": "BCIEnvironment",
   "language": "python",
   "name": "python3"
  },
  "language_info": {
   "codemirror_mode": {
    "name": "ipython",
    "version": 3
   },
   "file_extension": ".py",
   "mimetype": "text/x-python",
   "name": "python",
   "nbconvert_exporter": "python",
   "pygments_lexer": "ipython3",
   "version": "3.10.8"
  }
 },
 "nbformat": 4,
 "nbformat_minor": 2
}
