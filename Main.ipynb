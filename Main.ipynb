{
 "cells": [
  {
   "cell_type": "markdown",
   "metadata": {},
   "source": [
    "Imports and General Setup"
   ]
  },
  {
   "cell_type": "code",
   "execution_count": 1,
   "metadata": {},
   "outputs": [
    {
     "name": "stdout",
     "output_type": "stream",
     "text": [
      "all available recording files ['Fudge_MI3_1.xdf', 'Fudge_MI3_2.xdf', 'Fudge_MI3_3.xdf', 'Fudge_MI3_4.xdf', 'Gilad2_MI3_3.xdf', 'Gilad2_MI3_4.xdf', 'Gilad_3_AO.xdf', 'Gilad_MI3_1.xdf', 'Gilad_MI3_2.xdf', 'Gi_Block_1.xdf', 'Gi_Block_3.xdf', 'Gi_Block_4.xdf', 'g_mi_1.xdf', 'g_mi_3.xdf', 'g_mi_4.xdf', 'NH37_Block_1.xdf', 'NH37_Block_2.xdf', 'NH37_Block_3.xdf', 'NH_34_MI5.xdf', 'NH_34_MI6.xdf', 'NH_3_AO.xdf', 'NH_3_MI1.xdf', 'NH_3_MI2.xdf', 'NH_3_MI3.xdf', 'NH_3_MI4.xdf', 'NH_Block_3.xdf', 'Or_MI_1.xdf', 'Or_MI_2.xdf', 'Or_MI_3.xdf', 'Realtime_annotations.xdf', 'Rg_mi_2.xdf', 'Roei-MI_1.xdf', 'Roei-MI_2.xdf', 'Roei-MI_3.xdf', 'Ron_3rd_MI_01.xdf', 'Ron_3rd_MI_02.xdf', 'Ron_3rd_MI_03.xdf', 'Ron_MI_3_1.xdf', 'Ron_MI_3_2.xdf', 'Ron_MI_3_3.xdf', 'Ron_MI_3_4.xdf']\n",
      "only subjects IDS: ['Fudge', 'Fudge', 'Fudge', 'Fudge', 'Gilad2', 'Gilad2', 'Gilad', 'Gilad', 'Gilad', 'Gi', 'Gi', 'Gi', 'g', 'g', 'g', 'NH37', 'NH37', 'NH37', 'NH', 'NH', 'NH', 'NH', 'NH', 'NH', 'NH', 'NH', 'Or', 'Or', 'Or', 'Realtime', 'Rg', 'Roei-MI', 'Roei-MI', 'Roei-MI', 'Ron', 'Ron', 'Ron', 'Ron', 'Ron', 'Ron', 'Ron']\n",
      "filenames:\n",
      " ['Fudge_MI3_1.xdf', 'Fudge_MI3_2.xdf', 'Fudge_MI3_3.xdf', 'Fudge_MI3_4.xdf', 'Gilad2_MI3_3.xdf', 'Gilad2_MI3_4.xdf', 'Gilad_3_AO.xdf', 'Gilad_MI3_1.xdf', 'Gilad_MI3_2.xdf', 'Gi_Block_1.xdf', 'Gi_Block_3.xdf', 'Gi_Block_4.xdf', 'g_mi_1.xdf', 'g_mi_3.xdf', 'g_mi_4.xdf', 'NH37_Block_1.xdf', 'NH37_Block_2.xdf', 'NH37_Block_3.xdf', 'NH_34_MI5.xdf', 'NH_34_MI6.xdf', 'NH_3_AO.xdf', 'NH_3_MI1.xdf', 'NH_3_MI2.xdf', 'NH_3_MI3.xdf', 'NH_3_MI4.xdf', 'NH_Block_3.xdf', 'Or_MI_1.xdf', 'Or_MI_2.xdf', 'Or_MI_3.xdf', 'Realtime_annotations.xdf', 'Rg_mi_2.xdf', 'Roei-MI_1.xdf', 'Roei-MI_2.xdf', 'Roei-MI_3.xdf', 'Ron_3rd_MI_01.xdf', 'Ron_3rd_MI_02.xdf', 'Ron_3rd_MI_03.xdf', 'Ron_MI_3_1.xdf', 'Ron_MI_3_2.xdf', 'Ron_MI_3_3.xdf', 'Ron_MI_3_4.xdf']\n",
      "names:\n",
      " ['Fudge', 'Fudge', 'Fudge', 'Fudge', 'Gilad2', 'Gilad2', 'Gilad', 'Gilad', 'Gilad', 'Gi', 'Gi', 'Gi', 'g', 'g', 'g', 'NH37', 'NH37', 'NH37', 'NH', 'NH', 'NH', 'NH', 'NH', 'NH', 'NH', 'NH', 'Or', 'Or', 'Or', 'Realtime', 'Rg', 'Roei-MI', 'Roei-MI', 'Roei-MI', 'Ron', 'Ron', 'Ron', 'Ron', 'Ron', 'Ron', 'Ron']\n"
     ]
    }
   ],
   "source": [
    "\n",
    "\n",
    "# Some standard pythonic imports\n",
    "import warnings\n",
    "warnings.filterwarnings('ignore')\n",
    "import logging\n",
    "import os,numpy as np,pandas as pd\n",
    "from collections import OrderedDict\n",
    "import seaborn as sns\n",
    "from matplotlib import pyplot as plt\n",
    "import itertools\n",
    "from tqdm import tqdm\n",
    "import json\n",
    "\n",
    "# MNE library for EEG data analysis\n",
    "import mne\n",
    "from mne import Epochs,find_events\n",
    "from mne.decoding import Vectorizer\n",
    "from mne.io import concatenate_raws, read_raw_edf\n",
    "from mne.datasets import eegbci\n",
    "from mne.decoding import CSP\n",
    "from mne.preprocessing import ICA\n",
    "\n",
    "from autoreject import AutoReject\n",
    "\n",
    "# XDF file format support in MNE\n",
    "import pyxdf\n",
    "from mne_import_xdf import *\n",
    "\n",
    "# Scikit-learn and Pyriemann for feature extraction and machine learning functionalities\n",
    "from sklearn.metrics import f1_score\n",
    "from sklearn.pipeline import make_pipeline, Pipeline\n",
    "from sklearn.linear_model import LogisticRegression\n",
    "from sklearn.preprocessing import StandardScaler\n",
    "from sklearn.discriminant_analysis import LinearDiscriminantAnalysis \n",
    "from sklearn.svm import SVC  # Support Vector Classifier\n",
    "from sklearn.multiclass import OneVsOneClassifier\n",
    "from sklearn.model_selection import ShuffleSplit, cross_val_score,train_test_split\n",
    "from sklearn.metrics import confusion_matrix,ConfusionMatrixDisplay\n",
    "from sklearn.model_selection import cross_val_score, StratifiedShuffleSplit, train_test_split\n",
    "from pyriemann.estimation import ERPCovariances, XdawnCovariances, Xdawn, Covariances\n",
    "from pyriemann.tangentspace import TangentSpace\n",
    "from pyriemann.classification import MDM\n",
    "\n",
    "#import moab to get the filterbank implementation: \n",
    "from moabb.pipelines.utils import FilterBank\n",
    "\n",
    "# For  GUI elements\n",
    "from easygui import *\n",
    "\n",
    "# For path manipulation\n",
    "import pathlib\n",
    "from os import listdir\n",
    "from os.path import isfile, join\n",
    "\n",
    "# For interactive plots\n",
    "import PyQt5\n",
    "from IPython import get_ipython\n",
    "get_ipython().run_line_magic('matplotlib', 'qt')\n",
    "\n",
    "#imports for precision_recall_curve related plot: \n",
    "from sklearn.preprocessing import label_binarize\n",
    "from sklearn.metrics import average_precision_score, precision_recall_curve,PrecisionRecallDisplay\n",
    "from itertools import cycle\n",
    "import matplotlib.pyplot as plt\n",
    "import pickle\n",
    "\n",
    "import copy\n",
    "\n",
    "\n",
    "from braindecode.models import ShallowFBCSPNet\n",
    "from braindecode.datautil import create_from_mne_epochs\n",
    "from braindecode.training import CroppedLoss\n",
    "from braindecode.training.scoring import trial_preds_from_window_preds\n",
    "from torch.optim import Adam\n",
    "from torch.utils.data import DataLoader\n",
    "import torch\n",
    "\n",
    "\n",
    "from preprocessing import *\n",
    "from training import *\n",
    "from evaluation import *\n",
    "\n",
    "# Define paths for data storage and processing\n",
    "current_path = pathlib.Path().absolute()  \n",
    "recording_path = current_path / 'Recordings'\n",
    "figure_outputs_path=current_path / 'Figures'\n",
    "\n",
    "#extract all recorded files and subject names\n",
    "recording_files = [f for f in listdir(recording_path) if isfile(join(recording_path, f)) and ('.xdf' in f)]\n",
    "if not(figure_outputs_path.exists()):\n",
    "    print('the output folder does not exists:  ',figure_outputs_path)\n",
    "\n",
    "\n",
    "print('all available recording files',recording_files)\n",
    "subject_names=[r.split('_')[0] for r in recording_files]\n",
    "print('only subjects IDS:',subject_names)\n",
    "\n",
    "# Initial definitions: \n",
    "\n",
    "print('filenames:\\n',recording_files)\n",
    "print('names:\\n',subject_names)\n",
    "\n",
    "\n",
    "#define the electrode groups: the key can be anything, the values should be a list of electrodes\n",
    "Electorde_Groups = {'FP': ['Fp1', 'Fp2'],\n",
    "                   'AF': ['AF7', 'AF3', 'AFz', 'AF4', 'AF8'],\n",
    "                   'F' : ['F7', 'F5', 'F3', 'F1', 'Fz', 'F2', 'F4', 'F6', 'F8'],\n",
    "                   'FC': ['FC5', 'FC3', 'FC1', 'FC2', 'FC4', 'FC6'],\n",
    "                   'C' : ['C5', 'C3', 'C1', 'Cz', 'C2', 'C4' ,'C6'],\n",
    "                   'CP': ['CP5', 'CP3','CP1', 'CPz', 'CP2', 'CP4', 'CP6'],\n",
    "                   'P' : ['P7','P5','P3', 'P1', 'Pz', 'P2', 'P4', 'P6', 'P8'],\n",
    "                   'PO': ['PO7','PO3', 'POz', 'PO4', 'PO8'],\n",
    "                   'O' : ['Oz', 'O2', 'O1', 'Iz']\n",
    "                  } "
   ]
  },
  {
   "cell_type": "markdown",
   "metadata": {},
   "source": [
    "Create a parameter dictionary "
   ]
  },
  {
   "cell_type": "code",
   "execution_count": 31,
   "metadata": {},
   "outputs": [],
   "source": [
    "params_dict={}\n",
    "params_dict['PerformCsd']=True\n",
    "Electorde_Group_Names='F+FC+C+CP+P+PO'\n",
    "params_dict['Electorde_Group']=[] \n",
    "for cur_elec_group_name in Electorde_Group_Names.split('+'):\n",
    "    params_dict['Electorde_Group']=params_dict['Electorde_Group']+Electorde_Groups[cur_elec_group_name]\n",
    "params_dict['bad_electrodes'] = get_subject_bad_electrodes ('Ron') # Manually define subject name\n",
    "params_dict['filter_method']='fir'\n",
    "params_dict['epoch_tmins_and_maxes_grid'] = [-4,6]\n",
    "params_dict['epoch_tmin'] = -4\n",
    "params_dict['epoch_tmax'] = 6\n",
    "params_dict['n_components']= 8\n",
    "params_dict['LowPass']=5\n",
    "params_dict['HighPass']=35\n",
    "params_dict['filters_bands']=[[7, 12], [12, 20], [20, 28], [28, 35]]\n",
    "params_dict['augmentation_params']={'win_len': 1, 'win_step': 0.1}\n",
    "params_dict['classifier_window_s']=1\n",
    "params_dict['classifier_window_e']=2\n",
    "params_dict['windowed_prediction_params']={'win_len': 2, 'win_step': 0.1}\n",
    "params_dict['pipeline_name']='csp+lda'\n",
    "params_dict['n_components_fbcsp']=10\n",
    "params_dict['desired_events'] = ['ActiveRest','OpenPalm','ClosePalm','Rest'] \n"
   ]
  },
  {
   "cell_type": "markdown",
   "metadata": {},
   "source": [
    "Load XDF files and convert to combined mne Raw instance"
   ]
  },
  {
   "cell_type": "code",
   "execution_count": 32,
   "metadata": {},
   "outputs": [
    {
     "data": {
      "text/plain": [
       "[WindowsPath('c:/Users/gilad/3_Class_MI_21_01_25/Recordings/Ron_3rd_MI_01.xdf'),\n",
       " WindowsPath('c:/Users/gilad/3_Class_MI_21_01_25/Recordings/Ron_3rd_MI_02.xdf'),\n",
       " WindowsPath('c:/Users/gilad/3_Class_MI_21_01_25/Recordings/Ron_3rd_MI_03.xdf')]"
      ]
     },
     "execution_count": 32,
     "metadata": {},
     "output_type": "execute_result"
    }
   ],
   "source": [
    "xdf_files = [f for f in recording_path.glob('*.xdf') if 'Ron_3rd' in  f.name] # fill in name to select subject files\n",
    "#OriginalRaw = Load_and_concatenate_xdf(xdf_files)\n",
    "xdf_files"
   ]
  },
  {
   "cell_type": "code",
   "execution_count": 94,
   "metadata": {},
   "outputs": [
    {
     "name": "stdout",
     "output_type": "stream",
     "text": [
      "Creating RawArray with float64 data, n_channels=67, n_times=316511\n",
      "    Range : 0 ... 316510 =      0.000 ...   633.020 secs\n",
      "Ready.\n",
      "\n",
      "###########################################################\n",
      "removing subject specific bad electrodes from the raw data\n",
      "\n",
      "###########################################################\n",
      "removing bad channels from epochs:\n",
      "EEG channel type selected for re-referencing\n",
      "Applying average reference.\n",
      "Applying a custom ('EEG',) reference.\n",
      "EEG channel type selected for re-referencing\n",
      "Applying average reference.\n",
      "Applying a custom ('EEG',) reference.\n",
      "\n",
      "###########################################################\n",
      "filtering the data\n",
      "Filtering raw data in 1 contiguous segment\n",
      "Setting up band-pass filter from 5 - 35 Hz\n",
      "\n",
      "FIR filter parameters\n",
      "---------------------\n",
      "Designing a one-pass, zero-phase, non-causal bandpass filter:\n",
      "- Windowed time-domain design (firwin) method\n",
      "- Hamming window with 0.0194 passband ripple and 53 dB stopband attenuation\n",
      "- Lower passband edge: 5.00\n",
      "- Lower transition bandwidth: 2.00 Hz (-6 dB cutoff frequency: 4.00 Hz)\n",
      "- Upper passband edge: 35.00 Hz\n",
      "- Upper transition bandwidth: 8.75 Hz (-6 dB cutoff frequency: 39.38 Hz)\n",
      "- Filter length: 825 samples (1.650 s)\n",
      "\n"
     ]
    },
    {
     "name": "stderr",
     "output_type": "stream",
     "text": [
      "[Parallel(n_jobs=1)]: Using backend SequentialBackend with 1 concurrent workers.\n",
      "[Parallel(n_jobs=1)]: Done   1 out of   1 | elapsed:    0.0s remaining:    0.0s\n",
      "[Parallel(n_jobs=1)]: Done   2 out of   2 | elapsed:    0.0s remaining:    0.0s\n",
      "[Parallel(n_jobs=1)]: Done   3 out of   3 | elapsed:    0.0s remaining:    0.0s\n",
      "[Parallel(n_jobs=1)]: Done   4 out of   4 | elapsed:    0.0s remaining:    0.0s\n"
     ]
    },
    {
     "name": "stdout",
     "output_type": "stream",
     "text": [
      "Used Annotations descriptions: ['ActiveRest', 'Beep', 'ClosePalm', 'Long Break', 'OpenPalm', 'Rest']\n",
      "\n",
      "###########################################################\n",
      "extracting event info: {'ActiveRest': 1, 'Beep': 2, 'ClosePalm': 3, 'Long Break': 4, 'OpenPalm': 5, 'Rest': 6}\n",
      "\n",
      "###########################################################\n",
      "Not setting metadata\n",
      "98 matching events found\n",
      "No baseline correction applied\n",
      "0 projection items activated\n",
      "Using data from preloaded Raw for 98 events and 5001 original time points ...\n"
     ]
    },
    {
     "name": "stderr",
     "output_type": "stream",
     "text": [
      "[Parallel(n_jobs=1)]: Done  62 out of  62 | elapsed:    0.5s finished\n"
     ]
    },
    {
     "name": "stdout",
     "output_type": "stream",
     "text": [
      "2 bad epochs dropped\n",
      "Fitted sphere radius:         95.0 mm\n",
      "Origin head coordinates:      0.0 -0.0 0.0 mm\n",
      "Origin device coordinates:    0.0 -0.0 0.0 mm\n",
      "ActiveRest\n",
      "OpenPalm\n",
      "ClosePalm\n",
      "Rest\n",
      "Not setting metadata\n",
      "96 matching events found\n",
      "No baseline correction applied\n",
      "0 projection items activated\n",
      "\n",
      "###########################################################\n",
      "removing bad channels from epochs:\n",
      "Concatenating all preprocessed epochs...\n",
      "Not setting metadata\n",
      "96 matching events found\n",
      "No baseline correction applied\n"
     ]
    }
   ],
   "source": [
    "epochs_list = []\n",
    "filter_bank_epochs_list = []\n",
    "for xdf_file in xdf_files[2:3]:\n",
    "    raw=read_raw_xdf(xdf_file)\n",
    "    epoch,filter_bank_epochs,mean_across_epochs, events_trigger_dict = EEG_Preprocessing(current_path,raw,params_dict)\n",
    "    epochs_list.append(epoch)\n",
    "    filter_bank_epochs_list.append(filter_bank_epochs)\n",
    "\n",
    "print(\"Concatenating all preprocessed epochs...\")\n",
    "epochs = mne.concatenate_epochs(epochs_list, on_mismatch='warn')\n",
    "filter_bank_epochs = None"
   ]
  },
  {
   "cell_type": "code",
   "execution_count": 93,
   "metadata": {},
   "outputs": [
    {
     "data": {
      "text/plain": [
       "[WindowsPath('c:/Users/gilad/3_Class_MI_21_01_25/Recordings/Ron_3rd_MI_03.xdf')]"
      ]
     },
     "execution_count": 93,
     "metadata": {},
     "output_type": "execute_result"
    }
   ],
   "source": [
    "xdf_files[2:3]"
   ]
  },
  {
   "cell_type": "markdown",
   "metadata": {},
   "source": [
    "Pre-processing"
   ]
  },
  {
   "cell_type": "code",
   "execution_count": 76,
   "metadata": {},
   "outputs": [
    {
     "name": "stdout",
     "output_type": "stream",
     "text": [
      "putting aside 20% of the data: trial numbers are:\n",
      " [  1 151  17  97  51 144  79 153  90 123  68 120  47  57  48 166 111 124\n",
      "  74 106 156   6  38  86  50  81 130  96  89  88  34  58  29 109]\n",
      "\n",
      "remaining 80% of the trials go into training for cv:\n",
      " [ 82 107  30  32 100  26 105 116  84  27  18 141 145 147  66 125 137  98\n",
      "   4  44  43 135 128  85  46 164  75 102 131  53  35   8  77 149 114 104\n",
      " 157  49 159  69  20  40   0  21  59 140  72  28  25 161 129 117  63  99\n",
      "  65 101  12  78 119   7  36  10 165 143 148 168  95  94 112  22 139 154\n",
      "  64  56  45 158  93 150  76 134 163  83 115  41  37 152  31 133  73 155\n",
      "  16  14  71 121 136  92 132 110   2 167  39  80  33  62 138 113  67  60\n",
      "  23 108  91   9  42 142  11 118  13  54  52 162 122   5 146  19 160  55\n",
      "   3 103  70  61 127  87  15  24 126]\n",
      "\n"
     ]
    }
   ],
   "source": [
    "events = epochs.events\n",
    "event_dict = epochs.event_id\n",
    "params_dict['events_trigger_dict'] = {key: event_dict[key] for key in event_dict.keys() if key in params_dict['desired_events']}\n",
    "train_inds,validation_inds,return_dict = Split_training_validation (epochs,filter_bank_epochs, params_dict['events_trigger_dict'])\n",
    "epochs_copy = epochs.copy()\n",
    "returned_dict=crop_the_data(epochs_copy,train_inds,validation_inds,params_dict['classifier_window_s'],params_dict['classifier_window_e']) #two more paramters here are tmin and tmax which are not used apparently. \n",
    "train_set_data_uncropped=returned_dict['train_set_data_uncropped']\n",
    "epochs_cropped=returned_dict['epochs_cropped']\n",
    "train_set_data=returned_dict['train_set_data']\n",
    "train_set_labels=returned_dict['train_set_labels']\n",
    "\n",
    "validation_set_labels=returned_dict['validation_set_labels']\n",
    "validation_set_data_uncropped=returned_dict['validation_set_data_uncropped']\n",
    "#define cv on the data: \n",
    "cv = StratifiedShuffleSplit(5, test_size=0.2, random_state=42)\n",
    "cv_split = cv.split(epochs_cropped.get_data(),events[:,2])\n",
    "\n",
    "#filter bank related:\n",
    "if params_dict['pipeline_name']=='fbcsp+lda': \n",
    "    train_set_data_fb=[]\n",
    "    train_set_data_uncropped_fb=[]\n",
    "    validation_set_data_fb=[]\n",
    "    validation_set_data_uncropped_fb=[]\n",
    "    for filtered_data_band_epoch in preprocessing_dict['filter_bank_epochs']:\n",
    "        returned_dict_temp=crop_the_data(filtered_data_band_epoch,train_inds,validation_inds, params_dict['classifier_window_s'],params_dict['classifier_window_e'])\n",
    "        #extract the train set data: \n",
    "        train_set_data_uncropped_temp=returned_dict_temp['train_set_data_uncropped']\n",
    "        train_set_data_temp=returned_dict_temp['train_set_data']\n",
    "        train_set_data_fb.append(train_set_data_temp)\n",
    "        train_set_data_uncropped_fb.append(train_set_data_uncropped_temp)\n",
    "        #extract the validation set data: \n",
    "        validation_set_data_uncroped_temp=returned_dict_temp['validation_set_data_uncroped']\n",
    "        validation_set_data_temp=returned_dict_temp['validation_set_data']\n",
    "        validation_set_data_fb.append(validation_set_data_temp)\n",
    "        validation_set_data_uncropped_fb.append(validation_set_data_uncroped_temp)\n",
    "    #create a 4d matrix of train data:     \n",
    "    train_set_data_4d_array= np.transpose(np.array(train_set_data_fb),(1,2,3,0))\n",
    "    train_set_data_uncropped_4d_array=np.transpose(np.array(train_set_data_uncropped_fb),(1,2,3,0)) \n",
    "    train_set_data=train_set_data_4d_array\n",
    "    train_set_data_uncropped=train_set_data_uncropped_4d_array\n",
    "    #create a 4d matrix of validation data: \n",
    "    validation_set_data_4d_array= np.transpose(np.array(validation_set_data_fb),(1,2,3,0))\n",
    "    validation_set_data_uncropped_4d_array=np.transpose(np.array(validation_set_data_uncropped_fb),(1,2,3,0)) \n",
    "    validation_set_data_uncropped=validation_set_data_uncropped_4d_array\n",
    "\n",
    "\n",
    "augmented_x,augmented_y = augment_data(params_dict['augmentation_params'], train_set_data,train_set_labels,epochs.info['sfreq'])\n",
    "\n",
    "triggers_label_dict={val:key for key,val in params_dict['events_trigger_dict'].items()} \n",
    "test_data_y_labels=np.array([triggers_label_dict[cur_y] for cur_y in validation_set_labels])  \n",
    "augmented_y_labels=np.array([triggers_label_dict[cur_y] for cur_y in augmented_y])  \n"
   ]
  },
  {
   "cell_type": "markdown",
   "metadata": {},
   "source": [
    "Cross-Validation Evaluation "
   ]
  },
  {
   "cell_type": "code",
   "execution_count": 77,
   "metadata": {},
   "outputs": [
    {
     "name": "stdout",
     "output_type": "stream",
     "text": [
      "Computing rank from data with rank=None\n"
     ]
    },
    {
     "name": "stdout",
     "output_type": "stream",
     "text": [
      "    Using tolerance 0.015 (2.2e-16 eps * 42 dim * 1.6e+12  max singular value)\n",
      "    Estimated rank (mag): 42\n",
      "    MAG: rank 42 computed from 42 data channels with 0 projectors\n",
      "Reducing data rank from 42 -> 42\n",
      "Estimating covariance using OAS\n",
      "Done.\n",
      "Computing rank from data with rank=None\n",
      "    Using tolerance 0.013 (2.2e-16 eps * 42 dim * 1.4e+12  max singular value)\n",
      "    Estimated rank (mag): 42\n",
      "    MAG: rank 42 computed from 42 data channels with 0 projectors\n",
      "Reducing data rank from 42 -> 42\n",
      "Estimating covariance using OAS\n",
      "Done.\n",
      "Computing rank from data with rank=None\n",
      "    Using tolerance 0.014 (2.2e-16 eps * 42 dim * 1.5e+12  max singular value)\n",
      "    Estimated rank (mag): 42\n",
      "    MAG: rank 42 computed from 42 data channels with 0 projectors\n",
      "Reducing data rank from 42 -> 42\n",
      "Estimating covariance using OAS\n",
      "Done.\n",
      "Computing rank from data with rank=None\n",
      "    Using tolerance 0.03 (2.2e-16 eps * 42 dim * 3.2e+12  max singular value)\n",
      "    Estimated rank (mag): 42\n",
      "    MAG: rank 42 computed from 42 data channels with 0 projectors\n",
      "Reducing data rank from 42 -> 42\n",
      "Estimating covariance using OAS\n",
      "Done.\n",
      "Class order in confusion matrix: ['ActiveRest' 'ClosePalm' 'OpenPalm' 'Rest']\n",
      "Computing rank from data with rank=None\n",
      "    Using tolerance 0.013 (2.2e-16 eps * 42 dim * 1.4e+12  max singular value)\n",
      "    Estimated rank (mag): 42\n",
      "    MAG: rank 42 computed from 42 data channels with 0 projectors\n",
      "Reducing data rank from 42 -> 42\n",
      "Estimating covariance using OAS\n",
      "Done.\n",
      "Computing rank from data with rank=None\n",
      "    Using tolerance 0.013 (2.2e-16 eps * 42 dim * 1.4e+12  max singular value)\n",
      "    Estimated rank (mag): 42\n",
      "    MAG: rank 42 computed from 42 data channels with 0 projectors\n",
      "Reducing data rank from 42 -> 42\n",
      "Estimating covariance using OAS\n",
      "Done.\n",
      "Computing rank from data with rank=None\n",
      "    Using tolerance 0.014 (2.2e-16 eps * 42 dim * 1.5e+12  max singular value)\n",
      "    Estimated rank (mag): 42\n",
      "    MAG: rank 42 computed from 42 data channels with 0 projectors\n",
      "Reducing data rank from 42 -> 42\n",
      "Estimating covariance using OAS\n",
      "Done.\n",
      "Computing rank from data with rank=None\n",
      "    Using tolerance 0.033 (2.2e-16 eps * 42 dim * 3.5e+12  max singular value)\n",
      "    Estimated rank (mag): 42\n",
      "    MAG: rank 42 computed from 42 data channels with 0 projectors\n",
      "Reducing data rank from 42 -> 42\n",
      "Estimating covariance using OAS\n",
      "Done.\n",
      "Class order in confusion matrix: ['ActiveRest' 'ClosePalm' 'OpenPalm' 'Rest']\n",
      "Computing rank from data with rank=None\n",
      "    Using tolerance 0.014 (2.2e-16 eps * 42 dim * 1.5e+12  max singular value)\n",
      "    Estimated rank (mag): 42\n",
      "    MAG: rank 42 computed from 42 data channels with 0 projectors\n",
      "Reducing data rank from 42 -> 42\n",
      "Estimating covariance using OAS\n",
      "Done.\n",
      "Computing rank from data with rank=None\n",
      "    Using tolerance 0.013 (2.2e-16 eps * 42 dim * 1.4e+12  max singular value)\n",
      "    Estimated rank (mag): 42\n",
      "    MAG: rank 42 computed from 42 data channels with 0 projectors\n",
      "Reducing data rank from 42 -> 42\n",
      "Estimating covariance using OAS\n",
      "Done.\n",
      "Computing rank from data with rank=None\n",
      "    Using tolerance 0.014 (2.2e-16 eps * 42 dim * 1.5e+12  max singular value)\n",
      "    Estimated rank (mag): 42\n",
      "    MAG: rank 42 computed from 42 data channels with 0 projectors\n",
      "Reducing data rank from 42 -> 42\n",
      "Estimating covariance using OAS\n",
      "Done.\n",
      "Computing rank from data with rank=None\n",
      "    Using tolerance 0.033 (2.2e-16 eps * 42 dim * 3.5e+12  max singular value)\n",
      "    Estimated rank (mag): 42\n",
      "    MAG: rank 42 computed from 42 data channels with 0 projectors\n",
      "Reducing data rank from 42 -> 42\n",
      "Estimating covariance using OAS\n",
      "Done.\n",
      "Class order in confusion matrix: ['ActiveRest' 'ClosePalm' 'OpenPalm' 'Rest']\n",
      "Computing rank from data with rank=None\n",
      "    Using tolerance 0.015 (2.2e-16 eps * 42 dim * 1.6e+12  max singular value)\n",
      "    Estimated rank (mag): 42\n",
      "    MAG: rank 42 computed from 42 data channels with 0 projectors\n",
      "Reducing data rank from 42 -> 42\n",
      "Estimating covariance using OAS\n",
      "Done.\n",
      "Computing rank from data with rank=None\n",
      "    Using tolerance 0.013 (2.2e-16 eps * 42 dim * 1.4e+12  max singular value)\n",
      "    Estimated rank (mag): 42\n",
      "    MAG: rank 42 computed from 42 data channels with 0 projectors\n",
      "Reducing data rank from 42 -> 42\n",
      "Estimating covariance using OAS\n",
      "Done.\n",
      "Computing rank from data with rank=None\n",
      "    Using tolerance 0.014 (2.2e-16 eps * 42 dim * 1.5e+12  max singular value)\n",
      "    Estimated rank (mag): 42\n",
      "    MAG: rank 42 computed from 42 data channels with 0 projectors\n",
      "Reducing data rank from 42 -> 42\n",
      "Estimating covariance using OAS\n",
      "Done.\n",
      "Computing rank from data with rank=None\n",
      "    Using tolerance 0.031 (2.2e-16 eps * 42 dim * 3.4e+12  max singular value)\n",
      "    Estimated rank (mag): 42\n",
      "    MAG: rank 42 computed from 42 data channels with 0 projectors\n",
      "Reducing data rank from 42 -> 42\n",
      "Estimating covariance using OAS\n",
      "Done.\n",
      "Class order in confusion matrix: ['ActiveRest' 'ClosePalm' 'OpenPalm' 'Rest']\n",
      "Computing rank from data with rank=None\n",
      "    Using tolerance 0.015 (2.2e-16 eps * 42 dim * 1.6e+12  max singular value)\n",
      "    Estimated rank (mag): 42\n",
      "    MAG: rank 42 computed from 42 data channels with 0 projectors\n",
      "Reducing data rank from 42 -> 42\n",
      "Estimating covariance using OAS\n",
      "Done.\n",
      "Computing rank from data with rank=None\n",
      "    Using tolerance 0.013 (2.2e-16 eps * 42 dim * 1.4e+12  max singular value)\n",
      "    Estimated rank (mag): 42\n",
      "    MAG: rank 42 computed from 42 data channels with 0 projectors\n",
      "Reducing data rank from 42 -> 42\n",
      "Estimating covariance using OAS\n",
      "Done.\n",
      "Computing rank from data with rank=None\n",
      "    Using tolerance 0.014 (2.2e-16 eps * 42 dim * 1.5e+12  max singular value)\n",
      "    Estimated rank (mag): 42\n",
      "    MAG: rank 42 computed from 42 data channels with 0 projectors\n",
      "Reducing data rank from 42 -> 42\n",
      "Estimating covariance using OAS\n",
      "Done.\n",
      "Computing rank from data with rank=None\n",
      "    Using tolerance 0.033 (2.2e-16 eps * 42 dim * 3.5e+12  max singular value)\n",
      "    Estimated rank (mag): 42\n",
      "    MAG: rank 42 computed from 42 data channels with 0 projectors\n",
      "Reducing data rank from 42 -> 42\n",
      "Estimating covariance using OAS\n",
      "Done.\n",
      "Class order in confusion matrix: ['ActiveRest' 'ClosePalm' 'OpenPalm' 'Rest']\n"
     ]
    }
   ],
   "source": [
    "scores_windows,folds_confusion_matrices_per_window,w_times= run_windowed_classification_aug_cv(epochs, returned_dict['epochs_cropped'], cv_split,params_dict)"
   ]
  },
  {
   "cell_type": "code",
   "execution_count": 78,
   "metadata": {},
   "outputs": [],
   "source": [
    "plot_accuracy_over_time(scores_windows, w_times, params_dict, axes_handle=None)"
   ]
  },
  {
   "cell_type": "code",
   "execution_count": 79,
   "metadata": {},
   "outputs": [],
   "source": [
    "w_step = int(500 * 0.1)   # running classifier: window length\n",
    "w_length = int(500 * 2)\n",
    "w_start = np.arange(0, epochs.get_data().shape[2] - w_length, w_step)"
   ]
  },
  {
   "cell_type": "code",
   "execution_count": 80,
   "metadata": {},
   "outputs": [],
   "source": [
    "w_times = (w_start + w_length / 2.) / 500 + params_dict['epoch_tmin']\n"
   ]
  },
  {
   "cell_type": "code",
   "execution_count": 81,
   "metadata": {},
   "outputs": [
    {
     "data": {
      "text/plain": [
       "array([   0,   50,  100,  150,  200,  250,  300,  350,  400,  450,  500,\n",
       "        550,  600,  650,  700,  750,  800,  850,  900,  950, 1000, 1050,\n",
       "       1100, 1150, 1200, 1250, 1300, 1350, 1400, 1450, 1500, 1550, 1600,\n",
       "       1650, 1700, 1750, 1800, 1850, 1900, 1950, 2000, 2050, 2100, 2150,\n",
       "       2200, 2250, 2300, 2350, 2400, 2450, 2500, 2550, 2600, 2650, 2700,\n",
       "       2750, 2800, 2850, 2900, 2950, 3000, 3050, 3100, 3150, 3200, 3250,\n",
       "       3300, 3350, 3400, 3450, 3500, 3550, 3600, 3650, 3700, 3750, 3800,\n",
       "       3850, 3900, 3950, 4000])"
      ]
     },
     "execution_count": 81,
     "metadata": {},
     "output_type": "execute_result"
    }
   ],
   "source": [
    "w_start"
   ]
  },
  {
   "cell_type": "markdown",
   "metadata": {},
   "source": [
    "Training"
   ]
  },
  {
   "cell_type": "code",
   "execution_count": 82,
   "metadata": {},
   "outputs": [
    {
     "name": "stdout",
     "output_type": "stream",
     "text": [
      "Computing rank from data with rank=None\n",
      "    Using tolerance 0.015 (2.2e-16 eps * 42 dim * 1.6e+12  max singular value)\n",
      "    Estimated rank (mag): 42\n",
      "    MAG: rank 42 computed from 42 data channels with 0 projectors\n",
      "Reducing data rank from 42 -> 42\n",
      "Estimating covariance using OAS\n",
      "Done.\n",
      "Computing rank from data with rank=None\n",
      "    Using tolerance 0.013 (2.2e-16 eps * 42 dim * 1.4e+12  max singular value)\n",
      "    Estimated rank (mag): 42\n",
      "    MAG: rank 42 computed from 42 data channels with 0 projectors\n",
      "Reducing data rank from 42 -> 42\n",
      "Estimating covariance using OAS\n",
      "Done.\n",
      "Computing rank from data with rank=None\n",
      "    Using tolerance 0.014 (2.2e-16 eps * 42 dim * 1.5e+12  max singular value)\n",
      "    Estimated rank (mag): 42\n",
      "    MAG: rank 42 computed from 42 data channels with 0 projectors\n",
      "Reducing data rank from 42 -> 42\n",
      "Estimating covariance using OAS\n",
      "Done.\n",
      "Computing rank from data with rank=None\n",
      "    Using tolerance 0.03 (2.2e-16 eps * 42 dim * 3.2e+12  max singular value)\n",
      "    Estimated rank (mag): 42\n",
      "    MAG: rank 42 computed from 42 data channels with 0 projectors\n",
      "Reducing data rank from 42 -> 42\n",
      "Estimating covariance using OAS\n",
      "Done.\n"
     ]
    }
   ],
   "source": [
    "clf,csp,lda = classifier_training(augmented_x,augmented_y,params_dict, BinaryClassification = False)"
   ]
  },
  {
   "cell_type": "code",
   "execution_count": 83,
   "metadata": {},
   "outputs": [
    {
     "data": {
      "image/png": "[encoded data removed]",
      "text/plain": [
       "<MNEFigure size 1200x220 with 9 Axes>"
      ]
     },
     "execution_count": 83,
     "metadata": {},
     "output_type": "execute_result"
    }
   ],
   "source": [
    "csp.plot_patterns(epochs.info)"
   ]
  },
  {
   "cell_type": "code",
   "execution_count": 84,
   "metadata": {},
   "outputs": [],
   "source": [
    "w_length = int(raw.info['sfreq'] * params_dict['windowed_prediction_params']['win_len'])   # running classifier: window length\n",
    "w_step = int(raw.info['sfreq'] * params_dict['windowed_prediction_params']['win_step'])  # running classifier: window step size\n",
    "w_start = np.arange(0, train_set_data_uncropped.shape[2] - w_length, w_step)\n",
    "w_times = (w_start + w_length / 2.) / raw.info['sfreq'] + params_dict['epoch_tmin']"
   ]
  },
  {
   "cell_type": "code",
   "execution_count": 85,
   "metadata": {},
   "outputs": [
    {
     "name": "stdout",
     "output_type": "stream",
     "text": [
      "Class order in confusion matrix: ['ActiveRest' 'ClosePalm' 'OpenPalm' 'Rest']\n"
     ]
    }
   ],
   "source": [
    "scores_per_time_window,confusion_matrices_per_window = run_windowed_pretrained_classifier(clf,validation_set_data_uncropped,test_data_y_labels,w_start,w_length)\n"
   ]
  },
  {
   "cell_type": "code",
   "execution_count": 7,
   "metadata": {},
   "outputs": [
    {
     "ename": "NameError",
     "evalue": "name 'scores_per_time_window' is not defined",
     "output_type": "error",
     "traceback": [
      "\u001b[1;31m---------------------------------------------------------------------------\u001b[0m",
      "\u001b[1;31mNameError\u001b[0m                                 Traceback (most recent call last)",
      "Cell \u001b[1;32mIn[7], line 1\u001b[0m\n\u001b[1;32m----> 1\u001b[0m plot_accuracy_over_time(\u001b[43mscores_per_time_window\u001b[49m, w_times, params_dict, axes_handle\u001b[38;5;241m=\u001b[39m\u001b[38;5;28;01mNone\u001b[39;00m)\n",
      "\u001b[1;31mNameError\u001b[0m: name 'scores_per_time_window' is not defined"
     ]
    }
   ],
   "source": [
    "plot_accuracy_over_time(scores_per_time_window, w_times, params_dict, axes_handle=None)"
   ]
  },
  {
   "cell_type": "code",
   "execution_count": 38,
   "metadata": {},
   "outputs": [
    {
     "data": {
      "text/plain": [
       "3501"
      ]
     },
     "execution_count": 38,
     "metadata": {},
     "output_type": "execute_result"
    }
   ],
   "source": [
    "train_set_data_uncropped.shape[2] + 500- w_length"
   ]
  },
  {
   "cell_type": "code",
   "execution_count": 22,
   "metadata": {},
   "outputs": [],
   "source": [
    "scores_windows_array = np.squeeze(np.array(scores_per_time_window))"
   ]
  },
  {
   "cell_type": "code",
   "execution_count": 23,
   "metadata": {},
   "outputs": [
    {
     "data": {
      "text/plain": [
       "(71,)"
      ]
     },
     "execution_count": 23,
     "metadata": {},
     "output_type": "execute_result"
    }
   ],
   "source": [
    "scores_windows_array.shape"
   ]
  },
  {
   "cell_type": "code",
   "execution_count": 23,
   "metadata": {},
   "outputs": [
    {
     "ename": "NameError",
     "evalue": "name 'confusion_matrices_per_window' is not defined",
     "output_type": "error",
     "traceback": [
      "\u001b[1;31m---------------------------------------------------------------------------\u001b[0m",
      "\u001b[1;31mNameError\u001b[0m                                 Traceback (most recent call last)",
      "Cell \u001b[1;32mIn[23], line 1\u001b[0m\n\u001b[1;32m----> 1\u001b[0m \u001b[43mconfusion_matrices_per_window\u001b[49m\n",
      "\u001b[1;31mNameError\u001b[0m: name 'confusion_matrices_per_window' is not defined"
     ]
    }
   ],
   "source": [
    "confusion_matrices_per_window"
   ]
  },
  {
   "cell_type": "code",
   "execution_count": 24,
   "metadata": {},
   "outputs": [
    {
     "ename": "ValueError",
     "evalue": "too many values to unpack (expected 2)",
     "output_type": "error",
     "traceback": [
      "\u001b[1;31m---------------------------------------------------------------------------\u001b[0m",
      "\u001b[1;31mValueError\u001b[0m                                Traceback (most recent call last)",
      "Cell \u001b[1;32mIn[24], line 37\u001b[0m\n\u001b[0;32m     34\u001b[0m     \u001b[38;5;28;01mreturn\u001b[39;00m (cm_binary, np\u001b[38;5;241m.\u001b[39marray([\u001b[38;5;124m'\u001b[39m\u001b[38;5;124mrest\u001b[39m\u001b[38;5;124m'\u001b[39m, \u001b[38;5;124m'\u001b[39m\u001b[38;5;124mmotor_imagery\u001b[39m\u001b[38;5;124m'\u001b[39m]))\n\u001b[0;32m     36\u001b[0m \u001b[38;5;66;03m# Example: Apply to all confusion matrices in the list\u001b[39;00m\n\u001b[1;32m---> 37\u001b[0m conf_matrices_merged \u001b[38;5;241m=\u001b[39m [merge_conf_matrix_tuple(cm_tuple) \u001b[38;5;28;01mfor\u001b[39;00m cm_tuple \u001b[38;5;129;01min\u001b[39;00m folds_confusion_matrices_per_window]\n\u001b[0;32m     39\u001b[0m \u001b[38;5;66;03m# Print merged confusion matrices\u001b[39;00m\n\u001b[0;32m     40\u001b[0m \u001b[38;5;28;01mfor\u001b[39;00m i, (cm_bin, labels) \u001b[38;5;129;01min\u001b[39;00m \u001b[38;5;28menumerate\u001b[39m(conf_matrices_merged):\n",
      "Cell \u001b[1;32mIn[24], line 37\u001b[0m, in \u001b[0;36m<listcomp>\u001b[1;34m(.0)\u001b[0m\n\u001b[0;32m     34\u001b[0m     \u001b[38;5;28;01mreturn\u001b[39;00m (cm_binary, np\u001b[38;5;241m.\u001b[39marray([\u001b[38;5;124m'\u001b[39m\u001b[38;5;124mrest\u001b[39m\u001b[38;5;124m'\u001b[39m, \u001b[38;5;124m'\u001b[39m\u001b[38;5;124mmotor_imagery\u001b[39m\u001b[38;5;124m'\u001b[39m]))\n\u001b[0;32m     36\u001b[0m \u001b[38;5;66;03m# Example: Apply to all confusion matrices in the list\u001b[39;00m\n\u001b[1;32m---> 37\u001b[0m conf_matrices_merged \u001b[38;5;241m=\u001b[39m [\u001b[43mmerge_conf_matrix_tuple\u001b[49m\u001b[43m(\u001b[49m\u001b[43mcm_tuple\u001b[49m\u001b[43m)\u001b[49m \u001b[38;5;28;01mfor\u001b[39;00m cm_tuple \u001b[38;5;129;01min\u001b[39;00m folds_confusion_matrices_per_window]\n\u001b[0;32m     39\u001b[0m \u001b[38;5;66;03m# Print merged confusion matrices\u001b[39;00m\n\u001b[0;32m     40\u001b[0m \u001b[38;5;28;01mfor\u001b[39;00m i, (cm_bin, labels) \u001b[38;5;129;01min\u001b[39;00m \u001b[38;5;28menumerate\u001b[39m(conf_matrices_merged):\n",
      "Cell \u001b[1;32mIn[24], line 16\u001b[0m, in \u001b[0;36mmerge_conf_matrix_tuple\u001b[1;34m(conf_matrix_tuple)\u001b[0m\n\u001b[0;32m      3\u001b[0m \u001b[38;5;28;01mdef\u001b[39;00m \u001b[38;5;21mmerge_conf_matrix_tuple\u001b[39m(conf_matrix_tuple):\n\u001b[0;32m      4\u001b[0m \u001b[38;5;250m    \u001b[39m\u001b[38;5;124;03m\"\"\"\u001b[39;00m\n\u001b[0;32m      5\u001b[0m \u001b[38;5;124;03m    Converts a 4-class confusion matrix into a 2-class confusion matrix\u001b[39;00m\n\u001b[0;32m      6\u001b[0m \u001b[38;5;124;03m    by merging:\u001b[39;00m\n\u001b[1;32m   (...)\u001b[0m\n\u001b[0;32m     14\u001b[0m \u001b[38;5;124;03m    tuple: (2x2 merged confusion matrix, new class labels)\u001b[39;00m\n\u001b[0;32m     15\u001b[0m \u001b[38;5;124;03m    \"\"\"\u001b[39;00m\n\u001b[1;32m---> 16\u001b[0m     cm_4class, class_labels \u001b[38;5;241m=\u001b[39m conf_matrix_tuple  \u001b[38;5;66;03m# Extract confusion matrix & labels\u001b[39;00m\n\u001b[0;32m     18\u001b[0m     \u001b[38;5;66;03m# Merge rows (true labels)\u001b[39;00m\n\u001b[0;32m     19\u001b[0m     row_0 \u001b[38;5;241m=\u001b[39m cm_4class[\u001b[38;5;241m0\u001b[39m] \u001b[38;5;241m+\u001b[39m cm_4class[\u001b[38;5;241m3\u001b[39m]  \u001b[38;5;66;03m# Merge 'ActiveRest' (0) & 'Rest' (3)\u001b[39;00m\n",
      "\u001b[1;31mValueError\u001b[0m: too many values to unpack (expected 2)"
     ]
    }
   ],
   "source": [
    "import numpy as np\n",
    "\n",
    "def merge_conf_matrix_tuple(conf_matrix_tuple):\n",
    "    \"\"\"\n",
    "    Converts a 4-class confusion matrix into a 2-class confusion matrix\n",
    "    by merging:\n",
    "    - 'ActiveRest' (0) & 'Rest' (3) → Class 0\n",
    "    - 'ClosePalm' (1) & 'OpenPalm' (2) → Class 1\n",
    "\n",
    "    Args:\n",
    "    conf_matrix_tuple (tuple): (4x4 confusion matrix, class labels)\n",
    "\n",
    "    Returns:\n",
    "    tuple: (2x2 merged confusion matrix, new class labels)\n",
    "    \"\"\"\n",
    "    cm_4class, class_labels = conf_matrix_tuple  # Extract confusion matrix & labels\n",
    "\n",
    "    # Merge rows (true labels)\n",
    "    row_0 = cm_4class[0] + cm_4class[3]  # Merge 'ActiveRest' (0) & 'Rest' (3)\n",
    "    row_1 = cm_4class[1] + cm_4class[2]  # Merge 'ClosePalm' (1) & 'OpenPalm' (2)\n",
    "\n",
    "    # Merge columns (predicted labels)\n",
    "    col_0 = row_0[0] + row_0[3]  # Merge predictions for 'ActiveRest' (0) & 'Rest' (3)\n",
    "    col_1 = row_0[1] + row_0[2]  # Merge predictions for 'ClosePalm' (1) & 'OpenPalm' (2)\n",
    "    col_2 = row_1[0] + row_1[3]  # Merge predictions for 'ActiveRest' (0) & 'Rest' (3)\n",
    "    col_3 = row_1[1] + row_1[2]  # Merge predictions for 'ClosePalm' (1) & 'OpenPalm' (2)\n",
    "\n",
    "    # Construct new 2x2 confusion matrix\n",
    "    cm_binary = np.array([\n",
    "        [col_0, col_1],  # Row 0 (New Class 0)\n",
    "        [col_2, col_3]   # Row 1 (New Class 1)\n",
    "    ])\n",
    "\n",
    "    return (cm_binary, np.array(['rest', 'motor_imagery']))\n",
    "\n",
    "# Example: Apply to all confusion matrices in the list\n",
    "conf_matrices_merged = [merge_conf_matrix_tuple(cm_tuple) for cm_tuple in folds_confusion_matrices_per_window]\n",
    "\n",
    "# Print merged confusion matrices\n",
    "for i, (cm_bin, labels) in enumerate(conf_matrices_merged):\n",
    "    print(f\"\\nBinary Confusion Matrix (Window {i+1}):\")\n",
    "    print(cm_bin)\n",
    "    print(\"New Labels:\", labels)\n"
   ]
  },
  {
   "cell_type": "code",
   "execution_count": 20,
   "metadata": {},
   "outputs": [
    {
     "ename": "NameError",
     "evalue": "name 'conf_matrices_merged' is not defined",
     "output_type": "error",
     "traceback": [
      "\u001b[1;31m---------------------------------------------------------------------------\u001b[0m",
      "\u001b[1;31mNameError\u001b[0m                                 Traceback (most recent call last)",
      "Cell \u001b[1;32mIn[20], line 31\u001b[0m\n\u001b[0;32m     29\u001b[0m \u001b[38;5;66;03m# Example: Compute the average confusion matrix from index 2 to 5\u001b[39;00m\n\u001b[0;32m     30\u001b[0m start_idx, end_idx \u001b[38;5;241m=\u001b[39m \u001b[38;5;241m30\u001b[39m, \u001b[38;5;241m71\u001b[39m\n\u001b[1;32m---> 31\u001b[0m avg_conf_matrix, avg_labels \u001b[38;5;241m=\u001b[39m average_conf_matrix(\u001b[43mconf_matrices_merged\u001b[49m, start_idx, end_idx)\n\u001b[0;32m     33\u001b[0m \u001b[38;5;66;03m# Print result\u001b[39;00m\n\u001b[0;32m     34\u001b[0m \u001b[38;5;28mprint\u001b[39m(\u001b[38;5;124m\"\u001b[39m\u001b[38;5;130;01m\\n\u001b[39;00m\u001b[38;5;124mAverage Confusion Matrix (From Index\u001b[39m\u001b[38;5;124m\"\u001b[39m, start_idx, \u001b[38;5;124m\"\u001b[39m\u001b[38;5;124mto\u001b[39m\u001b[38;5;124m\"\u001b[39m, end_idx, \u001b[38;5;124m\"\u001b[39m\u001b[38;5;124m):\u001b[39m\u001b[38;5;124m\"\u001b[39m)\n",
      "\u001b[1;31mNameError\u001b[0m: name 'conf_matrices_merged' is not defined"
     ]
    }
   ],
   "source": [
    "import numpy as np\n",
    "\n",
    "def average_conf_matrix(conf_matrices_merged, start_idx, end_idx):\n",
    "    \"\"\"\n",
    "    Computes the average confusion matrix over a given index range.\n",
    "\n",
    "    Args:\n",
    "    conf_matrices_merged (list of tuples): [(2x2 confusion matrix, labels), ...]\n",
    "    start_idx (int): Start index for averaging.\n",
    "    end_idx (int): End index for averaging (inclusive).\n",
    "\n",
    "    Returns:\n",
    "    tuple: (Averaged 2x2 confusion matrix, class labels)\n",
    "    \"\"\"\n",
    "    # Extract only the confusion matrices from the selected range\n",
    "    selected_matrices = [cm[0] for cm in conf_matrices_merged[start_idx:end_idx+1]]\n",
    "\n",
    "    # Convert to numpy array and compute the mean\n",
    "    avg_conf_matrix = np.mean(np.array(selected_matrices), axis=0)\n",
    "\n",
    "    # Round values to nearest integer (optional)\n",
    "    avg_conf_matrix = np.round(avg_conf_matrix).astype(int)\n",
    "\n",
    "    # Extract class labels (assume they're the same for all matrices)\n",
    "    class_labels = conf_matrices_merged[0][1]\n",
    "\n",
    "    return avg_conf_matrix, class_labels\n",
    "\n",
    "# Example: Compute the average confusion matrix from index 2 to 5\n",
    "start_idx, end_idx = 30, 71\n",
    "avg_conf_matrix, avg_labels = average_conf_matrix(conf_matrices_merged, start_idx, end_idx)\n",
    "\n",
    "# Print result\n",
    "print(\"\\nAverage Confusion Matrix (From Index\", start_idx, \"to\", end_idx, \"):\")\n",
    "print(avg_conf_matrix)\n",
    "print(\"Labels:\", avg_labels)\n"
   ]
  },
  {
   "cell_type": "code",
   "execution_count": 92,
   "metadata": {},
   "outputs": [
    {
     "name": "stdout",
     "output_type": "stream",
     "text": [
      "\n",
      "Average Confusion Matrix (Across Folds, From Index 50 to 60 ):\n",
      "[[18  4]\n",
      " [ 4  7]]\n",
      "Labels: ['rest' 'motor_imagery']\n"
     ]
    }
   ],
   "source": [
    "def merge_conf_matrix_tuple(conf_matrix_tuple):\n",
    "    \"\"\"\n",
    "    Converts a 4-class confusion matrix into a 2-class confusion matrix\n",
    "    by merging:\n",
    "    - 'ActiveRest' (0) & 'Rest' (3) → Class 0\n",
    "    - 'ClosePalm' (1) & 'OpenPalm' (2) → Class 1\n",
    "\n",
    "    Args:\n",
    "    conf_matrix_tuple (tuple): (4x4 confusion matrix, class labels)\n",
    "\n",
    "    Returns:\n",
    "    tuple: (2x2 merged confusion matrix, new class labels)\n",
    "    \"\"\"\n",
    "    cm_4class, class_labels = conf_matrix_tuple  # Extract confusion matrix & labels\n",
    "\n",
    "    # Merge rows (true labels)\n",
    "    row_0 = cm_4class[0] + cm_4class[3]  # Merge 'ActiveRest' (0) & 'Rest' (3)\n",
    "    row_1 = cm_4class[1] + cm_4class[2]  # Merge 'ClosePalm' (1) & 'OpenPalm' (2)\n",
    "\n",
    "    # Merge columns (predicted labels)\n",
    "    col_0 = row_0[0] + row_0[3]  # Merge predictions for 'ActiveRest' (0) & 'Rest' (3)\n",
    "    col_1 = row_0[1] + row_0[2]  # Merge predictions for 'ClosePalm' (1) & 'OpenPalm' (2)\n",
    "    col_2 = row_1[0] + row_1[3]  # Merge predictions for 'ActiveRest' (0) & 'Rest' (3)\n",
    "    col_3 = row_1[1] + row_1[2]  # Merge predictions for 'ClosePalm' (1) & 'OpenPalm' (2)\n",
    "\n",
    "    # Construct new 2x2 confusion matrix\n",
    "    cm_binary = np.array([\n",
    "        [col_0, col_1],  # Row 0 (New Class 0)\n",
    "        [col_2, col_3]   # Row 1 (New Class 1)\n",
    "    ])\n",
    "\n",
    "    return (cm_binary, np.array(['rest', 'motor_imagery']))\n",
    "\n",
    "# Example: Apply to all confusion matrices in all folds\n",
    "conf_matrices_merged_all_folds = [\n",
    "    [merge_conf_matrix_tuple(cm_tuple) for cm_tuple in fold] for fold in folds_confusion_matrices_per_window\n",
    "]\n",
    "\n",
    "def average_conf_matrix_folds(conf_matrices_all_folds, start_idx, end_idx):\n",
    "    \"\"\"\n",
    "    Computes the average confusion matrix over multiple folds \n",
    "    for a given index range.\n",
    "\n",
    "    Args:\n",
    "    conf_matrices_all_folds (list of list of tuples): \n",
    "        A nested list where each fold contains a list of (confusion_matrix, labels).\n",
    "    start_idx (int): Start index for averaging.\n",
    "    end_idx (int): End index for averaging (inclusive).\n",
    "\n",
    "    Returns:\n",
    "    tuple: (Averaged 2x2 confusion matrix, class labels)\n",
    "    \"\"\"\n",
    "    all_selected_matrices = []  # Store matrices from all folds\n",
    "    valid_folds = 0  # Count number of folds that have valid data in range\n",
    "\n",
    "    # Iterate through each fold\n",
    "    for fold in conf_matrices_all_folds:\n",
    "        # Ensure the fold has enough matrices for the given index range\n",
    "        if len(fold) > end_idx:\n",
    "            selected_matrices = [cm_tuple[0] for cm_tuple in fold[start_idx:end_idx+1]]\n",
    "            all_selected_matrices.append(np.mean(selected_matrices, axis=0))  # Average over the time window in fold\n",
    "            valid_folds += 1\n",
    "\n",
    "    # Compute final average across valid folds\n",
    "    if valid_folds > 0:\n",
    "        avg_conf_matrix = np.mean(np.array(all_selected_matrices), axis=0)\n",
    "    else:\n",
    "        print(\"No valid folds for the given index range!\")\n",
    "        return None, None\n",
    "\n",
    "    # Round values to nearest integer (optional)\n",
    "    avg_conf_matrix = np.round(avg_conf_matrix).astype(int)\n",
    "\n",
    "    # Extract class labels (assume same for all folds)\n",
    "    class_labels = conf_matrices_all_folds[0][0][1]\n",
    "\n",
    "    return avg_conf_matrix, class_labels\n",
    "\n",
    "# Example: Compute the average confusion matrix from index 2 to 5 across folds\n",
    "start_idx, end_idx = 50,60\n",
    "avg_conf_matrix, avg_labels = average_conf_matrix_folds(conf_matrices_merged_all_folds, start_idx, end_idx)\n",
    "print(\"\\nAverage Confusion Matrix (Across Folds, From Index\", start_idx, \"to\", end_idx, \"):\")\n",
    "print(avg_conf_matrix)\n",
    "print(\"Labels:\", avg_labels)\n"
   ]
  },
  {
   "cell_type": "code",
   "execution_count": 91,
   "metadata": {},
   "outputs": [
    {
     "name": "stdout",
     "output_type": "stream",
     "text": [
      "\n",
      "Average Confusion Matrix (Across Folds, From Index 50 to 70 ):\n",
      "[[ 2  1  1  2]\n",
      " [ 1  1  2  2]\n",
      " [ 1  2  3  1]\n",
      " [ 1  1  2 13]]\n",
      "Labels: ['ActiveRest' 'ClosePalm' 'OpenPalm' 'Rest']\n"
     ]
    }
   ],
   "source": [
    "# Example: Compute the average confusion matrix from index 2 to 5 across folds\n",
    "start_idx, end_idx = 50,70\n",
    "avg_conf_matrix, avg_labels = average_conf_matrix_folds(folds_confusion_matrices_per_window, start_idx, end_idx)\n",
    "\n",
    "# Print result\n",
    "print(\"\\nAverage Confusion Matrix (Across Folds, From Index\", start_idx, \"to\", end_idx, \"):\")\n",
    "print(avg_conf_matrix)\n",
    "\n",
    "print(\"Labels:\", avg_labels)"
   ]
  },
  {
   "cell_type": "code",
   "execution_count": 95,
   "metadata": {},
   "outputs": [],
   "source": [
    "trained_clf=clf\n",
    "#data_to_predict=(data_set_fb_4d_array[inds,:])\n",
    "data_to_predict=epochs.copy().crop(tmin=1,tmax=3).get_data()\n",
    "thresholded_prediction=trained_clf.decision_function(data_to_predict)\n",
    "prediction=trained_clf.predict(data_to_predict)\n",
    "\n",
    "#note that here you can decide on which thresholds to use to better optimize your \"real\" usecase\n",
    "#thresholded_prediction\n",
    "yhat=trained_clf.predict(data_to_predict)\n",
    "lr_probs = trained_clf.predict_proba(data_to_predict)"
   ]
  },
  {
   "cell_type": "code",
   "execution_count": 96,
   "metadata": {},
   "outputs": [
    {
     "data": {
      "text/plain": [
       "array(['ClosePalm', 'ActiveRest', 'Rest', 'ActiveRest', 'ClosePalm',\n",
       "       'Rest', 'ClosePalm', 'Rest', 'ClosePalm', 'Rest', 'ActiveRest',\n",
       "       'Rest', 'ClosePalm', 'Rest', 'OpenPalm', 'Rest', 'OpenPalm',\n",
       "       'Rest', 'ClosePalm', 'Rest', 'OpenPalm', 'Rest', 'OpenPalm',\n",
       "       'Rest', 'Rest', 'Rest', 'OpenPalm', 'Rest', 'ClosePalm', 'Rest',\n",
       "       'ClosePalm', 'Rest', 'ClosePalm', 'Rest', 'ActiveRest', 'Rest',\n",
       "       'ActiveRest', 'ClosePalm', 'ClosePalm', 'OpenPalm', 'Rest', 'Rest',\n",
       "       'OpenPalm', 'ActiveRest', 'OpenPalm', 'ClosePalm', 'ClosePalm',\n",
       "       'Rest', 'ClosePalm', 'ActiveRest', 'ActiveRest', 'ClosePalm',\n",
       "       'ClosePalm', 'ClosePalm', 'OpenPalm', 'Rest', 'OpenPalm', 'Rest',\n",
       "       'ClosePalm', 'Rest', 'OpenPalm', 'Rest', 'ActiveRest', 'Rest',\n",
       "       'ActiveRest', 'Rest', 'OpenPalm', 'Rest', 'OpenPalm', 'Rest',\n",
       "       'ActiveRest', 'Rest', 'ActiveRest', 'Rest', 'ActiveRest',\n",
       "       'OpenPalm', 'OpenPalm', 'Rest', 'ActiveRest', 'Rest', 'ClosePalm',\n",
       "       'Rest', 'OpenPalm', 'Rest', 'ClosePalm', 'Rest', 'ClosePalm',\n",
       "       'Rest', 'ClosePalm', 'Rest', 'OpenPalm', 'Rest', 'OpenPalm',\n",
       "       'Rest', 'ActiveRest', 'Rest'], dtype='<U10')"
      ]
     },
     "execution_count": 96,
     "metadata": {},
     "output_type": "execute_result"
    }
   ],
   "source": [
    "prediction"
   ]
  },
  {
   "cell_type": "code",
   "execution_count": 97,
   "metadata": {},
   "outputs": [
    {
     "name": "stdout",
     "output_type": "stream",
     "text": [
      "Accuracy: 0.52\n",
      "Mismatched epochs:\n",
      "1 - OpenPalm (actual), ClosePalm (predicted)\n",
      "2 - Rest (actual), ActiveRest (predicted)\n",
      "3 - ActiveRest (actual), Rest (predicted)\n",
      "4 - Rest (actual), ActiveRest (predicted)\n",
      "5 - OpenPalm (actual), ClosePalm (predicted)\n",
      "9 - ActiveRest (actual), ClosePalm (predicted)\n",
      "15 - ClosePalm (actual), OpenPalm (predicted)\n",
      "17 - ActiveRest (actual), OpenPalm (predicted)\n",
      "21 - ActiveRest (actual), OpenPalm (predicted)\n",
      "23 - ActiveRest (actual), OpenPalm (predicted)\n",
      "25 - ClosePalm (actual), Rest (predicted)\n",
      "27 - ActiveRest (actual), OpenPalm (predicted)\n",
      "29 - OpenPalm (actual), ClosePalm (predicted)\n",
      "31 - OpenPalm (actual), ClosePalm (predicted)\n",
      "33 - OpenPalm (actual), ClosePalm (predicted)\n",
      "35 - OpenPalm (actual), ActiveRest (predicted)\n",
      "38 - Rest (actual), ClosePalm (predicted)\n",
      "39 - ActiveRest (actual), ClosePalm (predicted)\n",
      "40 - Rest (actual), OpenPalm (predicted)\n",
      "41 - ActiveRest (actual), Rest (predicted)\n",
      "43 - ClosePalm (actual), OpenPalm (predicted)\n",
      "44 - Rest (actual), ActiveRest (predicted)\n",
      "45 - ClosePalm (actual), OpenPalm (predicted)\n",
      "46 - Rest (actual), ClosePalm (predicted)\n",
      "47 - ActiveRest (actual), ClosePalm (predicted)\n",
      "49 - ActiveRest (actual), ClosePalm (predicted)\n",
      "50 - Rest (actual), ActiveRest (predicted)\n",
      "51 - OpenPalm (actual), ActiveRest (predicted)\n",
      "52 - Rest (actual), ClosePalm (predicted)\n",
      "53 - OpenPalm (actual), ClosePalm (predicted)\n",
      "54 - Rest (actual), ClosePalm (predicted)\n",
      "57 - ClosePalm (actual), OpenPalm (predicted)\n",
      "65 - ClosePalm (actual), ActiveRest (predicted)\n",
      "69 - ClosePalm (actual), OpenPalm (predicted)\n",
      "73 - ClosePalm (actual), ActiveRest (predicted)\n",
      "76 - Rest (actual), OpenPalm (predicted)\n",
      "77 - ClosePalm (actual), OpenPalm (predicted)\n",
      "79 - ClosePalm (actual), ActiveRest (predicted)\n",
      "81 - OpenPalm (actual), ClosePalm (predicted)\n",
      "83 - ClosePalm (actual), OpenPalm (predicted)\n",
      "85 - ActiveRest (actual), ClosePalm (predicted)\n",
      "87 - OpenPalm (actual), ClosePalm (predicted)\n",
      "89 - OpenPalm (actual), ClosePalm (predicted)\n",
      "93 - ClosePalm (actual), OpenPalm (predicted)\n",
      "95 - OpenPalm (actual), ActiveRest (predicted)\n",
      "96 - OpenPalm (actual), Rest (predicted)\n",
      "\n",
      "Mismatch Summary:\n",
      "OpenPalm -> ClosePalm: 9 occurrence(s)\n",
      "Rest -> ActiveRest: 4 occurrence(s)\n",
      "ActiveRest -> Rest: 2 occurrence(s)\n",
      "ActiveRest -> ClosePalm: 5 occurrence(s)\n",
      "ClosePalm -> OpenPalm: 8 occurrence(s)\n",
      "ActiveRest -> OpenPalm: 4 occurrence(s)\n",
      "ClosePalm -> Rest: 1 occurrence(s)\n",
      "OpenPalm -> ActiveRest: 3 occurrence(s)\n",
      "Rest -> ClosePalm: 4 occurrence(s)\n",
      "Rest -> OpenPalm: 2 occurrence(s)\n",
      "ClosePalm -> ActiveRest: 3 occurrence(s)\n",
      "OpenPalm -> Rest: 1 occurrence(s)\n"
     ]
    }
   ],
   "source": [
    "# %%\n",
    "\n",
    "from collections import Counter\n",
    "\n",
    "# Function to get the list of event names for each epoch\n",
    "def get_epoch_events(epochs):\n",
    "    events = epochs.events  # Get the array of events\n",
    "    event_ids = epochs.event_id  # Get the mapping from event name to event code\n",
    "    epoch_event_names = []\n",
    "\n",
    "    for event in events:\n",
    "        event_code = event[-1]  # Extract the event ID\n",
    "        # Get the event name using the event code\n",
    "        event_name = [key for key, val in event_ids.items() if val == event_code][0]\n",
    "        epoch_event_names.append(event_name)\n",
    "\n",
    "    return np.array(epoch_event_names)\n",
    "\n",
    "# Function to compare actual event names with predicted event names and summarize mismatches\n",
    "def compare_events(actual_events, predicted_events):\n",
    "    comparison = actual_events == predicted_events  # Element-wise comparison\n",
    "    accuracy = np.mean(comparison)  # Calculate accuracy\n",
    "    mismatches = np.where(comparison == False)[0]  # Get indices where predictions don't match\n",
    "    \n",
    "    # Collect mismatched epochs and count occurrences of each mismatch case\n",
    "    mismatch_details = []\n",
    "    mismatch_counts = Counter()\n",
    "    \n",
    "    for idx in mismatches:\n",
    "        actual = actual_events[idx]\n",
    "        predicted = predicted_events[idx]\n",
    "        mismatch_details.append(f\"{idx + 1} - {actual} (actual), {predicted} (predicted)\")\n",
    "        mismatch_counts[f\"{actual} -> {predicted}\"] += 1  # Count each specific mismatch case\n",
    "\n",
    "    return {\n",
    "        'accuracy': accuracy,\n",
    "        'mismatch_details': mismatch_details,\n",
    "        'mismatch_counts': mismatch_counts\n",
    "    }\n",
    "\n",
    "# Example usage:\n",
    "# Assume `epochs` is your mne.Epochs object, and `predictions` is the model output\n",
    "\n",
    "actual_events = get_epoch_events(epochs)  # Actual events from the epochs\n",
    "predicted_events = np.array(prediction)  # Replace with your model predictions\n",
    "\n",
    "# Compare actual events to predicted events\n",
    "result = compare_events(actual_events, predicted_events)\n",
    "\n",
    "# Output the comparison result\n",
    "print(f\"Accuracy: {result['accuracy']:.2f}\")\n",
    "if result['mismatch_details']:\n",
    "    print(\"Mismatched epochs:\")\n",
    "    for mismatch in result['mismatch_details']:\n",
    "        print(mismatch)\n",
    "    \n",
    "    print(\"\\nMismatch Summary:\")\n",
    "    for mismatch_case, count in result['mismatch_counts'].items():\n",
    "        print(f\"{mismatch_case}: {count} occurrence(s)\")\n",
    "else:\n",
    "    print(\"No mismatches!\")\n"
   ]
  },
  {
   "cell_type": "code",
   "execution_count": 98,
   "metadata": {},
   "outputs": [
    {
     "data": {
      "text/html": [
       "<table class=\"table table-hover table-striped table-sm table-responsive small\">\n",
       "    <tr>\n",
       "        <th>Number of events</th>\n",
       "        <td>96</td>\n",
       "    </tr>\n",
       "    <tr>\n",
       "        <th>Events</th>\n",
       "        \n",
       "        <td>ActiveRest: 16<br/>ClosePalm: 16<br/>OpenPalm: 17<br/>Rest: 47</td>\n",
       "        \n",
       "    </tr>\n",
       "    <tr>\n",
       "        <th>Time range</th>\n",
       "        <td>-4.000 – 6.000 s</td>\n",
       "    </tr>\n",
       "    <tr>\n",
       "        <th>Baseline</th>\n",
       "        <td>off</td>\n",
       "    </tr>\n",
       "</table>"
      ],
      "text/plain": [
       "<EpochsArray |  96 events (all good), -4 – 6 s, baseline off, ~153.9 MB, data loaded,\n",
       " 'ActiveRest': 16\n",
       " 'ClosePalm': 16\n",
       " 'OpenPalm': 17\n",
       " 'Rest': 47>"
      ]
     },
     "execution_count": 98,
     "metadata": {},
     "output_type": "execute_result"
    }
   ],
   "source": [
    "epochs"
   ]
  },
  {
   "cell_type": "code",
   "execution_count": 138,
   "metadata": {},
   "outputs": [],
   "source": [
    "\n",
    "# Example: Plot confusion matrix for the first time window\n",
    "conf_matrix, class_labels = confusion_matrices_per_window[41]\n",
    "plot_confusion_matrix(conf_matrix, class_labels)"
   ]
  },
  {
   "cell_type": "code",
   "execution_count": 92,
   "metadata": {},
   "outputs": [
    {
     "data": {
      "text/plain": [
       "[0.5238095238095238,\n",
       " 0.47619047619047616,\n",
       " 0.5238095238095238,\n",
       " 0.5238095238095238,\n",
       " 0.5714285714285714,\n",
       " 0.5714285714285714,\n",
       " 0.6190476190476191,\n",
       " 0.47619047619047616,\n",
       " 0.5238095238095238,\n",
       " 0.5714285714285714,\n",
       " 0.5238095238095238,\n",
       " 0.47619047619047616,\n",
       " 0.38095238095238093,\n",
       " 0.42857142857142855,\n",
       " 0.47619047619047616,\n",
       " 0.5238095238095238,\n",
       " 0.5714285714285714,\n",
       " 0.5238095238095238,\n",
       " 0.47619047619047616,\n",
       " 0.47619047619047616,\n",
       " 0.5238095238095238,\n",
       " 0.6190476190476191,\n",
       " 0.5238095238095238,\n",
       " 0.6190476190476191,\n",
       " 0.6666666666666666,\n",
       " 0.6190476190476191,\n",
       " 0.7142857142857143,\n",
       " 0.6666666666666666,\n",
       " 0.6666666666666666,\n",
       " 0.8095238095238095,\n",
       " 0.7619047619047619,\n",
       " 0.7619047619047619,\n",
       " 0.7619047619047619,\n",
       " 0.7619047619047619,\n",
       " 0.7142857142857143,\n",
       " 0.7619047619047619,\n",
       " 0.7619047619047619,\n",
       " 0.8095238095238095,\n",
       " 0.8571428571428571,\n",
       " 0.8571428571428571,\n",
       " 0.8571428571428571,\n",
       " 0.9047619047619048,\n",
       " 0.8571428571428571,\n",
       " 0.7619047619047619,\n",
       " 0.8571428571428571,\n",
       " 0.7619047619047619,\n",
       " 0.7142857142857143,\n",
       " 0.6666666666666666,\n",
       " 0.6666666666666666,\n",
       " 0.7142857142857143,\n",
       " 0.6666666666666666,\n",
       " 0.6666666666666666,\n",
       " 0.6666666666666666,\n",
       " 0.7142857142857143,\n",
       " 0.7619047619047619,\n",
       " 0.7142857142857143,\n",
       " 0.7619047619047619,\n",
       " 0.7142857142857143,\n",
       " 0.7142857142857143,\n",
       " 0.6666666666666666,\n",
       " 0.6190476190476191,\n",
       " 0.6190476190476191,\n",
       " 0.7142857142857143,\n",
       " 0.7142857142857143,\n",
       " 0.8095238095238095,\n",
       " 0.7619047619047619,\n",
       " 0.8095238095238095,\n",
       " 0.8095238095238095,\n",
       " 0.7142857142857143,\n",
       " 0.7619047619047619,\n",
       " 0.8095238095238095]"
      ]
     },
     "execution_count": 92,
     "metadata": {},
     "output_type": "execute_result"
    }
   ],
   "source": [
    "scores_per_time_window"
   ]
  },
  {
   "cell_type": "code",
   "execution_count": 52,
   "metadata": {},
   "outputs": [
    {
     "data": {
      "text/plain": [
       "[0.3142857142857143,\n",
       " 0.37142857142857144,\n",
       " 0.34285714285714286,\n",
       " 0.3142857142857143,\n",
       " 0.34285714285714286,\n",
       " 0.34285714285714286,\n",
       " 0.4,\n",
       " 0.4857142857142857,\n",
       " 0.4857142857142857,\n",
       " 0.4857142857142857,\n",
       " 0.42857142857142855,\n",
       " 0.4,\n",
       " 0.42857142857142855,\n",
       " 0.4,\n",
       " 0.45714285714285713,\n",
       " 0.42857142857142855,\n",
       " 0.45714285714285713,\n",
       " 0.42857142857142855,\n",
       " 0.42857142857142855,\n",
       " 0.4857142857142857,\n",
       " 0.4857142857142857,\n",
       " 0.4857142857142857,\n",
       " 0.4857142857142857,\n",
       " 0.4857142857142857,\n",
       " 0.45714285714285713,\n",
       " 0.4857142857142857,\n",
       " 0.4857142857142857,\n",
       " 0.45714285714285713,\n",
       " 0.42857142857142855,\n",
       " 0.45714285714285713,\n",
       " 0.5142857142857142,\n",
       " 0.6,\n",
       " 0.5714285714285714,\n",
       " 0.5142857142857142,\n",
       " 0.5428571428571428,\n",
       " 0.5142857142857142,\n",
       " 0.5714285714285714,\n",
       " 0.6,\n",
       " 0.5714285714285714,\n",
       " 0.5714285714285714,\n",
       " 0.5428571428571428,\n",
       " 0.5428571428571428,\n",
       " 0.5428571428571428,\n",
       " 0.5142857142857142,\n",
       " 0.5428571428571428,\n",
       " 0.5142857142857142,\n",
       " 0.45714285714285713,\n",
       " 0.45714285714285713,\n",
       " 0.45714285714285713,\n",
       " 0.42857142857142855,\n",
       " 0.4857142857142857,\n",
       " 0.5142857142857142,\n",
       " 0.5428571428571428,\n",
       " 0.6,\n",
       " 0.5428571428571428,\n",
       " 0.5142857142857142,\n",
       " 0.5142857142857142,\n",
       " 0.4857142857142857,\n",
       " 0.5428571428571428,\n",
       " 0.45714285714285713,\n",
       " 0.45714285714285713,\n",
       " 0.45714285714285713,\n",
       " 0.4,\n",
       " 0.45714285714285713,\n",
       " 0.4857142857142857,\n",
       " 0.42857142857142855,\n",
       " 0.45714285714285713,\n",
       " 0.4857142857142857,\n",
       " 0.4857142857142857,\n",
       " 0.4857142857142857,\n",
       " 0.45714285714285713]"
      ]
     },
     "execution_count": 52,
     "metadata": {},
     "output_type": "execute_result"
    }
   ],
   "source": [
    "scores_per_time_window\n"
   ]
  },
  {
   "cell_type": "code",
   "execution_count": 118,
   "metadata": {},
   "outputs": [
    {
     "name": "stdout",
     "output_type": "stream",
     "text": [
      "0.5587929240374611\n"
     ]
    }
   ],
   "source": [
    "def average_from_index_to_index(lst, start, end):\n",
    "    # Ensure the indices are within the bounds of the list\n",
    "    if start < 0 or end >= len(lst) or start > end:\n",
    "        raise ValueError(\"Invalid start or end index\")\n",
    "    \n",
    "    # Slice the list from start to end (inclusive)\n",
    "    sublist = lst[start:end+1]\n",
    "    \n",
    "    # Calculate the average\n",
    "    average = sum(sublist) / len(sublist)\n",
    "    \n",
    "    return average\n",
    "\n",
    "# Example usage\n",
    "start_index = 40\n",
    "end_index =70\n",
    "print(average_from_index_to_index(scores_per_time_window, start_index, end_index))  # Output: 35.0"
   ]
  },
  {
   "cell_type": "code",
   "execution_count": 119,
   "metadata": {},
   "outputs": [],
   "source": [
    "# Time points (assuming each point is 100 ms apart)\n",
    "time_points = np.arange(0, len(scores_per_time_window) * 0.1, 0.1)  # in seconds\n",
    "\n",
    "# Plotting\n",
    "plt.figure(figsize=(12, 6))\n",
    "plt.plot(time_points, scores_per_time_window, marker='o')\n",
    "plt.title('Sliding Window Scores Over Time')\n",
    "plt.xlabel('Time (s)')\n",
    "plt.ylabel('Score')\n",
    "plt.grid(True)\n",
    "plt.show()"
   ]
  },
  {
   "cell_type": "code",
   "execution_count": 246,
   "metadata": {},
   "outputs": [],
   "source": [
    "all_epoch_data = epochs.get_data()"
   ]
  },
  {
   "cell_type": "code",
   "execution_count": 247,
   "metadata": {},
   "outputs": [],
   "source": [
    "\n",
    "scaler = RobustScaler()\n",
    "all_epoch_data_flat = all_epoch_data.reshape(all_epoch_data.shape[0], -1)\n",
    "all_epoch_data_normalized = scaler.fit_transform(all_epoch_data_flat).reshape(all_epoch_data.shape)\n",
    "\n",
    "# Update combined epochs with normalized data\n",
    "epochs._data = all_epoch_data_normalized"
   ]
  },
  {
   "cell_type": "code",
   "execution_count": 22,
   "metadata": {},
   "outputs": [],
   "source": [
    "from sklearn.preprocessing import StandardScaler, RobustScaler\n"
   ]
  },
  {
   "cell_type": "code",
   "execution_count": 29,
   "metadata": {},
   "outputs": [
    {
     "name": "stdout",
     "output_type": "stream",
     "text": [
      "Reading c:\\Users\\gilad\\3_Class_MI_21_01_25\\epochs_combined-epo2.fif ...\n",
      "    Found the data of interest:\n",
      "        t =   -3000.00 ...    5000.00 ms\n",
      "        0 CTF compensation matrices available\n",
      "Not setting metadata\n",
      "40 matching events found\n",
      "No baseline correction applied\n",
      "0 projection items activated\n"
     ]
    }
   ],
   "source": [
    "loaded_epochs = mne.read_epochs('epochs_combined-epo2.fif', preload=True)"
   ]
  }
 ],
 "metadata": {
  "kernelspec": {
   "display_name": "BCIEnvironment",
   "language": "python",
   "name": "python3"
  },
  "language_info": {
   "codemirror_mode": {
    "name": "ipython",
    "version": 3
   },
   "file_extension": ".py",
   "mimetype": "text/x-python",
   "name": "python",
   "nbconvert_exporter": "python",
   "pygments_lexer": "ipython3",
   "version": "3.10.8"
  }
 },
 "nbformat": 4,
 "nbformat_minor": 2
}
