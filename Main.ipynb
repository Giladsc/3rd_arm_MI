{
 "cells": [
  {
   "cell_type": "markdown",
   "metadata": {},
   "source": [
    "Imports and General Setup"
   ]
  },
  {
   "cell_type": "code",
   "execution_count": null,
   "metadata": {},
   "outputs": [
    {
     "name": "stdout",
     "output_type": "stream",
     "text": [
      "All available recording files: ['Fudge_MI3_1.xdf', 'Fudge_MI3_2.xdf', 'Fudge_MI3_3.xdf', 'Fudge_MI3_4.xdf', 'Gilad2_MI3_3.xdf', 'Gilad2_MI3_4.xdf', 'Gilad_3_AO.xdf', 'Gilad_MI3_1.xdf', 'Gilad_MI3_2.xdf', 'Gi_Block_1.xdf', 'Gi_Block_3.xdf', 'Gi_Block_4.xdf', 'g_mi_1.xdf', 'g_mi_3.xdf', 'g_mi_4.xdf', 'NH37_Block_1.xdf', 'NH37_Block_2.xdf', 'NH37_Block_3.xdf', 'NH_34_MI5.xdf', 'NH_34_MI6.xdf', 'NH_3_AO.xdf', 'NH_3_MI1.xdf', 'NH_3_MI2.xdf', 'NH_3_MI3.xdf', 'NH_3_MI4.xdf', 'NH_Block_3.xdf', 'Or_MI_1.xdf', 'Or_MI_2.xdf', 'Or_MI_3.xdf', 'Rating.xdf', 'Realtime_annotations.xdf', 'Rg_mi_2.xdf', 'Roei-MI_1.xdf', 'Roei-MI_2.xdf', 'Roei-MI_3.xdf', 'Ron_3rd_MI_01.xdf', 'Ron_3rd_MI_02.xdf', 'Ron_3rd_MI_03.xdf', 'Ron_MI_3_1.xdf', 'Ron_MI_3_2.xdf', 'Ron_MI_3_3.xdf', 'Ron_MI_3_4.xdf']\n",
      "Only subject IDs: ['Fudge', 'Fudge', 'Fudge', 'Fudge', 'Gilad2', 'Gilad2', 'Gilad', 'Gilad', 'Gilad', 'Gi', 'Gi', 'Gi', 'g', 'g', 'g', 'NH37', 'NH37', 'NH37', 'NH', 'NH', 'NH', 'NH', 'NH', 'NH', 'NH', 'NH', 'Or', 'Or', 'Or', 'Rating.xdf', 'Realtime', 'Rg', 'Roei-MI', 'Roei-MI', 'Roei-MI', 'Ron', 'Ron', 'Ron', 'Ron', 'Ron', 'Ron', 'Ron']\n",
      "Filenames:\n",
      " ['Fudge_MI3_1.xdf', 'Fudge_MI3_2.xdf', 'Fudge_MI3_3.xdf', 'Fudge_MI3_4.xdf', 'Gilad2_MI3_3.xdf', 'Gilad2_MI3_4.xdf', 'Gilad_3_AO.xdf', 'Gilad_MI3_1.xdf', 'Gilad_MI3_2.xdf', 'Gi_Block_1.xdf', 'Gi_Block_3.xdf', 'Gi_Block_4.xdf', 'g_mi_1.xdf', 'g_mi_3.xdf', 'g_mi_4.xdf', 'NH37_Block_1.xdf', 'NH37_Block_2.xdf', 'NH37_Block_3.xdf', 'NH_34_MI5.xdf', 'NH_34_MI6.xdf', 'NH_3_AO.xdf', 'NH_3_MI1.xdf', 'NH_3_MI2.xdf', 'NH_3_MI3.xdf', 'NH_3_MI4.xdf', 'NH_Block_3.xdf', 'Or_MI_1.xdf', 'Or_MI_2.xdf', 'Or_MI_3.xdf', 'Rating.xdf', 'Realtime_annotations.xdf', 'Rg_mi_2.xdf', 'Roei-MI_1.xdf', 'Roei-MI_2.xdf', 'Roei-MI_3.xdf', 'Ron_3rd_MI_01.xdf', 'Ron_3rd_MI_02.xdf', 'Ron_3rd_MI_03.xdf', 'Ron_MI_3_1.xdf', 'Ron_MI_3_2.xdf', 'Ron_MI_3_3.xdf', 'Ron_MI_3_4.xdf']\n",
      "Subject names:\n",
      " ['Fudge', 'Fudge', 'Fudge', 'Fudge', 'Gilad2', 'Gilad2', 'Gilad', 'Gilad', 'Gilad', 'Gi', 'Gi', 'Gi', 'g', 'g', 'g', 'NH37', 'NH37', 'NH37', 'NH', 'NH', 'NH', 'NH', 'NH', 'NH', 'NH', 'NH', 'Or', 'Or', 'Or', 'Rating.xdf', 'Realtime', 'Rg', 'Roei-MI', 'Roei-MI', 'Roei-MI', 'Ron', 'Ron', 'Ron', 'Ron', 'Ron', 'Ron', 'Ron']\n"
     ]
    }
   ],
   "source": [
    "\n",
    "# -----------------------------------------------\n",
    "# Suppress warnings for cleaner output\n",
    "import warnings\n",
    "warnings.filterwarnings('ignore')\n",
    "\n",
    "# -----------------------------------------------\n",
    "# Standard Python imports\n",
    "import logging\n",
    "import os\n",
    "import numpy as np\n",
    "import pandas as pd\n",
    "from collections import OrderedDict\n",
    "import seaborn as sns\n",
    "from matplotlib import pyplot as plt\n",
    "import itertools\n",
    "from tqdm import tqdm\n",
    "import json\n",
    "\n",
    "# -----------------------------------------------\n",
    "# MNE: Core library for EEG data handling, preprocessing, and visualization\n",
    "import mne\n",
    "from mne import Epochs, find_events\n",
    "from mne.decoding import Vectorizer\n",
    "from mne.io import concatenate_raws, read_raw_edf\n",
    "from mne.datasets import eegbci\n",
    "from mne.decoding import CSP\n",
    "from mne.preprocessing import ICA  # For optional ICA artifact removal\n",
    "\n",
    "# -----------------------------------------------\n",
    "# AutoReject: Automatic rejection of bad EEG epochs\n",
    "from autoreject import AutoReject\n",
    "\n",
    "# -----------------------------------------------\n",
    "# PyXDF: Library to handle the XDF format used for EEG recordings\n",
    "import pyxdf\n",
    "from mne_import_xdf import *\n",
    "\n",
    "# -----------------------------------------------\n",
    "# Scikit-learn and Pyriemann: Machine learning libraries for EEG classification\n",
    "from sklearn.metrics import f1_score\n",
    "from sklearn.pipeline import make_pipeline, Pipeline\n",
    "from sklearn.linear_model import LogisticRegression\n",
    "from sklearn.preprocessing import StandardScaler\n",
    "from sklearn.discriminant_analysis import LinearDiscriminantAnalysis\n",
    "from sklearn.svm import SVC  # Support Vector Classifier\n",
    "from sklearn.multiclass import OneVsOneClassifier\n",
    "from sklearn.model_selection import ShuffleSplit, cross_val_score, train_test_split, StratifiedShuffleSplit\n",
    "from sklearn.metrics import confusion_matrix, ConfusionMatrixDisplay\n",
    "\n",
    "# Pyriemann: Provides tools for covariance matrix estimation and tangent space mapping\n",
    "from pyriemann.estimation import ERPCovariances, XdawnCovariances, Xdawn, Covariances\n",
    "from pyriemann.tangentspace import TangentSpace\n",
    "from pyriemann.classification import MDM\n",
    "\n",
    "# -----------------------------------------------\n",
    "# MOABB (Mother of All BCI Benchmarks) - used here mainly for its filterbank utilities\n",
    "from moabb.pipelines.utils import FilterBank\n",
    "\n",
    "# -----------------------------------------------\n",
    "# EasyGUI: Used for simple file selection dialogs (optional, depends on how files are chosen)\n",
    "from easygui import *\n",
    "\n",
    "# -----------------------------------------------\n",
    "# Pathlib: More flexible path handling\n",
    "import pathlib\n",
    "from os import listdir\n",
    "from os.path import isfile, join\n",
    "\n",
    "# -----------------------------------------------\n",
    "# PyQt5 for enabling interactive plotting in Jupyter (MNE visualization compatibility)\n",
    "import PyQt5\n",
    "from IPython import get_ipython\n",
    "get_ipython().run_line_magic('matplotlib', 'qt')\n",
    "\n",
    "# -----------------------------------------------\n",
    "# Precision-recall curve utilities from scikit-learn\n",
    "from sklearn.preprocessing import label_binarize\n",
    "from sklearn.metrics import average_precision_score, precision_recall_curve, PrecisionRecallDisplay\n",
    "\n",
    "# Other standard tools\n",
    "from itertools import cycle\n",
    "import matplotlib.pyplot as plt\n",
    "import pickle\n",
    "import copy\n",
    "\n",
    "# -----------------------------------------------\n",
    "# Braindecode: Deep learning tools for EEG, particularly ShallowFBCSPNet\n",
    "from braindecode.models import ShallowFBCSPNet\n",
    "from braindecode.datautil import create_from_mne_epochs\n",
    "from braindecode.training import CroppedLoss\n",
    "from braindecode.training.scoring import trial_preds_from_window_preds\n",
    "from torch.optim import Adam\n",
    "from torch.utils.data import DataLoader\n",
    "import torch\n",
    "\n",
    "# -----------------------------------------------\n",
    "# Import project-specific scripts\n",
    "from preprocessing import *\n",
    "from training import *\n",
    "from evaluation import *\n",
    "\n",
    "# --------------------------------------------------------------------------------------\n",
    "# Path Setup\n",
    "# --------------------------------------------------------------------------------------\n",
    "\n",
    "# Path to the main project folder\n",
    "current_path = pathlib.Path().absolute()\n",
    "\n",
    "# Path where EEG recordings are stored (assumed under \"Recordings/\")\n",
    "recording_path = current_path / 'Recordings'\n",
    "\n",
    "# Path for storing output figures\n",
    "figure_outputs_path = current_path / 'Figures'\n",
    "\n",
    "# --------------------------------------------------------------------------------------\n",
    "# File Discovery\n",
    "# --------------------------------------------------------------------------------------\n",
    "\n",
    "# List all files in the 'Recordings' folder with .xdf extension\n",
    "recording_files = [\n",
    "    f for f in listdir(recording_path)\n",
    "    if isfile(join(recording_path, f)) and ('.xdf' in f)\n",
    "]\n",
    "\n",
    "# Ensure figure output directory exists, warn if not\n",
    "if not figure_outputs_path.exists():\n",
    "    print('The output folder does not exist: ', figure_outputs_path)\n",
    "\n",
    "# Log found files\n",
    "print('All available recording files:', recording_files)\n",
    "\n",
    "# Extract subject names from file names (assumes files are named \"<subject>_rest.xdf\" etc.)\n",
    "subject_names = [r.split('_')[0] for r in recording_files]\n",
    "print('Only subject IDs:', subject_names)\n",
    "\n",
    "# Initial filename and subject logging\n",
    "print('Filenames:\\n', recording_files)\n",
    "print('Subject names:\\n', subject_names)\n",
    "\n",
    "# --------------------------------------------------------------------------------------\n",
    "# Electrode Group Definitions\n",
    "# --------------------------------------------------------------------------------------\n",
    "# These are predefined groups of electrodes that can be used for analysis.\n",
    "# They help to select specific scalp regions, e.g., frontal (F), central (C), etc.\n",
    "Electorde_Groups = {\n",
    "    'FP': ['Fp1', 'Fp2'],  # Frontal Pole\n",
    "    'AF': ['AF7', 'AF3', 'AFz', 'AF4', 'AF8'],  # Anterior Frontal\n",
    "    'F': ['F7', 'F5', 'F3', 'F1', 'Fz', 'F2', 'F4', 'F6', 'F8'],  # Frontal\n",
    "    'FC': ['FC5', 'FC3', 'FC1', 'FC2', 'FC4', 'FC6'],  # Fronto-Central\n",
    "    'C': ['C5', 'C3', 'C1', 'Cz', 'C2', 'C4', 'C6'],  # Central\n",
    "    'CP': ['CP5', 'CP3', 'CP1', 'CPz', 'CP2', 'CP4', 'CP6'],  # Centro-Parietal\n",
    "    'P': ['P7', 'P5', 'P3', 'P1', 'Pz', 'P2', 'P4', 'P6', 'P8'],  # Parietal\n",
    "    'PO': ['PO7', 'PO3', 'POz', 'PO4', 'PO8'],  # Parieto-Occipital\n",
    "    'O': ['Oz', 'O2', 'O1', 'Iz']  # Occipital\n",
    "}\n"
   ]
  },
  {
   "cell_type": "markdown",
   "metadata": {},
   "source": [
    "Create a parameter dictionary "
   ]
  },
  {
   "cell_type": "code",
   "execution_count": 2,
   "metadata": {},
   "outputs": [],
   "source": [
    "# --------------------------------------------------------------------------------------\n",
    "# Defines all preprocessing, epoching, filtering, augmentation, and classification settings.\n",
    "# --------------------------------------------------------------------------------------\n",
    "\n",
    "params_dict = {}\n",
    "\n",
    "# Whether to apply Current Source Density (CSD) transform to reduce volume conduction\n",
    "params_dict['PerformCsd'] = True\n",
    "\n",
    "# Define which scalp regions (electrode groups) to include\n",
    "Electorde_Group_Names = 'F+FC+C+CP+P+PO'\n",
    "params_dict['Electorde_Group'] = []\n",
    "for group in Electorde_Group_Names.split('+'):\n",
    "    params_dict['Electorde_Group'] += Electorde_Groups[group]\n",
    "\n",
    "# Define subject-specific bad electrodes (adjust per subject)\n",
    "params_dict['bad_electrodes'] = get_subject_bad_electrodes('Fudge')\n",
    "\n",
    "# Preprocessing filters and epoch settings\n",
    "params_dict['filter_method'] = 'fir'\n",
    "params_dict['LowPass'] = 5\n",
    "params_dict['HighPass'] = 35\n",
    "params_dict['epoch_tmin'] = -4\n",
    "params_dict['epoch_tmax'] = 6\n",
    "params_dict['epoch_tmins_and_maxes_grid'] = [-4, 6]\n",
    "\n",
    "# CSP spatial filter settings\n",
    "params_dict['n_components'] = 8\n",
    "\n",
    "# Frequency bands for filterbank CSP (optional)\n",
    "params_dict['filters_bands'] = [\n",
    "    [7, 12],   # Mu band\n",
    "    [12, 20],  # Beta\n",
    "    [20, 28],  # Higher beta\n",
    "    [28, 35]   # Low gamma\n",
    "]\n",
    "\n",
    "# Data augmentation (sliding windows for training)\n",
    "params_dict['augmentation_params'] = {\n",
    "    'win_len': 1,    # 1-second windows\n",
    "    'win_step': 0.1  # Slide by 0.1 sec\n",
    "}\n",
    "\n",
    "# Time window for final classification decision\n",
    "params_dict['classifier_window_s'] = 1\n",
    "params_dict['classifier_window_e'] = 2\n",
    "\n",
    "# Windowed prediction settings (sliding windows for final evaluation)\n",
    "params_dict['windowed_prediction_params'] = {\n",
    "    'win_len': 2,\n",
    "    'win_step': 0.1\n",
    "}\n",
    "\n",
    "# Select classification pipeline (options: 'csp+lda', 'shallowfbcspnet', etc.)\n",
    "params_dict['pipeline_name'] = 'csp+lda'\n",
    "params_dict['n_components_fbcsp'] = 10  # Used if filterbank CSP is selected\n",
    "\n",
    "# List of event types to process (should match annotations in the data)\n",
    "params_dict['desired_events'] = ['ActiveRest', 'OpenPalm']\n"
   ]
  },
  {
   "cell_type": "markdown",
   "metadata": {},
   "source": [
    "Load XDF files and convert to combined mne Raw instance"
   ]
  },
  {
   "cell_type": "code",
   "execution_count": 3,
   "metadata": {},
   "outputs": [
    {
     "data": {
      "text/plain": [
       "[WindowsPath('c:/Users/gilad/3_Class_MI_21_01_25/Recordings/Fudge_MI3_1.xdf'),\n",
       " WindowsPath('c:/Users/gilad/3_Class_MI_21_01_25/Recordings/Fudge_MI3_2.xdf'),\n",
       " WindowsPath('c:/Users/gilad/3_Class_MI_21_01_25/Recordings/Fudge_MI3_3.xdf'),\n",
       " WindowsPath('c:/Users/gilad/3_Class_MI_21_01_25/Recordings/Fudge_MI3_4.xdf')]"
      ]
     },
     "execution_count": 3,
     "metadata": {},
     "output_type": "execute_result"
    }
   ],
   "source": [
    "xdf_files = [f for f in recording_path.glob('*.xdf') if 'Fudge' in  f.name] # fill in name to select subject files\n",
    "#OriginalRaw = Load_and_concatenate_xdf(xdf_files)\n",
    "xdf_files"
   ]
  },
  {
   "cell_type": "code",
   "execution_count": null,
   "metadata": {},
   "outputs": [
    {
     "name": "stdout",
     "output_type": "stream",
     "text": [
      "Creating RawArray with float64 data, n_channels=67, n_times=330327\n",
      "    Range : 0 ... 330326 =      0.000 ...   660.652 secs\n",
      "Ready.\n",
      "\n",
      "###########################################################\n",
      "removing subject specific bad electrodes from the raw data\n",
      "\n",
      "###########################################################\n",
      "removing bad channels from epochs:\n",
      "EEG channel type selected for re-referencing\n",
      "Applying average reference.\n",
      "Applying a custom ('EEG',) reference.\n",
      "EEG channel type selected for re-referencing\n",
      "Applying average reference.\n",
      "Applying a custom ('EEG',) reference.\n",
      "\n",
      "###########################################################\n",
      "filtering the data\n",
      "Filtering raw data in 1 contiguous segment\n",
      "Setting up band-pass filter from 5 - 35 Hz\n",
      "\n",
      "FIR filter parameters\n",
      "---------------------\n",
      "Designing a one-pass, zero-phase, non-causal bandpass filter:\n",
      "- Windowed time-domain design (firwin) method\n",
      "- Hamming window with 0.0194 passband ripple and 53 dB stopband attenuation\n",
      "- Lower passband edge: 5.00\n",
      "- Lower transition bandwidth: 2.00 Hz (-6 dB cutoff frequency: 4.00 Hz)\n",
      "- Upper passband edge: 35.00 Hz\n",
      "- Upper transition bandwidth: 8.75 Hz (-6 dB cutoff frequency: 39.38 Hz)\n",
      "- Filter length: 825 samples (1.650 s)\n",
      "\n"
     ]
    },
    {
     "name": "stderr",
     "output_type": "stream",
     "text": [
      "[Parallel(n_jobs=1)]: Using backend SequentialBackend with 1 concurrent workers.\n",
      "[Parallel(n_jobs=1)]: Done   1 out of   1 | elapsed:    0.0s remaining:    0.0s\n",
      "[Parallel(n_jobs=1)]: Done   2 out of   2 | elapsed:    0.0s remaining:    0.0s\n",
      "[Parallel(n_jobs=1)]: Done   3 out of   3 | elapsed:    0.0s remaining:    0.0s\n",
      "[Parallel(n_jobs=1)]: Done   4 out of   4 | elapsed:    0.0s remaining:    0.0s\n"
     ]
    },
    {
     "name": "stdout",
     "output_type": "stream",
     "text": [
      "Used Annotations descriptions: ['ActiveRest', 'Beep', 'ClosePalm', 'Long Break', 'OpenPalm', 'Rest']\n",
      "\n",
      "###########################################################\n",
      "extracting event info: {'ActiveRest': 1, 'Beep': 2, 'ClosePalm': 3, 'Long Break': 4, 'OpenPalm': 5, 'Rest': 6}\n",
      "\n",
      "###########################################################\n",
      "Not setting metadata\n",
      "33 matching events found\n",
      "No baseline correction applied\n",
      "0 projection items activated\n",
      "Using data from preloaded Raw for 33 events and 5001 original time points ...\n",
      "0 bad epochs dropped\n"
     ]
    },
    {
     "name": "stderr",
     "output_type": "stream",
     "text": [
      "[Parallel(n_jobs=1)]: Done  58 out of  58 | elapsed:    0.6s finished\n"
     ]
    },
    {
     "name": "stdout",
     "output_type": "stream",
     "text": [
      "Fitted sphere radius:         95.0 mm\n",
      "Origin head coordinates:      0.0 -0.0 0.0 mm\n",
      "Origin device coordinates:    0.0 -0.0 0.0 mm\n",
      "ActiveRest\n",
      "OpenPalm\n",
      "Not setting metadata\n",
      "33 matching events found\n",
      "No baseline correction applied\n",
      "0 projection items activated\n",
      "\n",
      "###########################################################\n",
      "removing bad channels from epochs:\n",
      "Creating RawArray with float64 data, n_channels=67, n_times=454252\n",
      "    Range : 0 ... 454251 =      0.000 ...   908.502 secs\n",
      "Ready.\n",
      "\n",
      "###########################################################\n",
      "removing subject specific bad electrodes from the raw data\n",
      "\n",
      "###########################################################\n",
      "removing bad channels from epochs:\n",
      "EEG channel type selected for re-referencing\n",
      "Applying average reference.\n",
      "Applying a custom ('EEG',) reference.\n",
      "EEG channel type selected for re-referencing\n",
      "Applying average reference.\n",
      "Applying a custom ('EEG',) reference.\n",
      "\n",
      "###########################################################\n",
      "filtering the data\n",
      "Filtering raw data in 1 contiguous segment\n",
      "Setting up band-pass filter from 5 - 35 Hz\n",
      "\n",
      "FIR filter parameters\n",
      "---------------------\n",
      "Designing a one-pass, zero-phase, non-causal bandpass filter:\n",
      "- Windowed time-domain design (firwin) method\n",
      "- Hamming window with 0.0194 passband ripple and 53 dB stopband attenuation\n",
      "- Lower passband edge: 5.00\n",
      "- Lower transition bandwidth: 2.00 Hz (-6 dB cutoff frequency: 4.00 Hz)\n",
      "- Upper passband edge: 35.00 Hz\n",
      "- Upper transition bandwidth: 8.75 Hz (-6 dB cutoff frequency: 39.38 Hz)\n",
      "- Filter length: 825 samples (1.650 s)\n",
      "\n"
     ]
    },
    {
     "name": "stderr",
     "output_type": "stream",
     "text": [
      "[Parallel(n_jobs=1)]: Using backend SequentialBackend with 1 concurrent workers.\n",
      "[Parallel(n_jobs=1)]: Done   1 out of   1 | elapsed:    0.0s remaining:    0.0s\n",
      "[Parallel(n_jobs=1)]: Done   2 out of   2 | elapsed:    0.0s remaining:    0.0s\n",
      "[Parallel(n_jobs=1)]: Done   3 out of   3 | elapsed:    0.0s remaining:    0.0s\n",
      "[Parallel(n_jobs=1)]: Done   4 out of   4 | elapsed:    0.0s remaining:    0.0s\n"
     ]
    },
    {
     "name": "stdout",
     "output_type": "stream",
     "text": [
      "Used Annotations descriptions: ['ActiveRest', 'Beep', 'ClosePalm', 'Long Break', 'OpenPalm', 'Rest']\n",
      "\n",
      "###########################################################\n",
      "extracting event info: {'ActiveRest': 1, 'Beep': 2, 'ClosePalm': 3, 'Long Break': 4, 'OpenPalm': 5, 'Rest': 6}\n",
      "\n",
      "###########################################################\n",
      "Not setting metadata\n",
      "40 matching events found\n",
      "No baseline correction applied\n",
      "0 projection items activated\n",
      "Using data from preloaded Raw for 40 events and 5001 original time points ...\n"
     ]
    },
    {
     "name": "stderr",
     "output_type": "stream",
     "text": [
      "[Parallel(n_jobs=1)]: Done  58 out of  58 | elapsed:    0.7s finished\n"
     ]
    },
    {
     "name": "stdout",
     "output_type": "stream",
     "text": [
      "0 bad epochs dropped\n",
      "Fitted sphere radius:         95.0 mm\n",
      "Origin head coordinates:      0.0 -0.0 0.0 mm\n",
      "Origin device coordinates:    0.0 -0.0 0.0 mm\n",
      "ActiveRest\n",
      "OpenPalm\n",
      "Not setting metadata\n",
      "40 matching events found\n",
      "No baseline correction applied\n",
      "0 projection items activated\n",
      "\n",
      "###########################################################\n",
      "removing bad channels from epochs:\n",
      "Creating RawArray with float64 data, n_channels=67, n_times=413262\n",
      "    Range : 0 ... 413261 =      0.000 ...   826.522 secs\n",
      "Ready.\n",
      "\n",
      "###########################################################\n",
      "removing subject specific bad electrodes from the raw data\n",
      "\n",
      "###########################################################\n",
      "removing bad channels from epochs:\n",
      "EEG channel type selected for re-referencing\n",
      "Applying average reference.\n",
      "Applying a custom ('EEG',) reference.\n",
      "EEG channel type selected for re-referencing\n",
      "Applying average reference.\n",
      "Applying a custom ('EEG',) reference.\n",
      "\n",
      "###########################################################\n",
      "filtering the data\n",
      "Filtering raw data in 1 contiguous segment\n",
      "Setting up band-pass filter from 5 - 35 Hz\n",
      "\n",
      "FIR filter parameters\n",
      "---------------------\n",
      "Designing a one-pass, zero-phase, non-causal bandpass filter:\n",
      "- Windowed time-domain design (firwin) method\n",
      "- Hamming window with 0.0194 passband ripple and 53 dB stopband attenuation\n",
      "- Lower passband edge: 5.00\n",
      "- Lower transition bandwidth: 2.00 Hz (-6 dB cutoff frequency: 4.00 Hz)\n",
      "- Upper passband edge: 35.00 Hz\n",
      "- Upper transition bandwidth: 8.75 Hz (-6 dB cutoff frequency: 39.38 Hz)\n",
      "- Filter length: 825 samples (1.650 s)\n",
      "\n"
     ]
    },
    {
     "name": "stderr",
     "output_type": "stream",
     "text": [
      "[Parallel(n_jobs=1)]: Using backend SequentialBackend with 1 concurrent workers.\n",
      "[Parallel(n_jobs=1)]: Done   1 out of   1 | elapsed:    0.0s remaining:    0.0s\n",
      "[Parallel(n_jobs=1)]: Done   2 out of   2 | elapsed:    0.0s remaining:    0.0s\n",
      "[Parallel(n_jobs=1)]: Done   3 out of   3 | elapsed:    0.0s remaining:    0.0s\n",
      "[Parallel(n_jobs=1)]: Done   4 out of   4 | elapsed:    0.0s remaining:    0.0s\n"
     ]
    },
    {
     "name": "stdout",
     "output_type": "stream",
     "text": [
      "Used Annotations descriptions: ['ActiveRest', 'Beep', 'ClosePalm', 'Long Break', 'OpenPalm', 'Rest']\n",
      "\n",
      "###########################################################\n",
      "extracting event info: {'ActiveRest': 1, 'Beep': 2, 'ClosePalm': 3, 'Long Break': 4, 'OpenPalm': 5, 'Rest': 6}\n",
      "\n",
      "###########################################################\n",
      "Not setting metadata\n",
      "40 matching events found\n",
      "No baseline correction applied\n",
      "0 projection items activated\n",
      "Using data from preloaded Raw for 40 events and 5001 original time points ...\n",
      "0 bad epochs dropped\n",
      "Fitted sphere radius:         95.0 mm\n"
     ]
    },
    {
     "name": "stderr",
     "output_type": "stream",
     "text": [
      "[Parallel(n_jobs=1)]: Done  58 out of  58 | elapsed:    0.6s finished\n"
     ]
    },
    {
     "name": "stdout",
     "output_type": "stream",
     "text": [
      "Origin head coordinates:      0.0 -0.0 0.0 mm\n",
      "Origin device coordinates:    0.0 -0.0 0.0 mm\n",
      "ActiveRest\n",
      "OpenPalm\n",
      "Not setting metadata\n",
      "40 matching events found\n",
      "No baseline correction applied\n",
      "0 projection items activated\n",
      "\n",
      "###########################################################\n",
      "removing bad channels from epochs:\n",
      "Creating RawArray with float64 data, n_channels=67, n_times=404519\n",
      "    Range : 0 ... 404518 =      0.000 ...   809.036 secs\n",
      "Ready.\n",
      "\n",
      "###########################################################\n",
      "removing subject specific bad electrodes from the raw data\n",
      "\n",
      "###########################################################\n",
      "removing bad channels from epochs:\n",
      "EEG channel type selected for re-referencing\n",
      "Applying average reference.\n",
      "Applying a custom ('EEG',) reference.\n",
      "EEG channel type selected for re-referencing\n",
      "Applying average reference.\n",
      "Applying a custom ('EEG',) reference.\n",
      "\n",
      "###########################################################\n",
      "filtering the data\n",
      "Filtering raw data in 1 contiguous segment\n",
      "Setting up band-pass filter from 5 - 35 Hz\n",
      "\n",
      "FIR filter parameters\n",
      "---------------------\n",
      "Designing a one-pass, zero-phase, non-causal bandpass filter:\n",
      "- Windowed time-domain design (firwin) method\n",
      "- Hamming window with 0.0194 passband ripple and 53 dB stopband attenuation\n",
      "- Lower passband edge: 5.00\n",
      "- Lower transition bandwidth: 2.00 Hz (-6 dB cutoff frequency: 4.00 Hz)\n",
      "- Upper passband edge: 35.00 Hz\n",
      "- Upper transition bandwidth: 8.75 Hz (-6 dB cutoff frequency: 39.38 Hz)\n",
      "- Filter length: 825 samples (1.650 s)\n",
      "\n"
     ]
    },
    {
     "name": "stderr",
     "output_type": "stream",
     "text": [
      "[Parallel(n_jobs=1)]: Using backend SequentialBackend with 1 concurrent workers.\n",
      "[Parallel(n_jobs=1)]: Done   1 out of   1 | elapsed:    0.0s remaining:    0.0s\n",
      "[Parallel(n_jobs=1)]: Done   2 out of   2 | elapsed:    0.0s remaining:    0.0s\n",
      "[Parallel(n_jobs=1)]: Done   3 out of   3 | elapsed:    0.0s remaining:    0.0s\n",
      "[Parallel(n_jobs=1)]: Done   4 out of   4 | elapsed:    0.0s remaining:    0.0s\n"
     ]
    },
    {
     "name": "stdout",
     "output_type": "stream",
     "text": [
      "Used Annotations descriptions: ['ActiveRest', 'Beep', 'ClosePalm', 'Long Break', 'OpenPalm', 'Rest']\n",
      "\n",
      "###########################################################\n",
      "extracting event info: {'ActiveRest': 1, 'Beep': 2, 'ClosePalm': 3, 'Long Break': 4, 'OpenPalm': 5, 'Rest': 6}\n",
      "\n",
      "###########################################################\n",
      "Not setting metadata\n",
      "38 matching events found\n",
      "No baseline correction applied\n",
      "0 projection items activated\n",
      "Using data from preloaded Raw for 38 events and 5001 original time points ...\n",
      "0 bad epochs dropped\n",
      "Fitted sphere radius:         95.0 mm\n"
     ]
    },
    {
     "name": "stderr",
     "output_type": "stream",
     "text": [
      "[Parallel(n_jobs=1)]: Done  58 out of  58 | elapsed:    0.6s finished\n"
     ]
    },
    {
     "name": "stdout",
     "output_type": "stream",
     "text": [
      "Origin head coordinates:      0.0 -0.0 0.0 mm\n",
      "Origin device coordinates:    0.0 -0.0 0.0 mm\n",
      "ActiveRest\n",
      "OpenPalm\n",
      "Not setting metadata\n",
      "38 matching events found\n",
      "No baseline correction applied\n",
      "0 projection items activated\n",
      "\n",
      "###########################################################\n",
      "removing bad channels from epochs:\n",
      "Concatenating all preprocessed epochs...\n",
      "Not setting metadata\n",
      "151 matching events found\n",
      "No baseline correction applied\n"
     ]
    }
   ],
   "source": [
    "# --------------------------------------------------------------------------------------\n",
    "# Load and Preprocess EEG Data\n",
    "# Loop through each XDF file, preprocess the data, and store resulting epochs.\n",
    "# --------------------------------------------------------------------------------------\n",
    "\n",
    "epochs_list = []\n",
    "filter_bank_epochs_list = []\n",
    "\n",
    "# Process each XDF file individually\n",
    "for xdf_file in xdf_files[:]:\n",
    "    # Load raw EEG data from XDF file\n",
    "    raw = read_raw_xdf(xdf_file)\n",
    "    \n",
    "    # Preprocess the data (filtering, epoching, bad electrode removal, etc.)\n",
    "    epoch, filter_bank_epochs, mean_across_epochs, events_trigger_dict = EEG_Preprocessing(\n",
    "        current_path, raw, params_dict\n",
    "    )\n",
    "    \n",
    "    # Append processed epochs to list\n",
    "    epochs_list.append(epoch)\n",
    "    filter_bank_epochs_list.append(filter_bank_epochs)\n",
    "\n",
    "# Concatenate all epochs into a single MNE Epochs object\n",
    "print(\"Concatenating all preprocessed epochs...\")\n",
    "epochs = mne.concatenate_epochs(epochs_list, on_mismatch='warn')\n",
    "\n",
    "# Filter bank epochs are left as None unless filter bank processing is enabled\n",
    "filter_bank_epochs = None\n"
   ]
  },
  {
   "cell_type": "code",
   "execution_count": 14,
   "metadata": {},
   "outputs": [],
   "source": [
    "# Tomer - Here is a good spot to start and play with mne using the latest 'raw' file or the epochs file"
   ]
  },
  {
   "cell_type": "code",
   "execution_count": null,
   "metadata": {},
   "outputs": [],
   "source": []
  },
  {
   "cell_type": "markdown",
   "metadata": {},
   "source": [
    "Pre-processing"
   ]
  },
  {
   "cell_type": "code",
   "execution_count": null,
   "metadata": {},
   "outputs": [
    {
     "name": "stdout",
     "output_type": "stream",
     "text": [
      "putting aside 20% of the data: trial numbers are:\n",
      " [120  44  21  48  43 118  18   2   3  50  19  76  27   1  65 101  45  56\n",
      "  86 142 130 140 148  78  30 105 116  84 106  60 132]\n",
      "\n",
      "remaining 80% of the trials go into training for cv:\n",
      " [141  91  25  80 107  61 146   0  96 114 145  36  23  40 125  92   5  88\n",
      "  64  57  72 121  39  35 150 143  20  12  59  13  81 137 127 126  95  75\n",
      "   8 109 129  15 135  10   4 110 100  52  46  37 123  38  90  51 149  66\n",
      " 112 133  82  98  42 139  94   6  26  63  14  74  99  87  73 147  28  85\n",
      "  16  69  22  54   9  24 103  49 124  71 111 136  53 134 117  55 138 102\n",
      " 113 119  31 115  29  89 108 104  67  34 128  17  58  68  62   7  77  79\n",
      "  41  83  70  32 144  93  47 122 131  33  11  97]\n",
      "\n"
     ]
    }
   ],
   "source": [
    "# --------------------------------------------------------------------------------------\n",
    "# Event Extraction and Training/Validation Split\n",
    "# --------------------------------------------------------------------------------------\n",
    "\n",
    "# Extract event information from the epochs (event times and labels)\n",
    "events = epochs.events\n",
    "event_dict = epochs.event_id\n",
    "\n",
    "# Filter the event dictionary to only include the desired events (defined in params_dict)\n",
    "params_dict['events_trigger_dict'] = {\n",
    "    key: event_dict[key]\n",
    "    for key in event_dict.keys()\n",
    "    if key in params_dict['desired_events']\n",
    "}\n",
    "\n",
    "# Split the data into training and validation sets (stratified by class)\n",
    "train_inds, validation_inds, return_dict = Split_training_validation(\n",
    "    epochs, filter_bank_epochs, params_dict['events_trigger_dict']\n",
    ")\n",
    "\n",
    "# --------------------------------------------------------------------------------------\n",
    "# Epoch Cropping\n",
    "# --------------------------------------------------------------------------------------\n",
    "# Crop the epochs to the classification window (e.g., 1-2 seconds after stimulus onset)\n",
    "# This focuses the classifier only on the most relevant portion of each trial.\n",
    "epochs_copy = epochs.copy()\n",
    "returned_dict = crop_the_data(\n",
    "    epochs_copy, train_inds, validation_inds,\n",
    "    params_dict['classifier_window_s'], params_dict['classifier_window_e']\n",
    ")\n",
    "\n",
    "# Extract cropped training and validation sets from the returned dictionary\n",
    "train_set_data_uncropped = returned_dict['train_set_data_uncropped']\n",
    "epochs_cropped = returned_dict['epochs_cropped']\n",
    "train_set_data = returned_dict['train_set_data']\n",
    "train_set_labels = returned_dict['train_set_labels']\n",
    "validation_set_labels = returned_dict['validation_set_labels']\n",
    "validation_set_data_uncropped = returned_dict['validation_set_data_uncropped']\n",
    "\n",
    "# --------------------------------------------------------------------------------------\n",
    "# Cross-validation Setup\n",
    "# --------------------------------------------------------------------------------------\n",
    "# Define 5-fold stratified shuffle split cross-validation\n",
    "cv = StratifiedShuffleSplit(5, test_size=0.2, random_state=42)\n",
    "cv_split = cv.split(epochs_cropped.get_data(), events[:, 2])\n",
    "\n",
    "# --------------------------------------------------------------------------------------\n",
    "# Filter Bank Handling (for FBCSP Pipelines)\n",
    "# --------------------------------------------------------------------------------------\n",
    "# If using filterbank CSP, crop and store each frequency band's data into 4D arrays\n",
    "if params_dict['pipeline_name'] == 'fbcsp+lda': \n",
    "    train_set_data_fb = []\n",
    "    train_set_data_uncropped_fb = []\n",
    "    validation_set_data_fb = []\n",
    "    validation_set_data_uncropped_fb = []\n",
    "\n",
    "    for filtered_data_band_epoch in preprocessing_dict['filter_bank_epochs']:\n",
    "        # Crop each frequency band to the classification window\n",
    "        returned_dict_temp = crop_the_data(\n",
    "            filtered_data_band_epoch, train_inds, validation_inds,\n",
    "            params_dict['classifier_window_s'], params_dict['classifier_window_e']\n",
    "        )\n",
    "        \n",
    "        # Store training data (both cropped and uncropped) for each band\n",
    "        train_set_data_fb.append(returned_dict_temp['train_set_data'])\n",
    "        train_set_data_uncropped_fb.append(returned_dict_temp['train_set_data_uncropped'])\n",
    "\n",
    "        # Store validation data (both cropped and uncropped) for each band\n",
    "        validation_set_data_fb.append(returned_dict_temp['validation_set_data'])\n",
    "        validation_set_data_uncropped_fb.append(returned_dict_temp['validation_set_data_uncropped'])\n",
    "\n",
    "    # Combine frequency bands into 4D arrays (epochs x channels x time x frequency band)\n",
    "    train_set_data = np.transpose(np.array(train_set_data_fb), (1, 2, 3, 0))\n",
    "    train_set_data_uncropped = np.transpose(np.array(train_set_data_uncropped_fb), (1, 2, 3, 0))\n",
    "    validation_set_data_4d_array = np.transpose(np.array(validation_set_data_fb), (1, 2, 3, 0))\n",
    "    validation_set_data_uncropped = np.transpose(np.array(validation_set_data_uncropped_fb), (1, 2, 3, 0))\n",
    "\n",
    "# --------------------------------------------------------------------------------------\n",
    "# Data Augmentation (Sliding Windows within Epochs)\n",
    "# --------------------------------------------------------------------------------------\n",
    "# Augment the training set with sliding windows to increase data size and improve generalization\n",
    "augmented_x, augmented_y = augment_data(\n",
    "    params_dict['augmentation_params'], train_set_data, train_set_labels, epochs.info['sfreq']\n",
    ")\n",
    "\n",
    "# --------------------------------------------------------------------------------------\n",
    "# Convert Labels to Strings (for Classifier Compatibility)\n",
    "# --------------------------------------------------------------------------------------\n",
    "# Convert numeric labels to string labels (e.g., 'OpenPalm', 'ActiveRest')\n",
    "triggers_label_dict = {val: key for key, val in params_dict['events_trigger_dict'].items()}\n",
    "test_data_y_labels = np.array([triggers_label_dict[cur_y] for cur_y in validation_set_labels])\n",
    "augmented_y_labels = np.array([triggers_label_dict[cur_y] for cur_y in augmented_y])\n"
   ]
  },
  {
   "cell_type": "markdown",
   "metadata": {},
   "source": [
    "Cross-Validation Evaluation "
   ]
  },
  {
   "cell_type": "code",
   "execution_count": 6,
   "metadata": {},
   "outputs": [
    {
     "name": "stdout",
     "output_type": "stream",
     "text": [
      "Computing rank from data with rank=None\n"
     ]
    },
    {
     "name": "stdout",
     "output_type": "stream",
     "text": [
      "    Using tolerance 0.024 (2.2e-16 eps * 42 dim * 2.5e+12  max singular value)\n",
      "    Estimated rank (mag): 42\n",
      "    MAG: rank 42 computed from 42 data channels with 0 projectors\n",
      "Reducing data rank from 42 -> 42\n",
      "Estimating covariance using OAS\n",
      "Done.\n",
      "Computing rank from data with rank=None\n",
      "    Using tolerance 0.025 (2.2e-16 eps * 42 dim * 2.7e+12  max singular value)\n",
      "    Estimated rank (mag): 42\n",
      "    MAG: rank 42 computed from 42 data channels with 0 projectors\n",
      "Reducing data rank from 42 -> 42\n",
      "Estimating covariance using OAS\n",
      "Done.\n",
      "Class order in confusion matrix: ['ActiveRest' 'OpenPalm']\n",
      "Computing rank from data with rank=None\n",
      "    Using tolerance 0.023 (2.2e-16 eps * 42 dim * 2.5e+12  max singular value)\n",
      "    Estimated rank (mag): 42\n",
      "    MAG: rank 42 computed from 42 data channels with 0 projectors\n",
      "Reducing data rank from 42 -> 42\n",
      "Estimating covariance using OAS\n",
      "Done.\n",
      "Computing rank from data with rank=None\n",
      "    Using tolerance 0.025 (2.2e-16 eps * 42 dim * 2.7e+12  max singular value)\n",
      "    Estimated rank (mag): 42\n",
      "    MAG: rank 42 computed from 42 data channels with 0 projectors\n",
      "Reducing data rank from 42 -> 42\n",
      "Estimating covariance using OAS\n",
      "Done.\n",
      "Class order in confusion matrix: ['ActiveRest' 'OpenPalm']\n",
      "Computing rank from data with rank=None\n",
      "    Using tolerance 0.022 (2.2e-16 eps * 42 dim * 2.4e+12  max singular value)\n",
      "    Estimated rank (mag): 42\n",
      "    MAG: rank 42 computed from 42 data channels with 0 projectors\n",
      "Reducing data rank from 42 -> 42\n",
      "Estimating covariance using OAS\n",
      "Done.\n",
      "Computing rank from data with rank=None\n",
      "    Using tolerance 0.026 (2.2e-16 eps * 42 dim * 2.7e+12  max singular value)\n",
      "    Estimated rank (mag): 42\n",
      "    MAG: rank 42 computed from 42 data channels with 0 projectors\n",
      "Reducing data rank from 42 -> 42\n",
      "Estimating covariance using OAS\n",
      "Done.\n",
      "Class order in confusion matrix: ['ActiveRest' 'OpenPalm']\n",
      "Computing rank from data with rank=None\n",
      "    Using tolerance 0.024 (2.2e-16 eps * 42 dim * 2.5e+12  max singular value)\n",
      "    Estimated rank (mag): 42\n",
      "    MAG: rank 42 computed from 42 data channels with 0 projectors\n",
      "Reducing data rank from 42 -> 42\n",
      "Estimating covariance using OAS\n",
      "Done.\n",
      "Computing rank from data with rank=None\n",
      "    Using tolerance 0.026 (2.2e-16 eps * 42 dim * 2.8e+12  max singular value)\n",
      "    Estimated rank (mag): 42\n",
      "    MAG: rank 42 computed from 42 data channels with 0 projectors\n",
      "Reducing data rank from 42 -> 42\n",
      "Estimating covariance using OAS\n",
      "Done.\n",
      "Class order in confusion matrix: ['ActiveRest' 'OpenPalm']\n",
      "Computing rank from data with rank=None\n",
      "    Using tolerance 0.024 (2.2e-16 eps * 42 dim * 2.6e+12  max singular value)\n",
      "    Estimated rank (mag): 42\n",
      "    MAG: rank 42 computed from 42 data channels with 0 projectors\n",
      "Reducing data rank from 42 -> 42\n",
      "Estimating covariance using OAS\n",
      "Done.\n",
      "Computing rank from data with rank=None\n",
      "    Using tolerance 0.024 (2.2e-16 eps * 42 dim * 2.6e+12  max singular value)\n",
      "    Estimated rank (mag): 42\n",
      "    MAG: rank 42 computed from 42 data channels with 0 projectors\n",
      "Reducing data rank from 42 -> 42\n",
      "Estimating covariance using OAS\n",
      "Done.\n",
      "Class order in confusion matrix: ['ActiveRest' 'OpenPalm']\n"
     ]
    }
   ],
   "source": [
    "scores_windows,folds_confusion_matrices_per_window,w_times= run_windowed_classification_aug_cv(epochs, returned_dict['epochs_cropped'], cv_split,params_dict)"
   ]
  },
  {
   "cell_type": "code",
   "execution_count": 7,
   "metadata": {},
   "outputs": [],
   "source": [
    "plot_accuracy_over_time(scores_windows, w_times, params_dict, axes_handle=None)"
   ]
  },
  {
   "cell_type": "markdown",
   "metadata": {},
   "source": [
    "Training using all data for future real-time classification"
   ]
  },
  {
   "cell_type": "code",
   "execution_count": 8,
   "metadata": {},
   "outputs": [
    {
     "name": "stdout",
     "output_type": "stream",
     "text": [
      "Computing rank from data with rank=None\n",
      "    Using tolerance 0.024 (2.2e-16 eps * 42 dim * 2.5e+12  max singular value)\n",
      "    Estimated rank (mag): 42\n",
      "    MAG: rank 42 computed from 42 data channels with 0 projectors\n",
      "Reducing data rank from 42 -> 42\n",
      "Estimating covariance using OAS\n",
      "Done.\n",
      "Computing rank from data with rank=None\n",
      "    Using tolerance 0.025 (2.2e-16 eps * 42 dim * 2.7e+12  max singular value)\n",
      "    Estimated rank (mag): 42\n",
      "    MAG: rank 42 computed from 42 data channels with 0 projectors\n",
      "Reducing data rank from 42 -> 42\n",
      "Estimating covariance using OAS\n",
      "Done.\n"
     ]
    }
   ],
   "source": [
    "clf,csp,lda = classifier_training(augmented_x,augmented_y,params_dict, BinaryClassification = False)"
   ]
  },
  {
   "cell_type": "code",
   "execution_count": 9,
   "metadata": {},
   "outputs": [
    {
     "data": {
      "image/png": "[encoded data removed]",
      "text/plain": [
       "<MNEFigure size 1200x220 with 9 Axes>"
      ]
     },
     "execution_count": 9,
     "metadata": {},
     "output_type": "execute_result"
    }
   ],
   "source": [
    "csp.plot_patterns(epochs.info)"
   ]
  },
  {
   "cell_type": "code",
   "execution_count": 10,
   "metadata": {},
   "outputs": [],
   "source": [
    "w_length = int(raw.info['sfreq'] * params_dict['windowed_prediction_params']['win_len'])   # running classifier: window length\n",
    "w_step = int(raw.info['sfreq'] * params_dict['windowed_prediction_params']['win_step'])  # running classifier: window step size\n",
    "w_start = np.arange(0, train_set_data_uncropped.shape[2] - w_length, w_step)\n",
    "w_times = (w_start + w_length / 2.) / raw.info['sfreq'] + params_dict['epoch_tmin']"
   ]
  },
  {
   "cell_type": "code",
   "execution_count": 11,
   "metadata": {},
   "outputs": [
    {
     "ename": "NameError",
     "evalue": "name 'confusion_matrices_per_window' is not defined",
     "output_type": "error",
     "traceback": [
      "\u001b[1;31m---------------------------------------------------------------------------\u001b[0m",
      "\u001b[1;31mNameError\u001b[0m                                 Traceback (most recent call last)",
      "Cell \u001b[1;32mIn[11], line 1\u001b[0m\n\u001b[1;32m----> 1\u001b[0m \u001b[43mconfusion_matrices_per_window\u001b[49m\n",
      "\u001b[1;31mNameError\u001b[0m: name 'confusion_matrices_per_window' is not defined"
     ]
    }
   ],
   "source": [
    "confusion_matrices_per_window"
   ]
  },
  {
   "cell_type": "code",
   "execution_count": 12,
   "metadata": {},
   "outputs": [
    {
     "name": "stdout",
     "output_type": "stream",
     "text": [
      "Class order in confusion matrix: ['ActiveRest' 'OpenPalm']\n"
     ]
    }
   ],
   "source": [
    "scores_per_time_window,confusion_matrices_per_window = run_windowed_pretrained_classifier(clf,validation_set_data_uncropped,test_data_y_labels,w_start,w_length)\n"
   ]
  },
  {
   "cell_type": "code",
   "execution_count": 13,
   "metadata": {},
   "outputs": [
    {
     "ename": "IndexError",
     "evalue": "tuple index out of range",
     "output_type": "error",
     "traceback": [
      "\u001b[1;31m---------------------------------------------------------------------------\u001b[0m",
      "\u001b[1;31mIndexError\u001b[0m                                Traceback (most recent call last)",
      "Cell \u001b[1;32mIn[13], line 1\u001b[0m\n\u001b[1;32m----> 1\u001b[0m \u001b[43mplot_accuracy_over_time\u001b[49m\u001b[43m(\u001b[49m\u001b[43mscores_per_time_window\u001b[49m\u001b[43m,\u001b[49m\u001b[43m \u001b[49m\u001b[43mw_times\u001b[49m\u001b[43m,\u001b[49m\u001b[43m \u001b[49m\u001b[43mparams_dict\u001b[49m\u001b[43m,\u001b[49m\u001b[43m \u001b[49m\u001b[43maxes_handle\u001b[49m\u001b[38;5;241;43m=\u001b[39;49m\u001b[38;5;28;43;01mNone\u001b[39;49;00m\u001b[43m)\u001b[49m\n",
      "File \u001b[1;32mc:\\Users\\gilad\\3_Class_MI_21_01_25\\evaluation.py:103\u001b[0m, in \u001b[0;36mplot_accuracy_over_time\u001b[1;34m(scores_windows, w_times, params_dict, axes_handle)\u001b[0m\n\u001b[0;32m    101\u001b[0m times_col_names \u001b[38;5;241m=\u001b[39m [np\u001b[38;5;241m.\u001b[39mround(w_times[s], \u001b[38;5;241m2\u001b[39m) \u001b[38;5;28;01mfor\u001b[39;00m s \u001b[38;5;129;01min\u001b[39;00m \u001b[38;5;28mrange\u001b[39m(\u001b[38;5;28mlen\u001b[39m(w_times))]\n\u001b[0;32m    102\u001b[0m scores_windows_array \u001b[38;5;241m=\u001b[39m np\u001b[38;5;241m.\u001b[39msqueeze(np\u001b[38;5;241m.\u001b[39marray(scores_windows))\n\u001b[1;32m--> 103\u001b[0m \u001b[38;5;28;01mif\u001b[39;00m \u001b[43mscores_windows_array\u001b[49m\u001b[38;5;241;43m.\u001b[39;49m\u001b[43mshape\u001b[49m\u001b[43m[\u001b[49m\u001b[38;5;241;43m1\u001b[39;49m\u001b[43m]\u001b[49m \u001b[38;5;241m!=\u001b[39m \u001b[38;5;28mlen\u001b[39m(w_times):\n\u001b[0;32m    104\u001b[0m     \u001b[38;5;28;01mraise\u001b[39;00m \u001b[38;5;167;01mValueError\u001b[39;00m(\u001b[38;5;124m\"\u001b[39m\u001b[38;5;124mMismatch between scores_windows columns and w_times length.\u001b[39m\u001b[38;5;124m\"\u001b[39m)\n\u001b[0;32m    106\u001b[0m scores_windows_df \u001b[38;5;241m=\u001b[39m pd\u001b[38;5;241m.\u001b[39mDataFrame(columns\u001b[38;5;241m=\u001b[39mtimes_col_names, data\u001b[38;5;241m=\u001b[39mscores_windows_array)\n",
      "\u001b[1;31mIndexError\u001b[0m: tuple index out of range"
     ]
    }
   ],
   "source": [
    "plot_accuracy_over_time(scores_per_time_window, w_times, params_dict, axes_handle=None)"
   ]
  },
  {
   "cell_type": "code",
   "execution_count": 38,
   "metadata": {},
   "outputs": [
    {
     "data": {
      "text/plain": [
       "3501"
      ]
     },
     "execution_count": 38,
     "metadata": {},
     "output_type": "execute_result"
    }
   ],
   "source": [
    "train_set_data_uncropped.shape[2] + 500- w_length"
   ]
  },
  {
   "cell_type": "code",
   "execution_count": 22,
   "metadata": {},
   "outputs": [],
   "source": [
    "scores_windows_array = np.squeeze(np.array(scores_per_time_window))"
   ]
  },
  {
   "cell_type": "code",
   "execution_count": 23,
   "metadata": {},
   "outputs": [
    {
     "data": {
      "text/plain": [
       "(71,)"
      ]
     },
     "execution_count": 23,
     "metadata": {},
     "output_type": "execute_result"
    }
   ],
   "source": [
    "scores_windows_array.shape"
   ]
  },
  {
   "cell_type": "code",
   "execution_count": 15,
   "metadata": {},
   "outputs": [
    {
     "ename": "NameError",
     "evalue": "name 'confusion_matrices_per_window' is not defined",
     "output_type": "error",
     "traceback": [
      "\u001b[1;31m---------------------------------------------------------------------------\u001b[0m",
      "\u001b[1;31mNameError\u001b[0m                                 Traceback (most recent call last)",
      "Cell \u001b[1;32mIn[15], line 1\u001b[0m\n\u001b[1;32m----> 1\u001b[0m \u001b[43mconfusion_matrices_per_window\u001b[49m\n",
      "\u001b[1;31mNameError\u001b[0m: name 'confusion_matrices_per_window' is not defined"
     ]
    }
   ],
   "source": [
    "confusion_matrices_per_window"
   ]
  },
  {
   "cell_type": "code",
   "execution_count": 14,
   "metadata": {},
   "outputs": [
    {
     "ename": "ValueError",
     "evalue": "too many values to unpack (expected 2)",
     "output_type": "error",
     "traceback": [
      "\u001b[1;31m---------------------------------------------------------------------------\u001b[0m",
      "\u001b[1;31mValueError\u001b[0m                                Traceback (most recent call last)",
      "Cell \u001b[1;32mIn[14], line 37\u001b[0m\n\u001b[0;32m     34\u001b[0m     \u001b[38;5;28;01mreturn\u001b[39;00m (cm_binary, np\u001b[38;5;241m.\u001b[39marray([\u001b[38;5;124m'\u001b[39m\u001b[38;5;124mrest\u001b[39m\u001b[38;5;124m'\u001b[39m, \u001b[38;5;124m'\u001b[39m\u001b[38;5;124mmotor_imagery\u001b[39m\u001b[38;5;124m'\u001b[39m]))\n\u001b[0;32m     36\u001b[0m \u001b[38;5;66;03m# Example: Apply to all confusion matrices in the list\u001b[39;00m\n\u001b[1;32m---> 37\u001b[0m conf_matrices_merged \u001b[38;5;241m=\u001b[39m [merge_conf_matrix_tuple(cm_tuple) \u001b[38;5;28;01mfor\u001b[39;00m cm_tuple \u001b[38;5;129;01min\u001b[39;00m folds_confusion_matrices_per_window]\n\u001b[0;32m     39\u001b[0m \u001b[38;5;66;03m# Print merged confusion matrices\u001b[39;00m\n\u001b[0;32m     40\u001b[0m \u001b[38;5;28;01mfor\u001b[39;00m i, (cm_bin, labels) \u001b[38;5;129;01min\u001b[39;00m \u001b[38;5;28menumerate\u001b[39m(conf_matrices_merged):\n",
      "Cell \u001b[1;32mIn[14], line 37\u001b[0m, in \u001b[0;36m<listcomp>\u001b[1;34m(.0)\u001b[0m\n\u001b[0;32m     34\u001b[0m     \u001b[38;5;28;01mreturn\u001b[39;00m (cm_binary, np\u001b[38;5;241m.\u001b[39marray([\u001b[38;5;124m'\u001b[39m\u001b[38;5;124mrest\u001b[39m\u001b[38;5;124m'\u001b[39m, \u001b[38;5;124m'\u001b[39m\u001b[38;5;124mmotor_imagery\u001b[39m\u001b[38;5;124m'\u001b[39m]))\n\u001b[0;32m     36\u001b[0m \u001b[38;5;66;03m# Example: Apply to all confusion matrices in the list\u001b[39;00m\n\u001b[1;32m---> 37\u001b[0m conf_matrices_merged \u001b[38;5;241m=\u001b[39m [\u001b[43mmerge_conf_matrix_tuple\u001b[49m\u001b[43m(\u001b[49m\u001b[43mcm_tuple\u001b[49m\u001b[43m)\u001b[49m \u001b[38;5;28;01mfor\u001b[39;00m cm_tuple \u001b[38;5;129;01min\u001b[39;00m folds_confusion_matrices_per_window]\n\u001b[0;32m     39\u001b[0m \u001b[38;5;66;03m# Print merged confusion matrices\u001b[39;00m\n\u001b[0;32m     40\u001b[0m \u001b[38;5;28;01mfor\u001b[39;00m i, (cm_bin, labels) \u001b[38;5;129;01min\u001b[39;00m \u001b[38;5;28menumerate\u001b[39m(conf_matrices_merged):\n",
      "Cell \u001b[1;32mIn[14], line 16\u001b[0m, in \u001b[0;36mmerge_conf_matrix_tuple\u001b[1;34m(conf_matrix_tuple)\u001b[0m\n\u001b[0;32m      3\u001b[0m \u001b[38;5;28;01mdef\u001b[39;00m \u001b[38;5;21mmerge_conf_matrix_tuple\u001b[39m(conf_matrix_tuple):\n\u001b[0;32m      4\u001b[0m \u001b[38;5;250m    \u001b[39m\u001b[38;5;124;03m\"\"\"\u001b[39;00m\n\u001b[0;32m      5\u001b[0m \u001b[38;5;124;03m    Converts a 4-class confusion matrix into a 2-class confusion matrix\u001b[39;00m\n\u001b[0;32m      6\u001b[0m \u001b[38;5;124;03m    by merging:\u001b[39;00m\n\u001b[1;32m   (...)\u001b[0m\n\u001b[0;32m     14\u001b[0m \u001b[38;5;124;03m    tuple: (2x2 merged confusion matrix, new class labels)\u001b[39;00m\n\u001b[0;32m     15\u001b[0m \u001b[38;5;124;03m    \"\"\"\u001b[39;00m\n\u001b[1;32m---> 16\u001b[0m     cm_4class, class_labels \u001b[38;5;241m=\u001b[39m conf_matrix_tuple  \u001b[38;5;66;03m# Extract confusion matrix & labels\u001b[39;00m\n\u001b[0;32m     18\u001b[0m     \u001b[38;5;66;03m# Merge rows (true labels)\u001b[39;00m\n\u001b[0;32m     19\u001b[0m     row_0 \u001b[38;5;241m=\u001b[39m cm_4class[\u001b[38;5;241m0\u001b[39m] \u001b[38;5;241m+\u001b[39m cm_4class[\u001b[38;5;241m3\u001b[39m]  \u001b[38;5;66;03m# Merge 'ActiveRest' (0) & 'Rest' (3)\u001b[39;00m\n",
      "\u001b[1;31mValueError\u001b[0m: too many values to unpack (expected 2)"
     ]
    }
   ],
   "source": [
    "import numpy as np\n",
    "\n",
    "def merge_conf_matrix_tuple(conf_matrix_tuple):\n",
    "    \"\"\"\n",
    "    Converts a 4-class confusion matrix into a 2-class confusion matrix\n",
    "    by merging:\n",
    "    - 'ActiveRest' (0) & 'Rest' (3) → Class 0\n",
    "    - 'ClosePalm' (1) & 'OpenPalm' (2) → Class 1\n",
    "\n",
    "    Args:\n",
    "    conf_matrix_tuple (tuple): (4x4 confusion matrix, class labels)\n",
    "\n",
    "    Returns:\n",
    "    tuple: (2x2 merged confusion matrix, new class labels)\n",
    "    \"\"\"\n",
    "    cm_4class, class_labels = conf_matrix_tuple  # Extract confusion matrix & labels\n",
    "\n",
    "    # Merge rows (true labels)\n",
    "    row_0 = cm_4class[0] + cm_4class[3]  # Merge 'ActiveRest' (0) & 'Rest' (3)\n",
    "    row_1 = cm_4class[1] + cm_4class[2]  # Merge 'ClosePalm' (1) & 'OpenPalm' (2)\n",
    "\n",
    "    # Merge columns (predicted labels)\n",
    "    col_0 = row_0[0] + row_0[3]  # Merge predictions for 'ActiveRest' (0) & 'Rest' (3)\n",
    "    col_1 = row_0[1] + row_0[2]  # Merge predictions for 'ClosePalm' (1) & 'OpenPalm' (2)\n",
    "    col_2 = row_1[0] + row_1[3]  # Merge predictions for 'ActiveRest' (0) & 'Rest' (3)\n",
    "    col_3 = row_1[1] + row_1[2]  # Merge predictions for 'ClosePalm' (1) & 'OpenPalm' (2)\n",
    "\n",
    "    # Construct new 2x2 confusion matrix\n",
    "    cm_binary = np.array([\n",
    "        [col_0, col_1],  # Row 0 (New Class 0)\n",
    "        [col_2, col_3]   # Row 1 (New Class 1)\n",
    "    ])\n",
    "\n",
    "    return (cm_binary, np.array(['rest', 'motor_imagery']))\n",
    "\n",
    "# Example: Apply to all confusion matrices in the list\n",
    "conf_matrices_merged = [merge_conf_matrix_tuple(cm_tuple) for cm_tuple in folds_confusion_matrices_per_window]\n",
    "\n",
    "# Print merged confusion matrices\n",
    "for i, (cm_bin, labels) in enumerate(conf_matrices_merged):\n",
    "    print(f\"\\nBinary Confusion Matrix (Window {i+1}):\")\n",
    "    print(cm_bin)\n",
    "    print(\"New Labels:\", labels)\n"
   ]
  },
  {
   "cell_type": "code",
   "execution_count": 20,
   "metadata": {},
   "outputs": [
    {
     "ename": "NameError",
     "evalue": "name 'conf_matrices_merged' is not defined",
     "output_type": "error",
     "traceback": [
      "\u001b[1;31m---------------------------------------------------------------------------\u001b[0m",
      "\u001b[1;31mNameError\u001b[0m                                 Traceback (most recent call last)",
      "Cell \u001b[1;32mIn[20], line 31\u001b[0m\n\u001b[0;32m     29\u001b[0m \u001b[38;5;66;03m# Example: Compute the average confusion matrix from index 2 to 5\u001b[39;00m\n\u001b[0;32m     30\u001b[0m start_idx, end_idx \u001b[38;5;241m=\u001b[39m \u001b[38;5;241m30\u001b[39m, \u001b[38;5;241m71\u001b[39m\n\u001b[1;32m---> 31\u001b[0m avg_conf_matrix, avg_labels \u001b[38;5;241m=\u001b[39m average_conf_matrix(\u001b[43mconf_matrices_merged\u001b[49m, start_idx, end_idx)\n\u001b[0;32m     33\u001b[0m \u001b[38;5;66;03m# Print result\u001b[39;00m\n\u001b[0;32m     34\u001b[0m \u001b[38;5;28mprint\u001b[39m(\u001b[38;5;124m\"\u001b[39m\u001b[38;5;130;01m\\n\u001b[39;00m\u001b[38;5;124mAverage Confusion Matrix (From Index\u001b[39m\u001b[38;5;124m\"\u001b[39m, start_idx, \u001b[38;5;124m\"\u001b[39m\u001b[38;5;124mto\u001b[39m\u001b[38;5;124m\"\u001b[39m, end_idx, \u001b[38;5;124m\"\u001b[39m\u001b[38;5;124m):\u001b[39m\u001b[38;5;124m\"\u001b[39m)\n",
      "\u001b[1;31mNameError\u001b[0m: name 'conf_matrices_merged' is not defined"
     ]
    }
   ],
   "source": [
    "import numpy as np\n",
    "\n",
    "def average_conf_matrix(conf_matrices_merged, start_idx, end_idx):\n",
    "    \"\"\"\n",
    "    Computes the average confusion matrix over a given index range.\n",
    "\n",
    "    Args:\n",
    "    conf_matrices_merged (list of tuples): [(2x2 confusion matrix, labels), ...]\n",
    "    start_idx (int): Start index for averaging.\n",
    "    end_idx (int): End index for averaging (inclusive).\n",
    "\n",
    "    Returns:\n",
    "    tuple: (Averaged 2x2 confusion matrix, class labels)\n",
    "    \"\"\"\n",
    "    # Extract only the confusion matrices from the selected range\n",
    "    selected_matrices = [cm[0] for cm in conf_matrices_merged[start_idx:end_idx+1]]\n",
    "\n",
    "    # Convert to numpy array and compute the mean\n",
    "    avg_conf_matrix = np.mean(np.array(selected_matrices), axis=0)\n",
    "\n",
    "    # Round values to nearest integer (optional)\n",
    "    avg_conf_matrix = np.round(avg_conf_matrix).astype(int)\n",
    "\n",
    "    # Extract class labels (assume they're the same for all matrices)\n",
    "    class_labels = conf_matrices_merged[0][1]\n",
    "\n",
    "    return avg_conf_matrix, class_labels\n",
    "\n",
    "# Example: Compute the average confusion matrix from index 2 to 5\n",
    "start_idx, end_idx = 30, 71\n",
    "avg_conf_matrix, avg_labels = average_conf_matrix(conf_matrices_merged, start_idx, end_idx)\n",
    "\n",
    "# Print result\n",
    "print(\"\\nAverage Confusion Matrix (From Index\", start_idx, \"to\", end_idx, \"):\")\n",
    "print(avg_conf_matrix)\n",
    "print(\"Labels:\", avg_labels)\n"
   ]
  },
  {
   "cell_type": "code",
   "execution_count": 12,
   "metadata": {},
   "outputs": [
    {
     "ename": "IndexError",
     "evalue": "index 3 is out of bounds for axis 0 with size 2",
     "output_type": "error",
     "traceback": [
      "\u001b[1;31m---------------------------------------------------------------------------\u001b[0m",
      "\u001b[1;31mIndexError\u001b[0m                                Traceback (most recent call last)",
      "Cell \u001b[1;32mIn[12], line 35\u001b[0m\n\u001b[0;32m     32\u001b[0m     \u001b[38;5;28;01mreturn\u001b[39;00m (cm_binary, np\u001b[38;5;241m.\u001b[39marray([\u001b[38;5;124m'\u001b[39m\u001b[38;5;124mrest\u001b[39m\u001b[38;5;124m'\u001b[39m, \u001b[38;5;124m'\u001b[39m\u001b[38;5;124mmotor_imagery\u001b[39m\u001b[38;5;124m'\u001b[39m]))\n\u001b[0;32m     34\u001b[0m \u001b[38;5;66;03m# Example: Apply to all confusion matrices in all folds\u001b[39;00m\n\u001b[1;32m---> 35\u001b[0m conf_matrices_merged_all_folds \u001b[38;5;241m=\u001b[39m [\n\u001b[0;32m     36\u001b[0m     [merge_conf_matrix_tuple(cm_tuple) \u001b[38;5;28;01mfor\u001b[39;00m cm_tuple \u001b[38;5;129;01min\u001b[39;00m fold] \u001b[38;5;28;01mfor\u001b[39;00m fold \u001b[38;5;129;01min\u001b[39;00m folds_confusion_matrices_per_window\n\u001b[0;32m     37\u001b[0m ]\n\u001b[0;32m     39\u001b[0m \u001b[38;5;28;01mdef\u001b[39;00m \u001b[38;5;21maverage_conf_matrix_folds\u001b[39m(conf_matrices_all_folds, start_idx, end_idx):\n\u001b[0;32m     40\u001b[0m \u001b[38;5;250m    \u001b[39m\u001b[38;5;124;03m\"\"\"\u001b[39;00m\n\u001b[0;32m     41\u001b[0m \u001b[38;5;124;03m    Computes the average confusion matrix over multiple folds \u001b[39;00m\n\u001b[0;32m     42\u001b[0m \u001b[38;5;124;03m    for a given index range.\u001b[39;00m\n\u001b[1;32m   (...)\u001b[0m\n\u001b[0;32m     51\u001b[0m \u001b[38;5;124;03m    tuple: (Averaged 2x2 confusion matrix, class labels)\u001b[39;00m\n\u001b[0;32m     52\u001b[0m \u001b[38;5;124;03m    \"\"\"\u001b[39;00m\n",
      "Cell \u001b[1;32mIn[12], line 36\u001b[0m, in \u001b[0;36m<listcomp>\u001b[1;34m(.0)\u001b[0m\n\u001b[0;32m     32\u001b[0m     \u001b[38;5;28;01mreturn\u001b[39;00m (cm_binary, np\u001b[38;5;241m.\u001b[39marray([\u001b[38;5;124m'\u001b[39m\u001b[38;5;124mrest\u001b[39m\u001b[38;5;124m'\u001b[39m, \u001b[38;5;124m'\u001b[39m\u001b[38;5;124mmotor_imagery\u001b[39m\u001b[38;5;124m'\u001b[39m]))\n\u001b[0;32m     34\u001b[0m \u001b[38;5;66;03m# Example: Apply to all confusion matrices in all folds\u001b[39;00m\n\u001b[0;32m     35\u001b[0m conf_matrices_merged_all_folds \u001b[38;5;241m=\u001b[39m [\n\u001b[1;32m---> 36\u001b[0m     [merge_conf_matrix_tuple(cm_tuple) \u001b[38;5;28;01mfor\u001b[39;00m cm_tuple \u001b[38;5;129;01min\u001b[39;00m fold] \u001b[38;5;28;01mfor\u001b[39;00m fold \u001b[38;5;129;01min\u001b[39;00m folds_confusion_matrices_per_window\n\u001b[0;32m     37\u001b[0m ]\n\u001b[0;32m     39\u001b[0m \u001b[38;5;28;01mdef\u001b[39;00m \u001b[38;5;21maverage_conf_matrix_folds\u001b[39m(conf_matrices_all_folds, start_idx, end_idx):\n\u001b[0;32m     40\u001b[0m \u001b[38;5;250m    \u001b[39m\u001b[38;5;124;03m\"\"\"\u001b[39;00m\n\u001b[0;32m     41\u001b[0m \u001b[38;5;124;03m    Computes the average confusion matrix over multiple folds \u001b[39;00m\n\u001b[0;32m     42\u001b[0m \u001b[38;5;124;03m    for a given index range.\u001b[39;00m\n\u001b[1;32m   (...)\u001b[0m\n\u001b[0;32m     51\u001b[0m \u001b[38;5;124;03m    tuple: (Averaged 2x2 confusion matrix, class labels)\u001b[39;00m\n\u001b[0;32m     52\u001b[0m \u001b[38;5;124;03m    \"\"\"\u001b[39;00m\n",
      "Cell \u001b[1;32mIn[12], line 36\u001b[0m, in \u001b[0;36m<listcomp>\u001b[1;34m(.0)\u001b[0m\n\u001b[0;32m     32\u001b[0m     \u001b[38;5;28;01mreturn\u001b[39;00m (cm_binary, np\u001b[38;5;241m.\u001b[39marray([\u001b[38;5;124m'\u001b[39m\u001b[38;5;124mrest\u001b[39m\u001b[38;5;124m'\u001b[39m, \u001b[38;5;124m'\u001b[39m\u001b[38;5;124mmotor_imagery\u001b[39m\u001b[38;5;124m'\u001b[39m]))\n\u001b[0;32m     34\u001b[0m \u001b[38;5;66;03m# Example: Apply to all confusion matrices in all folds\u001b[39;00m\n\u001b[0;32m     35\u001b[0m conf_matrices_merged_all_folds \u001b[38;5;241m=\u001b[39m [\n\u001b[1;32m---> 36\u001b[0m     [\u001b[43mmerge_conf_matrix_tuple\u001b[49m\u001b[43m(\u001b[49m\u001b[43mcm_tuple\u001b[49m\u001b[43m)\u001b[49m \u001b[38;5;28;01mfor\u001b[39;00m cm_tuple \u001b[38;5;129;01min\u001b[39;00m fold] \u001b[38;5;28;01mfor\u001b[39;00m fold \u001b[38;5;129;01min\u001b[39;00m folds_confusion_matrices_per_window\n\u001b[0;32m     37\u001b[0m ]\n\u001b[0;32m     39\u001b[0m \u001b[38;5;28;01mdef\u001b[39;00m \u001b[38;5;21maverage_conf_matrix_folds\u001b[39m(conf_matrices_all_folds, start_idx, end_idx):\n\u001b[0;32m     40\u001b[0m \u001b[38;5;250m    \u001b[39m\u001b[38;5;124;03m\"\"\"\u001b[39;00m\n\u001b[0;32m     41\u001b[0m \u001b[38;5;124;03m    Computes the average confusion matrix over multiple folds \u001b[39;00m\n\u001b[0;32m     42\u001b[0m \u001b[38;5;124;03m    for a given index range.\u001b[39;00m\n\u001b[1;32m   (...)\u001b[0m\n\u001b[0;32m     51\u001b[0m \u001b[38;5;124;03m    tuple: (Averaged 2x2 confusion matrix, class labels)\u001b[39;00m\n\u001b[0;32m     52\u001b[0m \u001b[38;5;124;03m    \"\"\"\u001b[39;00m\n",
      "Cell \u001b[1;32mIn[12], line 17\u001b[0m, in \u001b[0;36mmerge_conf_matrix_tuple\u001b[1;34m(conf_matrix_tuple)\u001b[0m\n\u001b[0;32m     14\u001b[0m cm_4class, class_labels \u001b[38;5;241m=\u001b[39m conf_matrix_tuple  \u001b[38;5;66;03m# Extract confusion matrix & labels\u001b[39;00m\n\u001b[0;32m     16\u001b[0m \u001b[38;5;66;03m# Merge rows (true labels)\u001b[39;00m\n\u001b[1;32m---> 17\u001b[0m row_0 \u001b[38;5;241m=\u001b[39m cm_4class[\u001b[38;5;241m0\u001b[39m] \u001b[38;5;241m+\u001b[39m \u001b[43mcm_4class\u001b[49m\u001b[43m[\u001b[49m\u001b[38;5;241;43m3\u001b[39;49m\u001b[43m]\u001b[49m  \u001b[38;5;66;03m# Merge 'ActiveRest' (0) & 'Rest' (3)\u001b[39;00m\n\u001b[0;32m     18\u001b[0m row_1 \u001b[38;5;241m=\u001b[39m cm_4class[\u001b[38;5;241m1\u001b[39m] \u001b[38;5;241m+\u001b[39m cm_4class[\u001b[38;5;241m2\u001b[39m]  \u001b[38;5;66;03m# Merge 'ClosePalm' (1) & 'OpenPalm' (2)\u001b[39;00m\n\u001b[0;32m     20\u001b[0m \u001b[38;5;66;03m# Merge columns (predicted labels)\u001b[39;00m\n",
      "\u001b[1;31mIndexError\u001b[0m: index 3 is out of bounds for axis 0 with size 2"
     ]
    }
   ],
   "source": [
    "def merge_conf_matrix_tuple(conf_matrix_tuple):\n",
    "    \"\"\"\n",
    "    Converts a 4-class confusion matrix into a 2-class confusion matrix\n",
    "    by merging:\n",
    "    - 'ActiveRest' (0) & 'Rest' (3) → Class 0\n",
    "    - 'ClosePalm' (1) & 'OpenPalm' (2) → Class 1\n",
    "\n",
    "    Args:\n",
    "    conf_matrix_tuple (tuple): (4x4 confusion matrix, class labels)\n",
    "\n",
    "    Returns:\n",
    "    tuple: (2x2 merged confusion matrix, new class labels)\n",
    "    \"\"\"\n",
    "    cm_4class, class_labels = conf_matrix_tuple  # Extract confusion matrix & labels\n",
    "\n",
    "    # Merge rows (true labels)\n",
    "    row_0 = cm_4class[0] + cm_4class[3]  # Merge 'ActiveRest' (0) & 'Rest' (3)\n",
    "    row_1 = cm_4class[1] + cm_4class[2]  # Merge 'ClosePalm' (1) & 'OpenPalm' (2)\n",
    "\n",
    "    # Merge columns (predicted labels)\n",
    "    col_0 = row_0[0] + row_0[3]  # Merge predictions for 'ActiveRest' (0) & 'Rest' (3)\n",
    "    col_1 = row_0[1] + row_0[2]  # Merge predictions for 'ClosePalm' (1) & 'OpenPalm' (2)\n",
    "    col_2 = row_1[0] + row_1[3]  # Merge predictions for 'ActiveRest' (0) & 'Rest' (3)\n",
    "    col_3 = row_1[1] + row_1[2]  # Merge predictions for 'ClosePalm' (1) & 'OpenPalm' (2)\n",
    "\n",
    "    # Construct new 2x2 confusion matrix\n",
    "    cm_binary = np.array([\n",
    "        [col_0, col_1],  # Row 0 (New Class 0)\n",
    "        [col_2, col_3]   # Row 1 (New Class 1)\n",
    "    ])\n",
    "\n",
    "    return (cm_binary, np.array(['rest', 'motor_imagery']))\n",
    "\n",
    "# Example: Apply to all confusion matrices in all folds\n",
    "conf_matrices_merged_all_folds = [\n",
    "    [merge_conf_matrix_tuple(cm_tuple) for cm_tuple in fold] for fold in folds_confusion_matrices_per_window\n",
    "]\n",
    "\n",
    "def average_conf_matrix_folds(conf_matrices_all_folds, start_idx, end_idx):\n",
    "    \"\"\"\n",
    "    Computes the average confusion matrix over multiple folds \n",
    "    for a given index range.\n",
    "\n",
    "    Args:\n",
    "    conf_matrices_all_folds (list of list of tuples): \n",
    "        A nested list where each fold contains a list of (confusion_matrix, labels).\n",
    "    start_idx (int): Start index for averaging.\n",
    "    end_idx (int): End index for averaging (inclusive).\n",
    "\n",
    "    Returns:\n",
    "    tuple: (Averaged 2x2 confusion matrix, class labels)\n",
    "    \"\"\"\n",
    "    all_selected_matrices = []  # Store matrices from all folds\n",
    "    valid_folds = 0  # Count number of folds that have valid data in range\n",
    "\n",
    "    # Iterate through each fold\n",
    "    for fold in conf_matrices_all_folds:\n",
    "        # Ensure the fold has enough matrices for the given index range\n",
    "        if len(fold) > end_idx:\n",
    "            selected_matrices = [cm_tuple[0] for cm_tuple in fold[start_idx:end_idx+1]]\n",
    "            all_selected_matrices.append(np.mean(selected_matrices, axis=0))  # Average over the time window in fold\n",
    "            valid_folds += 1\n",
    "\n",
    "    # Compute final average across valid folds\n",
    "    if valid_folds > 0:\n",
    "        avg_conf_matrix = np.mean(np.array(all_selected_matrices), axis=0)\n",
    "    else:\n",
    "        print(\"No valid folds for the given index range!\")\n",
    "        return None, None\n",
    "\n",
    "    # Round values to nearest integer (optional)\n",
    "    avg_conf_matrix = np.round(avg_conf_matrix).astype(int)\n",
    "\n",
    "    # Extract class labels (assume same for all folds)\n",
    "    class_labels = conf_matrices_all_folds[0][0][1]\n",
    "\n",
    "    return avg_conf_matrix, class_labels\n",
    "\n",
    "# Example: Compute the average confusion matrix from index 2 to 5 across folds\n",
    "start_idx, end_idx = 50,60\n",
    "avg_conf_matrix, avg_labels = average_conf_matrix_folds(conf_matrices_merged_all_folds, start_idx, end_idx)\n",
    "print(\"\\nAverage Confusion Matrix (Across Folds, From Index\", start_idx, \"to\", end_idx, \"):\")\n",
    "print(avg_conf_matrix)\n",
    "print(\"Labels:\", avg_labels)\n"
   ]
  },
  {
   "cell_type": "code",
   "execution_count": 16,
   "metadata": {},
   "outputs": [
    {
     "ename": "NameError",
     "evalue": "name 'average_conf_matrix_folds' is not defined",
     "output_type": "error",
     "traceback": [
      "\u001b[1;31m---------------------------------------------------------------------------\u001b[0m",
      "\u001b[1;31mNameError\u001b[0m                                 Traceback (most recent call last)",
      "Cell \u001b[1;32mIn[16], line 3\u001b[0m\n\u001b[0;32m      1\u001b[0m \u001b[38;5;66;03m# Example: Compute the average confusion matrix from index 2 to 5 across folds\u001b[39;00m\n\u001b[0;32m      2\u001b[0m start_idx, end_idx \u001b[38;5;241m=\u001b[39m \u001b[38;5;241m50\u001b[39m,\u001b[38;5;241m70\u001b[39m\n\u001b[1;32m----> 3\u001b[0m avg_conf_matrix, avg_labels \u001b[38;5;241m=\u001b[39m \u001b[43maverage_conf_matrix_folds\u001b[49m(folds_confusion_matrices_per_window, start_idx, end_idx)\n\u001b[0;32m      5\u001b[0m \u001b[38;5;66;03m# Print result\u001b[39;00m\n\u001b[0;32m      6\u001b[0m \u001b[38;5;28mprint\u001b[39m(\u001b[38;5;124m\"\u001b[39m\u001b[38;5;130;01m\\n\u001b[39;00m\u001b[38;5;124mAverage Confusion Matrix (Across Folds, From Index\u001b[39m\u001b[38;5;124m\"\u001b[39m, start_idx, \u001b[38;5;124m\"\u001b[39m\u001b[38;5;124mto\u001b[39m\u001b[38;5;124m\"\u001b[39m, end_idx, \u001b[38;5;124m\"\u001b[39m\u001b[38;5;124m):\u001b[39m\u001b[38;5;124m\"\u001b[39m)\n",
      "\u001b[1;31mNameError\u001b[0m: name 'average_conf_matrix_folds' is not defined"
     ]
    }
   ],
   "source": [
    "# Example: Compute the average confusion matrix from index 2 to 5 across folds\n",
    "start_idx, end_idx = 50,70\n",
    "avg_conf_matrix, avg_labels = average_conf_matrix_folds(folds_confusion_matrices_per_window, start_idx, end_idx)\n",
    "\n",
    "# Print result\n",
    "print(\"\\nAverage Confusion Matrix (Across Folds, From Index\", start_idx, \"to\", end_idx, \"):\")\n",
    "print(avg_conf_matrix)\n",
    "\n",
    "print(\"Labels:\", avg_labels)"
   ]
  },
  {
   "cell_type": "code",
   "execution_count": 95,
   "metadata": {},
   "outputs": [],
   "source": [
    "trained_clf=clf\n",
    "#data_to_predict=(data_set_fb_4d_array[inds,:])\n",
    "data_to_predict=epochs.copy().crop(tmin=1,tmax=3).get_data()\n",
    "thresholded_prediction=trained_clf.decision_function(data_to_predict)\n",
    "prediction=trained_clf.predict(data_to_predict)\n",
    "\n",
    "#note that here you can decide on which thresholds to use to better optimize your \"real\" usecase\n",
    "#thresholded_prediction\n",
    "yhat=trained_clf.predict(data_to_predict)\n",
    "lr_probs = trained_clf.predict_proba(data_to_predict)"
   ]
  },
  {
   "cell_type": "code",
   "execution_count": 96,
   "metadata": {},
   "outputs": [
    {
     "data": {
      "text/plain": [
       "array(['ClosePalm', 'ActiveRest', 'Rest', 'ActiveRest', 'ClosePalm',\n",
       "       'Rest', 'ClosePalm', 'Rest', 'ClosePalm', 'Rest', 'ActiveRest',\n",
       "       'Rest', 'ClosePalm', 'Rest', 'OpenPalm', 'Rest', 'OpenPalm',\n",
       "       'Rest', 'ClosePalm', 'Rest', 'OpenPalm', 'Rest', 'OpenPalm',\n",
       "       'Rest', 'Rest', 'Rest', 'OpenPalm', 'Rest', 'ClosePalm', 'Rest',\n",
       "       'ClosePalm', 'Rest', 'ClosePalm', 'Rest', 'ActiveRest', 'Rest',\n",
       "       'ActiveRest', 'ClosePalm', 'ClosePalm', 'OpenPalm', 'Rest', 'Rest',\n",
       "       'OpenPalm', 'ActiveRest', 'OpenPalm', 'ClosePalm', 'ClosePalm',\n",
       "       'Rest', 'ClosePalm', 'ActiveRest', 'ActiveRest', 'ClosePalm',\n",
       "       'ClosePalm', 'ClosePalm', 'OpenPalm', 'Rest', 'OpenPalm', 'Rest',\n",
       "       'ClosePalm', 'Rest', 'OpenPalm', 'Rest', 'ActiveRest', 'Rest',\n",
       "       'ActiveRest', 'Rest', 'OpenPalm', 'Rest', 'OpenPalm', 'Rest',\n",
       "       'ActiveRest', 'Rest', 'ActiveRest', 'Rest', 'ActiveRest',\n",
       "       'OpenPalm', 'OpenPalm', 'Rest', 'ActiveRest', 'Rest', 'ClosePalm',\n",
       "       'Rest', 'OpenPalm', 'Rest', 'ClosePalm', 'Rest', 'ClosePalm',\n",
       "       'Rest', 'ClosePalm', 'Rest', 'OpenPalm', 'Rest', 'OpenPalm',\n",
       "       'Rest', 'ActiveRest', 'Rest'], dtype='<U10')"
      ]
     },
     "execution_count": 96,
     "metadata": {},
     "output_type": "execute_result"
    }
   ],
   "source": [
    "prediction"
   ]
  },
  {
   "cell_type": "code",
   "execution_count": 97,
   "metadata": {},
   "outputs": [
    {
     "name": "stdout",
     "output_type": "stream",
     "text": [
      "Accuracy: 0.52\n",
      "Mismatched epochs:\n",
      "1 - OpenPalm (actual), ClosePalm (predicted)\n",
      "2 - Rest (actual), ActiveRest (predicted)\n",
      "3 - ActiveRest (actual), Rest (predicted)\n",
      "4 - Rest (actual), ActiveRest (predicted)\n",
      "5 - OpenPalm (actual), ClosePalm (predicted)\n",
      "9 - ActiveRest (actual), ClosePalm (predicted)\n",
      "15 - ClosePalm (actual), OpenPalm (predicted)\n",
      "17 - ActiveRest (actual), OpenPalm (predicted)\n",
      "21 - ActiveRest (actual), OpenPalm (predicted)\n",
      "23 - ActiveRest (actual), OpenPalm (predicted)\n",
      "25 - ClosePalm (actual), Rest (predicted)\n",
      "27 - ActiveRest (actual), OpenPalm (predicted)\n",
      "29 - OpenPalm (actual), ClosePalm (predicted)\n",
      "31 - OpenPalm (actual), ClosePalm (predicted)\n",
      "33 - OpenPalm (actual), ClosePalm (predicted)\n",
      "35 - OpenPalm (actual), ActiveRest (predicted)\n",
      "38 - Rest (actual), ClosePalm (predicted)\n",
      "39 - ActiveRest (actual), ClosePalm (predicted)\n",
      "40 - Rest (actual), OpenPalm (predicted)\n",
      "41 - ActiveRest (actual), Rest (predicted)\n",
      "43 - ClosePalm (actual), OpenPalm (predicted)\n",
      "44 - Rest (actual), ActiveRest (predicted)\n",
      "45 - ClosePalm (actual), OpenPalm (predicted)\n",
      "46 - Rest (actual), ClosePalm (predicted)\n",
      "47 - ActiveRest (actual), ClosePalm (predicted)\n",
      "49 - ActiveRest (actual), ClosePalm (predicted)\n",
      "50 - Rest (actual), ActiveRest (predicted)\n",
      "51 - OpenPalm (actual), ActiveRest (predicted)\n",
      "52 - Rest (actual), ClosePalm (predicted)\n",
      "53 - OpenPalm (actual), ClosePalm (predicted)\n",
      "54 - Rest (actual), ClosePalm (predicted)\n",
      "57 - ClosePalm (actual), OpenPalm (predicted)\n",
      "65 - ClosePalm (actual), ActiveRest (predicted)\n",
      "69 - ClosePalm (actual), OpenPalm (predicted)\n",
      "73 - ClosePalm (actual), ActiveRest (predicted)\n",
      "76 - Rest (actual), OpenPalm (predicted)\n",
      "77 - ClosePalm (actual), OpenPalm (predicted)\n",
      "79 - ClosePalm (actual), ActiveRest (predicted)\n",
      "81 - OpenPalm (actual), ClosePalm (predicted)\n",
      "83 - ClosePalm (actual), OpenPalm (predicted)\n",
      "85 - ActiveRest (actual), ClosePalm (predicted)\n",
      "87 - OpenPalm (actual), ClosePalm (predicted)\n",
      "89 - OpenPalm (actual), ClosePalm (predicted)\n",
      "93 - ClosePalm (actual), OpenPalm (predicted)\n",
      "95 - OpenPalm (actual), ActiveRest (predicted)\n",
      "96 - OpenPalm (actual), Rest (predicted)\n",
      "\n",
      "Mismatch Summary:\n",
      "OpenPalm -> ClosePalm: 9 occurrence(s)\n",
      "Rest -> ActiveRest: 4 occurrence(s)\n",
      "ActiveRest -> Rest: 2 occurrence(s)\n",
      "ActiveRest -> ClosePalm: 5 occurrence(s)\n",
      "ClosePalm -> OpenPalm: 8 occurrence(s)\n",
      "ActiveRest -> OpenPalm: 4 occurrence(s)\n",
      "ClosePalm -> Rest: 1 occurrence(s)\n",
      "OpenPalm -> ActiveRest: 3 occurrence(s)\n",
      "Rest -> ClosePalm: 4 occurrence(s)\n",
      "Rest -> OpenPalm: 2 occurrence(s)\n",
      "ClosePalm -> ActiveRest: 3 occurrence(s)\n",
      "OpenPalm -> Rest: 1 occurrence(s)\n"
     ]
    }
   ],
   "source": [
    "# %%\n",
    "\n",
    "from collections import Counter\n",
    "\n",
    "# Function to get the list of event names for each epoch\n",
    "def get_epoch_events(epochs):\n",
    "    events = epochs.events  # Get the array of events\n",
    "    event_ids = epochs.event_id  # Get the mapping from event name to event code\n",
    "    epoch_event_names = []\n",
    "\n",
    "    for event in events:\n",
    "        event_code = event[-1]  # Extract the event ID\n",
    "        # Get the event name using the event code\n",
    "        event_name = [key for key, val in event_ids.items() if val == event_code][0]\n",
    "        epoch_event_names.append(event_name)\n",
    "\n",
    "    return np.array(epoch_event_names)\n",
    "\n",
    "# Function to compare actual event names with predicted event names and summarize mismatches\n",
    "def compare_events(actual_events, predicted_events):\n",
    "    comparison = actual_events == predicted_events  # Element-wise comparison\n",
    "    accuracy = np.mean(comparison)  # Calculate accuracy\n",
    "    mismatches = np.where(comparison == False)[0]  # Get indices where predictions don't match\n",
    "    \n",
    "    # Collect mismatched epochs and count occurrences of each mismatch case\n",
    "    mismatch_details = []\n",
    "    mismatch_counts = Counter()\n",
    "    \n",
    "    for idx in mismatches:\n",
    "        actual = actual_events[idx]\n",
    "        predicted = predicted_events[idx]\n",
    "        mismatch_details.append(f\"{idx + 1} - {actual} (actual), {predicted} (predicted)\")\n",
    "        mismatch_counts[f\"{actual} -> {predicted}\"] += 1  # Count each specific mismatch case\n",
    "\n",
    "    return {\n",
    "        'accuracy': accuracy,\n",
    "        'mismatch_details': mismatch_details,\n",
    "        'mismatch_counts': mismatch_counts\n",
    "    }\n",
    "\n",
    "# Example usage:\n",
    "# Assume `epochs` is your mne.Epochs object, and `predictions` is the model output\n",
    "\n",
    "actual_events = get_epoch_events(epochs)  # Actual events from the epochs\n",
    "predicted_events = np.array(prediction)  # Replace with your model predictions\n",
    "\n",
    "# Compare actual events to predicted events\n",
    "result = compare_events(actual_events, predicted_events)\n",
    "\n",
    "# Output the comparison result\n",
    "print(f\"Accuracy: {result['accuracy']:.2f}\")\n",
    "if result['mismatch_details']:\n",
    "    print(\"Mismatched epochs:\")\n",
    "    for mismatch in result['mismatch_details']:\n",
    "        print(mismatch)\n",
    "    \n",
    "    print(\"\\nMismatch Summary:\")\n",
    "    for mismatch_case, count in result['mismatch_counts'].items():\n",
    "        print(f\"{mismatch_case}: {count} occurrence(s)\")\n",
    "else:\n",
    "    print(\"No mismatches!\")\n"
   ]
  },
  {
   "cell_type": "code",
   "execution_count": 98,
   "metadata": {},
   "outputs": [
    {
     "data": {
      "text/html": [
       "<table class=\"table table-hover table-striped table-sm table-responsive small\">\n",
       "    <tr>\n",
       "        <th>Number of events</th>\n",
       "        <td>96</td>\n",
       "    </tr>\n",
       "    <tr>\n",
       "        <th>Events</th>\n",
       "        \n",
       "        <td>ActiveRest: 16<br/>ClosePalm: 16<br/>OpenPalm: 17<br/>Rest: 47</td>\n",
       "        \n",
       "    </tr>\n",
       "    <tr>\n",
       "        <th>Time range</th>\n",
       "        <td>-4.000 – 6.000 s</td>\n",
       "    </tr>\n",
       "    <tr>\n",
       "        <th>Baseline</th>\n",
       "        <td>off</td>\n",
       "    </tr>\n",
       "</table>"
      ],
      "text/plain": [
       "<EpochsArray |  96 events (all good), -4 – 6 s, baseline off, ~153.9 MB, data loaded,\n",
       " 'ActiveRest': 16\n",
       " 'ClosePalm': 16\n",
       " 'OpenPalm': 17\n",
       " 'Rest': 47>"
      ]
     },
     "execution_count": 98,
     "metadata": {},
     "output_type": "execute_result"
    }
   ],
   "source": [
    "epochs"
   ]
  },
  {
   "cell_type": "code",
   "execution_count": 138,
   "metadata": {},
   "outputs": [],
   "source": [
    "\n",
    "# Example: Plot confusion matrix for the first time window\n",
    "conf_matrix, class_labels = confusion_matrices_per_window[41]\n",
    "plot_confusion_matrix(conf_matrix, class_labels)"
   ]
  },
  {
   "cell_type": "code",
   "execution_count": 92,
   "metadata": {},
   "outputs": [
    {
     "data": {
      "text/plain": [
       "[0.5238095238095238,\n",
       " 0.47619047619047616,\n",
       " 0.5238095238095238,\n",
       " 0.5238095238095238,\n",
       " 0.5714285714285714,\n",
       " 0.5714285714285714,\n",
       " 0.6190476190476191,\n",
       " 0.47619047619047616,\n",
       " 0.5238095238095238,\n",
       " 0.5714285714285714,\n",
       " 0.5238095238095238,\n",
       " 0.47619047619047616,\n",
       " 0.38095238095238093,\n",
       " 0.42857142857142855,\n",
       " 0.47619047619047616,\n",
       " 0.5238095238095238,\n",
       " 0.5714285714285714,\n",
       " 0.5238095238095238,\n",
       " 0.47619047619047616,\n",
       " 0.47619047619047616,\n",
       " 0.5238095238095238,\n",
       " 0.6190476190476191,\n",
       " 0.5238095238095238,\n",
       " 0.6190476190476191,\n",
       " 0.6666666666666666,\n",
       " 0.6190476190476191,\n",
       " 0.7142857142857143,\n",
       " 0.6666666666666666,\n",
       " 0.6666666666666666,\n",
       " 0.8095238095238095,\n",
       " 0.7619047619047619,\n",
       " 0.7619047619047619,\n",
       " 0.7619047619047619,\n",
       " 0.7619047619047619,\n",
       " 0.7142857142857143,\n",
       " 0.7619047619047619,\n",
       " 0.7619047619047619,\n",
       " 0.8095238095238095,\n",
       " 0.8571428571428571,\n",
       " 0.8571428571428571,\n",
       " 0.8571428571428571,\n",
       " 0.9047619047619048,\n",
       " 0.8571428571428571,\n",
       " 0.7619047619047619,\n",
       " 0.8571428571428571,\n",
       " 0.7619047619047619,\n",
       " 0.7142857142857143,\n",
       " 0.6666666666666666,\n",
       " 0.6666666666666666,\n",
       " 0.7142857142857143,\n",
       " 0.6666666666666666,\n",
       " 0.6666666666666666,\n",
       " 0.6666666666666666,\n",
       " 0.7142857142857143,\n",
       " 0.7619047619047619,\n",
       " 0.7142857142857143,\n",
       " 0.7619047619047619,\n",
       " 0.7142857142857143,\n",
       " 0.7142857142857143,\n",
       " 0.6666666666666666,\n",
       " 0.6190476190476191,\n",
       " 0.6190476190476191,\n",
       " 0.7142857142857143,\n",
       " 0.7142857142857143,\n",
       " 0.8095238095238095,\n",
       " 0.7619047619047619,\n",
       " 0.8095238095238095,\n",
       " 0.8095238095238095,\n",
       " 0.7142857142857143,\n",
       " 0.7619047619047619,\n",
       " 0.8095238095238095]"
      ]
     },
     "execution_count": 92,
     "metadata": {},
     "output_type": "execute_result"
    }
   ],
   "source": [
    "scores_per_time_window"
   ]
  },
  {
   "cell_type": "code",
   "execution_count": 52,
   "metadata": {},
   "outputs": [
    {
     "data": {
      "text/plain": [
       "[0.3142857142857143,\n",
       " 0.37142857142857144,\n",
       " 0.34285714285714286,\n",
       " 0.3142857142857143,\n",
       " 0.34285714285714286,\n",
       " 0.34285714285714286,\n",
       " 0.4,\n",
       " 0.4857142857142857,\n",
       " 0.4857142857142857,\n",
       " 0.4857142857142857,\n",
       " 0.42857142857142855,\n",
       " 0.4,\n",
       " 0.42857142857142855,\n",
       " 0.4,\n",
       " 0.45714285714285713,\n",
       " 0.42857142857142855,\n",
       " 0.45714285714285713,\n",
       " 0.42857142857142855,\n",
       " 0.42857142857142855,\n",
       " 0.4857142857142857,\n",
       " 0.4857142857142857,\n",
       " 0.4857142857142857,\n",
       " 0.4857142857142857,\n",
       " 0.4857142857142857,\n",
       " 0.45714285714285713,\n",
       " 0.4857142857142857,\n",
       " 0.4857142857142857,\n",
       " 0.45714285714285713,\n",
       " 0.42857142857142855,\n",
       " 0.45714285714285713,\n",
       " 0.5142857142857142,\n",
       " 0.6,\n",
       " 0.5714285714285714,\n",
       " 0.5142857142857142,\n",
       " 0.5428571428571428,\n",
       " 0.5142857142857142,\n",
       " 0.5714285714285714,\n",
       " 0.6,\n",
       " 0.5714285714285714,\n",
       " 0.5714285714285714,\n",
       " 0.5428571428571428,\n",
       " 0.5428571428571428,\n",
       " 0.5428571428571428,\n",
       " 0.5142857142857142,\n",
       " 0.5428571428571428,\n",
       " 0.5142857142857142,\n",
       " 0.45714285714285713,\n",
       " 0.45714285714285713,\n",
       " 0.45714285714285713,\n",
       " 0.42857142857142855,\n",
       " 0.4857142857142857,\n",
       " 0.5142857142857142,\n",
       " 0.5428571428571428,\n",
       " 0.6,\n",
       " 0.5428571428571428,\n",
       " 0.5142857142857142,\n",
       " 0.5142857142857142,\n",
       " 0.4857142857142857,\n",
       " 0.5428571428571428,\n",
       " 0.45714285714285713,\n",
       " 0.45714285714285713,\n",
       " 0.45714285714285713,\n",
       " 0.4,\n",
       " 0.45714285714285713,\n",
       " 0.4857142857142857,\n",
       " 0.42857142857142855,\n",
       " 0.45714285714285713,\n",
       " 0.4857142857142857,\n",
       " 0.4857142857142857,\n",
       " 0.4857142857142857,\n",
       " 0.45714285714285713]"
      ]
     },
     "execution_count": 52,
     "metadata": {},
     "output_type": "execute_result"
    }
   ],
   "source": [
    "scores_per_time_window\n"
   ]
  },
  {
   "cell_type": "code",
   "execution_count": 118,
   "metadata": {},
   "outputs": [
    {
     "name": "stdout",
     "output_type": "stream",
     "text": [
      "0.5587929240374611\n"
     ]
    }
   ],
   "source": [
    "def average_from_index_to_index(lst, start, end):\n",
    "    # Ensure the indices are within the bounds of the list\n",
    "    if start < 0 or end >= len(lst) or start > end:\n",
    "        raise ValueError(\"Invalid start or end index\")\n",
    "    \n",
    "    # Slice the list from start to end (inclusive)\n",
    "    sublist = lst[start:end+1]\n",
    "    \n",
    "    # Calculate the average\n",
    "    average = sum(sublist) / len(sublist)\n",
    "    \n",
    "    return average\n",
    "\n",
    "# Example usage\n",
    "start_index = 40\n",
    "end_index =70\n",
    "print(average_from_index_to_index(scores_per_time_window, start_index, end_index))  # Output: 35.0"
   ]
  },
  {
   "cell_type": "code",
   "execution_count": 119,
   "metadata": {},
   "outputs": [],
   "source": [
    "# Time points (assuming each point is 100 ms apart)\n",
    "time_points = np.arange(0, len(scores_per_time_window) * 0.1, 0.1)  # in seconds\n",
    "\n",
    "# Plotting\n",
    "plt.figure(figsize=(12, 6))\n",
    "plt.plot(time_points, scores_per_time_window, marker='o')\n",
    "plt.title('Sliding Window Scores Over Time')\n",
    "plt.xlabel('Time (s)')\n",
    "plt.ylabel('Score')\n",
    "plt.grid(True)\n",
    "plt.show()"
   ]
  },
  {
   "cell_type": "code",
   "execution_count": 246,
   "metadata": {},
   "outputs": [],
   "source": [
    "all_epoch_data = epochs.get_data()"
   ]
  },
  {
   "cell_type": "code",
   "execution_count": 247,
   "metadata": {},
   "outputs": [],
   "source": [
    "\n",
    "scaler = RobustScaler()\n",
    "all_epoch_data_flat = all_epoch_data.reshape(all_epoch_data.shape[0], -1)\n",
    "all_epoch_data_normalized = scaler.fit_transform(all_epoch_data_flat).reshape(all_epoch_data.shape)\n",
    "\n",
    "# Update combined epochs with normalized data\n",
    "epochs._data = all_epoch_data_normalized"
   ]
  },
  {
   "cell_type": "code",
   "execution_count": 22,
   "metadata": {},
   "outputs": [],
   "source": [
    "from sklearn.preprocessing import StandardScaler, RobustScaler\n"
   ]
  },
  {
   "cell_type": "code",
   "execution_count": 29,
   "metadata": {},
   "outputs": [
    {
     "name": "stdout",
     "output_type": "stream",
     "text": [
      "Reading c:\\Users\\gilad\\3_Class_MI_21_01_25\\epochs_combined-epo2.fif ...\n",
      "    Found the data of interest:\n",
      "        t =   -3000.00 ...    5000.00 ms\n",
      "        0 CTF compensation matrices available\n",
      "Not setting metadata\n",
      "40 matching events found\n",
      "No baseline correction applied\n",
      "0 projection items activated\n"
     ]
    }
   ],
   "source": [
    "loaded_epochs = mne.read_epochs('epochs_combined-epo2.fif', preload=True)"
   ]
  },
  {
   "cell_type": "code",
   "execution_count": null,
   "metadata": {},
   "outputs": [],
   "source": [
    "rating_prefix = \"Rating-\"\n",
    "annotations = raw.annotations\n",
    "movement_events = ['ClosePalm','OpenPalm'] \n",
    "\n",
    "# Step 1: Modify Annotations - Merge Ratings into Previous Event\n",
    "new_descriptions = []\n",
    "for i, desc in enumerate(annotations.description):\n",
    "    if desc in movement_events:  # If it's a movement event\n",
    "        trial_onset = annotations.onset[i]\n",
    "        \n",
    "        # Check the next annotation for a rating\n",
    "        if i + 1 < len(annotations.description):\n",
    "            next_desc = annotations.description[i + 1]\n",
    "            if next_desc.startswith(rating_prefix):  # Extract rating\n",
    "                new_desc = f\"{desc}_{next_desc}\"  # Merge e.g., 'Right_Rating-5'\n",
    "            else:\n",
    "                new_desc = desc  # No rating, keep original\n",
    "        else:\n",
    "            new_desc = desc  # No next annotation, keep original\n",
    "        new_descriptions.append(new_desc)\n",
    "    elif desc.startswith(rating_prefix):  \n",
    "        new_desc = None  # Skip rating annotations after merging\n",
    "    \n",
    "    else:\n",
    "        new_desc = desc  # Keep other annotations unchanged\n",
    "        \n",
    "    "
   ]
  }
 ],
 "metadata": {
  "kernelspec": {
   "display_name": "BCIEnvironment",
   "language": "python",
   "name": "python3"
  },
  "language_info": {
   "codemirror_mode": {
    "name": "ipython",
    "version": 3
   },
   "file_extension": ".py",
   "mimetype": "text/x-python",
   "name": "python",
   "nbconvert_exporter": "python",
   "pygments_lexer": "ipython3",
   "version": "3.10.8"
  }
 },
 "nbformat": 4,
 "nbformat_minor": 2
}
