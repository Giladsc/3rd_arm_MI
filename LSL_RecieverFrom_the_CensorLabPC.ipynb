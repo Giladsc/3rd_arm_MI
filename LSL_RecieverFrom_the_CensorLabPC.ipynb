{
 "cells": [
  {
   "cell_type": "code",
   "execution_count": 23,
   "metadata": {},
   "outputs": [],
   "source": [
    "from pylsl import StreamInlet, resolve_stream, FOREVER\n",
    "import numpy as np\n",
    "import time\n",
    "# Real-time Functionalities\n",
    "from mne_realtime import LSLClient\n",
    "\n",
    "\n"
   ]
  },
  {
   "cell_type": "code",
   "execution_count": 27,
   "metadata": {},
   "outputs": [
    {
     "data": {
      "text/plain": [
       "'EpochsStream'"
      ]
     },
     "execution_count": 27,
     "metadata": {},
     "output_type": "execute_result"
    }
   ],
   "source": [
    "# First resolve the EEG stream on the lab network\n",
    "streams = resolve_stream('name', 'EpochsStream')\n",
    "number_of_channels = 64\n",
    "# Create an inlet to read from the stream\n",
    "inlet = StreamInlet(streams[0])\n",
    "streams[0].name()\n"
   ]
  },
  {
   "cell_type": "code",
   "execution_count": 91,
   "metadata": {},
   "outputs": [
    {
     "name": "stdout",
     "output_type": "stream",
     "text": [
      "1175.3704796\n",
      "None\n"
     ]
    },
    {
     "ename": "ValueError",
     "evalue": "cannot reshape array of size 1 into shape (64,newaxis)",
     "output_type": "error",
     "traceback": [
      "\u001b[1;31m---------------------------------------------------------------------------\u001b[0m",
      "\u001b[1;31mValueError\u001b[0m                                Traceback (most recent call last)",
      "Cell \u001b[1;32mIn[91], line 13\u001b[0m\n\u001b[0;32m     11\u001b[0m sample, timestamp \u001b[38;5;241m=\u001b[39m inlet\u001b[38;5;241m.\u001b[39mpull_sample(timeout\u001b[38;5;241m=\u001b[39m\u001b[38;5;241m0.0\u001b[39m)\n\u001b[0;32m     12\u001b[0m \u001b[38;5;28mprint\u001b[39m (timestamp)\n\u001b[1;32m---> 13\u001b[0m epoch \u001b[38;5;241m=\u001b[39m \u001b[43mnp\u001b[49m\u001b[38;5;241;43m.\u001b[39;49m\u001b[43marray\u001b[49m\u001b[43m(\u001b[49m\u001b[43msample\u001b[49m\u001b[43m)\u001b[49m\u001b[38;5;241;43m.\u001b[39;49m\u001b[43mreshape\u001b[49m\u001b[43m(\u001b[49m\u001b[43m(\u001b[49m\u001b[43mnumber_of_channels\u001b[49m\u001b[43m,\u001b[49m\u001b[43m \u001b[49m\u001b[38;5;241;43m-\u001b[39;49m\u001b[38;5;241;43m1\u001b[39;49m\u001b[43m)\u001b[49m\u001b[43m)\u001b[49m\n\u001b[0;32m     14\u001b[0m epoch_array \u001b[38;5;241m=\u001b[39m np\u001b[38;5;241m.\u001b[39mappend(epoch_array, epoch)\n\u001b[0;32m     15\u001b[0m time\u001b[38;5;241m.\u001b[39msleep(\u001b[38;5;241m0.1\u001b[39m)\n",
      "\u001b[1;31mValueError\u001b[0m: cannot reshape array of size 1 into shape (64,newaxis)"
     ]
    }
   ],
   "source": [
    "epoch_array = np.array([])\n",
    "duration = 10\n",
    "num_samples = inlet.samples_available()\n",
    "if num_samples >= 10:\n",
    "        # If X or more samples are available, skip to the 100th sample\n",
    "        for _ in range(num_samples-1):\n",
    "            inlet.pull_sample(timeout=0.0)\n",
    "start_time = time.time()\n",
    "\n",
    "while time.time() - start_time < duration: \n",
    "    sample, timestamp = inlet.pull_sample(timeout=0.0)\n",
    "    print (timestamp)\n",
    "    epoch = np.array(sample).reshape((number_of_channels, -1))\n",
    "    epoch_array = np.append(epoch_array, epoch)\n",
    "    time.sleep(0.1)\n"
   ]
  },
  {
   "cell_type": "code",
   "execution_count": 90,
   "metadata": {},
   "outputs": [
    {
     "name": "stdout",
     "output_type": "stream",
     "text": [
      "44\n"
     ]
    }
   ],
   "source": [
    "num_samples = inlet.samples_available()\n",
    "print(num_samples)"
   ]
  },
  {
   "cell_type": "code",
   "execution_count": 64,
   "metadata": {},
   "outputs": [],
   "source": [
    "num_samples = inlet.samples_available()\n",
    "if num_samples >= 10:\n",
    "        # If X or more samples are available, skip to the 100th sample\n",
    "        for _ in range(num_samples):\n",
    "            inlet.pull_sample(timeout=0.0)\n",
    "        "
   ]
  },
  {
   "cell_type": "code",
   "execution_count": 77,
   "metadata": {},
   "outputs": [],
   "source": [
    "\n",
    "\n",
    "epoch_array = np.array(epoch_array).reshape((number_of_channels, -1))"
   ]
  },
  {
   "cell_type": "code",
   "execution_count": 26,
   "metadata": {},
   "outputs": [
    {
     "data": {
      "text/plain": [
       "(0,)"
      ]
     },
     "execution_count": 26,
     "metadata": {},
     "output_type": "execute_result"
    }
   ],
   "source": [
    "epoch_array.shape"
   ]
  },
  {
   "cell_type": "code",
   "execution_count": 55,
   "metadata": {},
   "outputs": [],
   "source": [
    "array_of_epochs = np.array(epoch_array).reshape((number_of_channels, -1))\n"
   ]
  },
  {
   "cell_type": "code",
   "execution_count": 32,
   "metadata": {},
   "outputs": [
    {
     "name": "stdout",
     "output_type": "stream",
     "text": [
      "Stream 0:\n",
      "    Name: LiveAmpSN-054901-0010\n",
      "    Type: EEG\n",
      "    Channel Count: 64\n",
      "    Sampling Rate: 500.0\n",
      "    Data Format: 1\n",
      "    Source ID: LiveAmpSN-054901-0010\n",
      "Stream 1:\n",
      "    Name: EEGEpochs\n",
      "    Type: EEGEpochs\n",
      "    Channel Count: 16065\n",
      "    Sampling Rate: 0.0\n",
      "    Data Format: 1\n",
      "    Source ID: myuid34234\n",
      "Stream 2:\n",
      "    Name: EpochsStream\n",
      "    Type: EEGEpochs\n",
      "    Channel Count: 16064\n",
      "    Sampling Rate: 0.0\n",
      "    Data Format: 1\n",
      "    Source ID: myuid34234\n"
     ]
    }
   ],
   "source": [
    "# First resolve the streams on the lab network\n",
    "streams = resolve_stream()\n",
    "\n",
    "# Iterate through the list of StreamInfo objects\n",
    "for i, stream in enumerate(streams):\n",
    "    print(f\"Stream {i}:\")\n",
    "    print(f\"    Name: {stream.name()}\")\n",
    "    print(f\"    Type: {stream.type()}\")\n",
    "    print(f\"    Channel Count: {stream.channel_count()}\")\n",
    "    print(f\"    Sampling Rate: {stream.nominal_srate()}\")\n",
    "    print(f\"    Data Format: {stream.channel_format()}\")\n",
    "    print(f\"    Source ID: {stream.source_id()}\")"
   ]
  },
  {
   "cell_type": "code",
   "execution_count": 5,
   "metadata": {},
   "outputs": [
    {
     "ename": "AttributeError",
     "evalue": "'NoneType' object has no attribute 'shape'",
     "output_type": "error",
     "traceback": [
      "\u001b[1;31m---------------------------------------------------------------------------\u001b[0m",
      "\u001b[1;31mAttributeError\u001b[0m                            Traceback (most recent call last)",
      "Cell \u001b[1;32mIn[5], line 1\u001b[0m\n\u001b[1;32m----> 1\u001b[0m \u001b[43msample\u001b[49m\u001b[38;5;241;43m.\u001b[39;49m\u001b[43mshape\u001b[49m\n",
      "\u001b[1;31mAttributeError\u001b[0m: 'NoneType' object has no attribute 'shape'"
     ]
    }
   ],
   "source": [
    "sample.shape"
   ]
  },
  {
   "cell_type": "code",
   "execution_count": null,
   "metadata": {},
   "outputs": [],
   "source": []
  }
 ],
 "metadata": {
  "kernelspec": {
   "display_name": "BCIEnvironment",
   "language": "python",
   "name": "python3"
  },
  "language_info": {
   "codemirror_mode": {
    "name": "ipython",
    "version": 3
   },
   "file_extension": ".py",
   "mimetype": "text/x-python",
   "name": "python",
   "nbconvert_exporter": "python",
   "pygments_lexer": "ipython3",
   "version": "3.10.8"
  }
 },
 "nbformat": 4,
 "nbformat_minor": 2
}
